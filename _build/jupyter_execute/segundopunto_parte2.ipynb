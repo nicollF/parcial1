{
 "cells": [
  {
   "cell_type": "markdown",
   "metadata": {},
   "source": [
    "# **Punto 2 (parte 2)**"
   ]
  },
  {
   "cell_type": "markdown",
   "metadata": {},
   "source": [
    "# **Single-Cell pertubations**"
   ]
  },
  {
   "cell_type": "markdown",
   "metadata": {},
   "source": [
    "### Análisis exploratorio de datos"
   ]
  },
  {
   "cell_type": "markdown",
   "metadata": {},
   "source": [
    "##### **Resumen**"
   ]
  },
  {
   "cell_type": "markdown",
   "metadata": {},
   "source": [
    "La comprensión de cómo se expresan los genes y cómo la estructura del ADN afecta esa expresión es fundamental para descubrir cómo funcionan los procesos en los cuerpos humanos y para entender los mecanismos biológicos detrás de diversos problemas de salud y enfermedades. La ciencia está en constante avance, y es crucial combinar las herramientas que nos proporciona para obtener mejores resultados en la investigación y el conocimiento sobre la regulación genética y la función celular. Esto puede ayudarnos a lograr diagnósticos más precisos y tratamientos más efectivos."
   ]
  },
  {
   "cell_type": "markdown",
   "metadata": {},
   "source": [
    "#### **En que consiste**"
   ]
  },
  {
   "cell_type": "markdown",
   "metadata": {},
   "source": [
    "El análisis se enfoca en un conjunto de datos que consta de 9 datasets, cada uno con contenido diferente y destinado a distintos propósitos. Se centra en un conjunto de datos que incluye mediciones de expresión génica y accesibilidad a la cromatina. La integración de estos tipos de datos nos permite explorar cómo la estructura del ADN influye en la expresión de los genes y en diversas características que podemos identificar."
   ]
  },
  {
   "cell_type": "markdown",
   "metadata": {},
   "source": [
    "#### **Fuente de los datos**"
   ]
  },
  {
   "cell_type": "markdown",
   "metadata": {},
   "source": [
    "Los datos fueron obtenidos de una plataforma de investigación genómica, donde se recopilan y procesan datos mutiómicos de diversas muestras biológicas. Estos datos proporcionados, ayudan a los investigadores a estudiar la complejidad de la regulación genética en diferentes contextos. Por otro lado, fueron descargados desde la plataforma web *Kaggle*."
   ]
  },
  {
   "cell_type": "markdown",
   "metadata": {},
   "source": [
    "#### **Procedimiento del experimento**"
   ]
  },
  {
   "cell_type": "markdown",
   "metadata": {},
   "source": [
    "Se utilizaron células mononucleares de sangre periférica de donantes en placas de 96 pocillos, con controles positivos y negativos. Se asignaron 72 compuestos a los pocillos restantes.\n",
    "Cada pocillo contiene diferentes tipos de células, y se mide la expresión genética en aproximadamente 350 células.\n",
    "Por último, para calcular la expresión diferencial, se promedian los recuentos de expresión genética por tipo celular y se ajusta un modelo lineal, considerando factores técnicos como la biblioteca, la placa y el donante."
   ]
  },
  {
   "cell_type": "markdown",
   "metadata": {},
   "source": [
    "# Análisis Descriptivo de los Datos"
   ]
  },
  {
   "cell_type": "markdown",
   "metadata": {},
   "source": [
    "Como se dijo anteriormente, el problema propuesto, cuenta con 9 dataset que analizaremos y observaremos para obtener información detallada sobre ellos."
   ]
  },
  {
   "cell_type": "code",
   "execution_count": 2,
   "metadata": {},
   "outputs": [],
   "source": [
    "import warnings\n",
    "warnings.filterwarnings('ignore')\n",
    "import pandas as pd\n",
    "from matplotlib import pyplot as plt\n",
    "import seaborn as sns\n",
    "from pypalettes import load_cmap\n",
    "from matplotlib.colors import ListedColormap\n",
    "import numpy as np\n",
    "import warnings\n",
    "import squarify\n",
    "import statsmodels\n",
    "from statsmodels.stats.outliers_influence import variance_inflation_factor\n",
    "warnings.filterwarnings(\"ignore\", category=FutureWarning)\n"
   ]
  },
  {
   "cell_type": "markdown",
   "metadata": {},
   "source": [
    "### detrain (dataset)"
   ]
  },
  {
   "cell_type": "markdown",
   "metadata": {},
   "source": [
    "Este dataset contiene datos de expresión diferencial (proceso donde se activan diferentes genes en una célula), estas indican los cambios en la expresión de los genes luego de tratar las células con diferentes compuestos."
   ]
  },
  {
   "cell_type": "markdown",
   "metadata": {},
   "source": [
    "cargamos el dataset con la ayuda de la libreria `pandas`, para leer el archivo parquet."
   ]
  },
  {
   "cell_type": "code",
   "execution_count": 3,
   "metadata": {},
   "outputs": [],
   "source": [
    "detrain = pd.read_parquet(r'C:\\Users\\Usuario\\Downloads\\open-problems-single-cell-perturbations\\de_train.parquet')"
   ]
  },
  {
   "cell_type": "code",
   "execution_count": 3,
   "metadata": {},
   "outputs": [
    {
     "data": {
      "text/html": [
       "<div>\n",
       "<style scoped>\n",
       "    .dataframe tbody tr th:only-of-type {\n",
       "        vertical-align: middle;\n",
       "    }\n",
       "\n",
       "    .dataframe tbody tr th {\n",
       "        vertical-align: top;\n",
       "    }\n",
       "\n",
       "    .dataframe thead th {\n",
       "        text-align: right;\n",
       "    }\n",
       "</style>\n",
       "<table border=\"1\" class=\"dataframe\">\n",
       "  <thead>\n",
       "    <tr style=\"text-align: right;\">\n",
       "      <th></th>\n",
       "      <th>cell_type</th>\n",
       "      <th>sm_name</th>\n",
       "      <th>sm_lincs_id</th>\n",
       "      <th>SMILES</th>\n",
       "      <th>control</th>\n",
       "      <th>A1BG</th>\n",
       "      <th>A1BG-AS1</th>\n",
       "      <th>A2M</th>\n",
       "      <th>A2M-AS1</th>\n",
       "      <th>A2MP1</th>\n",
       "      <th>...</th>\n",
       "      <th>ZUP1</th>\n",
       "      <th>ZW10</th>\n",
       "      <th>ZWILCH</th>\n",
       "      <th>ZWINT</th>\n",
       "      <th>ZXDA</th>\n",
       "      <th>ZXDB</th>\n",
       "      <th>ZXDC</th>\n",
       "      <th>ZYG11B</th>\n",
       "      <th>ZYX</th>\n",
       "      <th>ZZEF1</th>\n",
       "    </tr>\n",
       "  </thead>\n",
       "  <tbody>\n",
       "    <tr>\n",
       "      <th>0</th>\n",
       "      <td>NK cells</td>\n",
       "      <td>Clotrimazole</td>\n",
       "      <td>LSM-5341</td>\n",
       "      <td>Clc1ccccc1C(c1ccccc1)(c1ccccc1)n1ccnc1</td>\n",
       "      <td>False</td>\n",
       "      <td>0.104720</td>\n",
       "      <td>-0.077524</td>\n",
       "      <td>-1.625596</td>\n",
       "      <td>-0.144545</td>\n",
       "      <td>0.143555</td>\n",
       "      <td>...</td>\n",
       "      <td>-0.227781</td>\n",
       "      <td>-0.010752</td>\n",
       "      <td>-0.023881</td>\n",
       "      <td>0.674536</td>\n",
       "      <td>-0.453068</td>\n",
       "      <td>0.005164</td>\n",
       "      <td>-0.094959</td>\n",
       "      <td>0.034127</td>\n",
       "      <td>0.221377</td>\n",
       "      <td>0.368755</td>\n",
       "    </tr>\n",
       "    <tr>\n",
       "      <th>1</th>\n",
       "      <td>T cells CD4+</td>\n",
       "      <td>Clotrimazole</td>\n",
       "      <td>LSM-5341</td>\n",
       "      <td>Clc1ccccc1C(c1ccccc1)(c1ccccc1)n1ccnc1</td>\n",
       "      <td>False</td>\n",
       "      <td>0.915953</td>\n",
       "      <td>-0.884380</td>\n",
       "      <td>0.371834</td>\n",
       "      <td>-0.081677</td>\n",
       "      <td>-0.498266</td>\n",
       "      <td>...</td>\n",
       "      <td>-0.494985</td>\n",
       "      <td>-0.303419</td>\n",
       "      <td>0.304955</td>\n",
       "      <td>-0.333905</td>\n",
       "      <td>-0.315516</td>\n",
       "      <td>-0.369626</td>\n",
       "      <td>-0.095079</td>\n",
       "      <td>0.704780</td>\n",
       "      <td>1.096702</td>\n",
       "      <td>-0.869887</td>\n",
       "    </tr>\n",
       "    <tr>\n",
       "      <th>2</th>\n",
       "      <td>T cells CD8+</td>\n",
       "      <td>Clotrimazole</td>\n",
       "      <td>LSM-5341</td>\n",
       "      <td>Clc1ccccc1C(c1ccccc1)(c1ccccc1)n1ccnc1</td>\n",
       "      <td>False</td>\n",
       "      <td>-0.387721</td>\n",
       "      <td>-0.305378</td>\n",
       "      <td>0.567777</td>\n",
       "      <td>0.303895</td>\n",
       "      <td>-0.022653</td>\n",
       "      <td>...</td>\n",
       "      <td>-0.119422</td>\n",
       "      <td>-0.033608</td>\n",
       "      <td>-0.153123</td>\n",
       "      <td>0.183597</td>\n",
       "      <td>-0.555678</td>\n",
       "      <td>-1.494789</td>\n",
       "      <td>-0.213550</td>\n",
       "      <td>0.415768</td>\n",
       "      <td>0.078439</td>\n",
       "      <td>-0.259365</td>\n",
       "    </tr>\n",
       "    <tr>\n",
       "      <th>3</th>\n",
       "      <td>T regulatory cells</td>\n",
       "      <td>Clotrimazole</td>\n",
       "      <td>LSM-5341</td>\n",
       "      <td>Clc1ccccc1C(c1ccccc1)(c1ccccc1)n1ccnc1</td>\n",
       "      <td>False</td>\n",
       "      <td>0.232893</td>\n",
       "      <td>0.129029</td>\n",
       "      <td>0.336897</td>\n",
       "      <td>0.486946</td>\n",
       "      <td>0.767661</td>\n",
       "      <td>...</td>\n",
       "      <td>0.451679</td>\n",
       "      <td>0.704643</td>\n",
       "      <td>0.015468</td>\n",
       "      <td>-0.103868</td>\n",
       "      <td>0.865027</td>\n",
       "      <td>0.189114</td>\n",
       "      <td>0.224700</td>\n",
       "      <td>-0.048233</td>\n",
       "      <td>0.216139</td>\n",
       "      <td>-0.085024</td>\n",
       "    </tr>\n",
       "    <tr>\n",
       "      <th>4</th>\n",
       "      <td>NK cells</td>\n",
       "      <td>Mometasone Furoate</td>\n",
       "      <td>LSM-3349</td>\n",
       "      <td>C[C@@H]1C[C@H]2[C@@H]3CCC4=CC(=O)C=C[C@]4(C)[C...</td>\n",
       "      <td>False</td>\n",
       "      <td>4.290652</td>\n",
       "      <td>-0.063864</td>\n",
       "      <td>-0.017443</td>\n",
       "      <td>-0.541154</td>\n",
       "      <td>0.570982</td>\n",
       "      <td>...</td>\n",
       "      <td>0.758474</td>\n",
       "      <td>0.510762</td>\n",
       "      <td>0.607401</td>\n",
       "      <td>-0.123059</td>\n",
       "      <td>0.214366</td>\n",
       "      <td>0.487838</td>\n",
       "      <td>-0.819775</td>\n",
       "      <td>0.112365</td>\n",
       "      <td>-0.122193</td>\n",
       "      <td>0.676629</td>\n",
       "    </tr>\n",
       "  </tbody>\n",
       "</table>\n",
       "<p>5 rows × 18216 columns</p>\n",
       "</div>"
      ],
      "text/plain": [
       "            cell_type             sm_name sm_lincs_id  \\\n",
       "0            NK cells        Clotrimazole    LSM-5341   \n",
       "1        T cells CD4+        Clotrimazole    LSM-5341   \n",
       "2        T cells CD8+        Clotrimazole    LSM-5341   \n",
       "3  T regulatory cells        Clotrimazole    LSM-5341   \n",
       "4            NK cells  Mometasone Furoate    LSM-3349   \n",
       "\n",
       "                                              SMILES  control      A1BG  \\\n",
       "0             Clc1ccccc1C(c1ccccc1)(c1ccccc1)n1ccnc1    False  0.104720   \n",
       "1             Clc1ccccc1C(c1ccccc1)(c1ccccc1)n1ccnc1    False  0.915953   \n",
       "2             Clc1ccccc1C(c1ccccc1)(c1ccccc1)n1ccnc1    False -0.387721   \n",
       "3             Clc1ccccc1C(c1ccccc1)(c1ccccc1)n1ccnc1    False  0.232893   \n",
       "4  C[C@@H]1C[C@H]2[C@@H]3CCC4=CC(=O)C=C[C@]4(C)[C...    False  4.290652   \n",
       "\n",
       "   A1BG-AS1       A2M   A2M-AS1     A2MP1  ...      ZUP1      ZW10    ZWILCH  \\\n",
       "0 -0.077524 -1.625596 -0.144545  0.143555  ... -0.227781 -0.010752 -0.023881   \n",
       "1 -0.884380  0.371834 -0.081677 -0.498266  ... -0.494985 -0.303419  0.304955   \n",
       "2 -0.305378  0.567777  0.303895 -0.022653  ... -0.119422 -0.033608 -0.153123   \n",
       "3  0.129029  0.336897  0.486946  0.767661  ...  0.451679  0.704643  0.015468   \n",
       "4 -0.063864 -0.017443 -0.541154  0.570982  ...  0.758474  0.510762  0.607401   \n",
       "\n",
       "      ZWINT      ZXDA      ZXDB      ZXDC    ZYG11B       ZYX     ZZEF1  \n",
       "0  0.674536 -0.453068  0.005164 -0.094959  0.034127  0.221377  0.368755  \n",
       "1 -0.333905 -0.315516 -0.369626 -0.095079  0.704780  1.096702 -0.869887  \n",
       "2  0.183597 -0.555678 -1.494789 -0.213550  0.415768  0.078439 -0.259365  \n",
       "3 -0.103868  0.865027  0.189114  0.224700 -0.048233  0.216139 -0.085024  \n",
       "4 -0.123059  0.214366  0.487838 -0.819775  0.112365 -0.122193  0.676629  \n",
       "\n",
       "[5 rows x 18216 columns]"
      ]
     },
     "execution_count": 3,
     "metadata": {},
     "output_type": "execute_result"
    }
   ],
   "source": [
    "detrain.head()"
   ]
  },
  {
   "cell_type": "code",
   "execution_count": 4,
   "metadata": {},
   "outputs": [
    {
     "data": {
      "text/plain": [
       "(614, 18216)"
      ]
     },
     "execution_count": 4,
     "metadata": {},
     "output_type": "execute_result"
    }
   ],
   "source": [
    "detrain.shape"
   ]
  },
  {
   "cell_type": "markdown",
   "metadata": {},
   "source": [
    "La base de datos `detrain` cuenta con 614 filas y 18,216 columnas."
   ]
  },
  {
   "cell_type": "markdown",
   "metadata": {},
   "source": [
    "Además, cuenta con diferentes variables, A continuación, mostraremos el tipo de cada una de ellas."
   ]
  },
  {
   "cell_type": "code",
   "execution_count": 5,
   "metadata": {},
   "outputs": [
    {
     "data": {
      "text/plain": [
       "cell_type       object\n",
       "sm_name         object\n",
       "sm_lincs_id     object\n",
       "SMILES          object\n",
       "control           bool\n",
       "                ...   \n",
       "ZXDB           float64\n",
       "ZXDC           float64\n",
       "ZYG11B         float64\n",
       "ZYX            float64\n",
       "ZZEF1          float64\n",
       "Length: 18216, dtype: object"
      ]
     },
     "execution_count": 5,
     "metadata": {},
     "output_type": "execute_result"
    }
   ],
   "source": [
    "detrain.dtypes"
   ]
  },
  {
   "cell_type": "markdown",
   "metadata": {},
   "source": [
    "Podemos observar, que **cell_type**, **sm_name**, **sm_lincs_id**, **SMILES**, son variables categóricas, **control** es un booleano, y el resto de variables del dataset son numéricas, que corresponden a los genes de nuestro interés."
   ]
  },
  {
   "cell_type": "code",
   "execution_count": 6,
   "metadata": {},
   "outputs": [
    {
     "data": {
      "text/html": [
       "<div>\n",
       "<style scoped>\n",
       "    .dataframe tbody tr th:only-of-type {\n",
       "        vertical-align: middle;\n",
       "    }\n",
       "\n",
       "    .dataframe tbody tr th {\n",
       "        vertical-align: top;\n",
       "    }\n",
       "\n",
       "    .dataframe thead th {\n",
       "        text-align: right;\n",
       "    }\n",
       "</style>\n",
       "<table border=\"1\" class=\"dataframe\">\n",
       "  <thead>\n",
       "    <tr style=\"text-align: right;\">\n",
       "      <th></th>\n",
       "      <th>A1BG</th>\n",
       "      <th>A1BG-AS1</th>\n",
       "      <th>A2M</th>\n",
       "      <th>A2M-AS1</th>\n",
       "      <th>A2MP1</th>\n",
       "      <th>A4GALT</th>\n",
       "      <th>AAAS</th>\n",
       "      <th>AACS</th>\n",
       "      <th>AAGAB</th>\n",
       "      <th>AAK1</th>\n",
       "      <th>...</th>\n",
       "      <th>ZUP1</th>\n",
       "      <th>ZW10</th>\n",
       "      <th>ZWILCH</th>\n",
       "      <th>ZWINT</th>\n",
       "      <th>ZXDA</th>\n",
       "      <th>ZXDB</th>\n",
       "      <th>ZXDC</th>\n",
       "      <th>ZYG11B</th>\n",
       "      <th>ZYX</th>\n",
       "      <th>ZZEF1</th>\n",
       "    </tr>\n",
       "  </thead>\n",
       "  <tbody>\n",
       "    <tr>\n",
       "      <th>count</th>\n",
       "      <td>614.000000</td>\n",
       "      <td>614.000000</td>\n",
       "      <td>614.000000</td>\n",
       "      <td>614.000000</td>\n",
       "      <td>614.000000</td>\n",
       "      <td>614.000000</td>\n",
       "      <td>614.000000</td>\n",
       "      <td>614.000000</td>\n",
       "      <td>614.000000</td>\n",
       "      <td>614.000000</td>\n",
       "      <td>...</td>\n",
       "      <td>614.000000</td>\n",
       "      <td>614.000000</td>\n",
       "      <td>614.000000</td>\n",
       "      <td>614.000000</td>\n",
       "      <td>614.000000</td>\n",
       "      <td>614.000000</td>\n",
       "      <td>614.000000</td>\n",
       "      <td>614.000000</td>\n",
       "      <td>614.000000</td>\n",
       "      <td>614.000000</td>\n",
       "    </tr>\n",
       "    <tr>\n",
       "      <th>mean</th>\n",
       "      <td>0.366769</td>\n",
       "      <td>0.250951</td>\n",
       "      <td>0.148259</td>\n",
       "      <td>0.155733</td>\n",
       "      <td>0.684275</td>\n",
       "      <td>0.946273</td>\n",
       "      <td>0.000582</td>\n",
       "      <td>0.348203</td>\n",
       "      <td>0.009424</td>\n",
       "      <td>0.062662</td>\n",
       "      <td>...</td>\n",
       "      <td>0.071179</td>\n",
       "      <td>0.159252</td>\n",
       "      <td>0.018584</td>\n",
       "      <td>0.267114</td>\n",
       "      <td>0.497043</td>\n",
       "      <td>0.382672</td>\n",
       "      <td>0.240726</td>\n",
       "      <td>0.161087</td>\n",
       "      <td>-0.160735</td>\n",
       "      <td>-0.071255</td>\n",
       "    </tr>\n",
       "    <tr>\n",
       "      <th>std</th>\n",
       "      <td>1.634697</td>\n",
       "      <td>1.188660</td>\n",
       "      <td>2.275410</td>\n",
       "      <td>2.184095</td>\n",
       "      <td>3.189206</td>\n",
       "      <td>3.826391</td>\n",
       "      <td>0.703410</td>\n",
       "      <td>1.259422</td>\n",
       "      <td>0.952243</td>\n",
       "      <td>1.237806</td>\n",
       "      <td>...</td>\n",
       "      <td>1.028842</td>\n",
       "      <td>1.128245</td>\n",
       "      <td>1.333236</td>\n",
       "      <td>1.439952</td>\n",
       "      <td>1.691722</td>\n",
       "      <td>1.430553</td>\n",
       "      <td>0.918039</td>\n",
       "      <td>0.779918</td>\n",
       "      <td>0.932961</td>\n",
       "      <td>0.748377</td>\n",
       "    </tr>\n",
       "    <tr>\n",
       "      <th>min</th>\n",
       "      <td>-3.258689</td>\n",
       "      <td>-4.067518</td>\n",
       "      <td>-28.552191</td>\n",
       "      <td>-17.801989</td>\n",
       "      <td>-6.378904</td>\n",
       "      <td>-6.908058</td>\n",
       "      <td>-3.167504</td>\n",
       "      <td>-2.825505</td>\n",
       "      <td>-3.654218</td>\n",
       "      <td>-8.042101</td>\n",
       "      <td>...</td>\n",
       "      <td>-4.309438</td>\n",
       "      <td>-4.276411</td>\n",
       "      <td>-21.273505</td>\n",
       "      <td>-5.520507</td>\n",
       "      <td>-6.780020</td>\n",
       "      <td>-2.617712</td>\n",
       "      <td>-8.310726</td>\n",
       "      <td>-3.456731</td>\n",
       "      <td>-7.189487</td>\n",
       "      <td>-4.819105</td>\n",
       "    </tr>\n",
       "    <tr>\n",
       "      <th>25%</th>\n",
       "      <td>-0.215161</td>\n",
       "      <td>-0.267728</td>\n",
       "      <td>-0.230129</td>\n",
       "      <td>-0.229460</td>\n",
       "      <td>-0.190989</td>\n",
       "      <td>-0.123963</td>\n",
       "      <td>-0.261792</td>\n",
       "      <td>-0.197019</td>\n",
       "      <td>-0.356774</td>\n",
       "      <td>-0.214164</td>\n",
       "      <td>...</td>\n",
       "      <td>-0.349490</td>\n",
       "      <td>-0.289498</td>\n",
       "      <td>-0.421265</td>\n",
       "      <td>-0.275030</td>\n",
       "      <td>-0.119912</td>\n",
       "      <td>-0.135779</td>\n",
       "      <td>-0.141982</td>\n",
       "      <td>-0.169364</td>\n",
       "      <td>-0.479099</td>\n",
       "      <td>-0.402733</td>\n",
       "    </tr>\n",
       "    <tr>\n",
       "      <th>50%</th>\n",
       "      <td>0.082722</td>\n",
       "      <td>0.102076</td>\n",
       "      <td>0.044717</td>\n",
       "      <td>0.036156</td>\n",
       "      <td>0.116411</td>\n",
       "      <td>0.131515</td>\n",
       "      <td>0.009045</td>\n",
       "      <td>0.144223</td>\n",
       "      <td>-0.028306</td>\n",
       "      <td>0.068134</td>\n",
       "      <td>...</td>\n",
       "      <td>0.010186</td>\n",
       "      <td>0.063539</td>\n",
       "      <td>-0.010158</td>\n",
       "      <td>0.065780</td>\n",
       "      <td>0.148876</td>\n",
       "      <td>0.145279</td>\n",
       "      <td>0.137559</td>\n",
       "      <td>0.062804</td>\n",
       "      <td>-0.083260</td>\n",
       "      <td>-0.058601</td>\n",
       "    </tr>\n",
       "    <tr>\n",
       "      <th>75%</th>\n",
       "      <td>0.528015</td>\n",
       "      <td>0.523162</td>\n",
       "      <td>0.405858</td>\n",
       "      <td>0.532216</td>\n",
       "      <td>0.616725</td>\n",
       "      <td>0.580870</td>\n",
       "      <td>0.268029</td>\n",
       "      <td>0.560221</td>\n",
       "      <td>0.253911</td>\n",
       "      <td>0.413308</td>\n",
       "      <td>...</td>\n",
       "      <td>0.330117</td>\n",
       "      <td>0.479763</td>\n",
       "      <td>0.361876</td>\n",
       "      <td>0.482989</td>\n",
       "      <td>0.683587</td>\n",
       "      <td>0.600652</td>\n",
       "      <td>0.510566</td>\n",
       "      <td>0.487592</td>\n",
       "      <td>0.266170</td>\n",
       "      <td>0.252387</td>\n",
       "    </tr>\n",
       "    <tr>\n",
       "      <th>max</th>\n",
       "      <td>22.085428</td>\n",
       "      <td>14.421991</td>\n",
       "      <td>27.557166</td>\n",
       "      <td>27.603715</td>\n",
       "      <td>35.278040</td>\n",
       "      <td>34.785942</td>\n",
       "      <td>5.079223</td>\n",
       "      <td>15.589494</td>\n",
       "      <td>10.855080</td>\n",
       "      <td>6.518868</td>\n",
       "      <td>...</td>\n",
       "      <td>10.803264</td>\n",
       "      <td>15.959706</td>\n",
       "      <td>10.649018</td>\n",
       "      <td>17.231287</td>\n",
       "      <td>23.721492</td>\n",
       "      <td>23.089832</td>\n",
       "      <td>10.844942</td>\n",
       "      <td>4.822008</td>\n",
       "      <td>7.826692</td>\n",
       "      <td>3.534737</td>\n",
       "    </tr>\n",
       "  </tbody>\n",
       "</table>\n",
       "<p>8 rows × 18211 columns</p>\n",
       "</div>"
      ],
      "text/plain": [
       "             A1BG    A1BG-AS1         A2M     A2M-AS1       A2MP1      A4GALT  \\\n",
       "count  614.000000  614.000000  614.000000  614.000000  614.000000  614.000000   \n",
       "mean     0.366769    0.250951    0.148259    0.155733    0.684275    0.946273   \n",
       "std      1.634697    1.188660    2.275410    2.184095    3.189206    3.826391   \n",
       "min     -3.258689   -4.067518  -28.552191  -17.801989   -6.378904   -6.908058   \n",
       "25%     -0.215161   -0.267728   -0.230129   -0.229460   -0.190989   -0.123963   \n",
       "50%      0.082722    0.102076    0.044717    0.036156    0.116411    0.131515   \n",
       "75%      0.528015    0.523162    0.405858    0.532216    0.616725    0.580870   \n",
       "max     22.085428   14.421991   27.557166   27.603715   35.278040   34.785942   \n",
       "\n",
       "             AAAS        AACS       AAGAB        AAK1  ...        ZUP1  \\\n",
       "count  614.000000  614.000000  614.000000  614.000000  ...  614.000000   \n",
       "mean     0.000582    0.348203    0.009424    0.062662  ...    0.071179   \n",
       "std      0.703410    1.259422    0.952243    1.237806  ...    1.028842   \n",
       "min     -3.167504   -2.825505   -3.654218   -8.042101  ...   -4.309438   \n",
       "25%     -0.261792   -0.197019   -0.356774   -0.214164  ...   -0.349490   \n",
       "50%      0.009045    0.144223   -0.028306    0.068134  ...    0.010186   \n",
       "75%      0.268029    0.560221    0.253911    0.413308  ...    0.330117   \n",
       "max      5.079223   15.589494   10.855080    6.518868  ...   10.803264   \n",
       "\n",
       "             ZW10      ZWILCH       ZWINT        ZXDA        ZXDB        ZXDC  \\\n",
       "count  614.000000  614.000000  614.000000  614.000000  614.000000  614.000000   \n",
       "mean     0.159252    0.018584    0.267114    0.497043    0.382672    0.240726   \n",
       "std      1.128245    1.333236    1.439952    1.691722    1.430553    0.918039   \n",
       "min     -4.276411  -21.273505   -5.520507   -6.780020   -2.617712   -8.310726   \n",
       "25%     -0.289498   -0.421265   -0.275030   -0.119912   -0.135779   -0.141982   \n",
       "50%      0.063539   -0.010158    0.065780    0.148876    0.145279    0.137559   \n",
       "75%      0.479763    0.361876    0.482989    0.683587    0.600652    0.510566   \n",
       "max     15.959706   10.649018   17.231287   23.721492   23.089832   10.844942   \n",
       "\n",
       "           ZYG11B         ZYX       ZZEF1  \n",
       "count  614.000000  614.000000  614.000000  \n",
       "mean     0.161087   -0.160735   -0.071255  \n",
       "std      0.779918    0.932961    0.748377  \n",
       "min     -3.456731   -7.189487   -4.819105  \n",
       "25%     -0.169364   -0.479099   -0.402733  \n",
       "50%      0.062804   -0.083260   -0.058601  \n",
       "75%      0.487592    0.266170    0.252387  \n",
       "max      4.822008    7.826692    3.534737  \n",
       "\n",
       "[8 rows x 18211 columns]"
      ]
     },
     "execution_count": 6,
     "metadata": {},
     "output_type": "execute_result"
    }
   ],
   "source": [
    "detrain.describe()"
   ]
  },
  {
   "cell_type": "markdown",
   "metadata": {},
   "source": [
    "Luego de efectuar el código anterior, podemos decir que **no hay datos faltantes** en los genes de estudio, ya que, todos cuentan con 614 observaciónes, que es el tamaño de las filas del dataset."
   ]
  },
  {
   "cell_type": "markdown",
   "metadata": {},
   "source": [
    "De este dataset podemos analizar la variable `control` que nos indica si esta instancia fue utilizada como control o no."
   ]
  },
  {
   "cell_type": "code",
   "execution_count": 7,
   "metadata": {},
   "outputs": [
    {
     "name": "stdout",
     "output_type": "stream",
     "text": [
      "control\n",
      "False    602\n",
      "True      12\n",
      "Name: count, dtype: int64\n"
     ]
    }
   ],
   "source": [
    "controlnum = detrain['control'].value_counts()\n",
    "print(controlnum)"
   ]
  },
  {
   "cell_type": "code",
   "execution_count": 8,
   "metadata": {},
   "outputs": [
    {
     "name": "stderr",
     "output_type": "stream",
     "text": [
      "C:\\Users\\Usuario\\AppData\\Local\\Temp\\ipykernel_7764\\2955761791.py:2: UserWarning: The palette list has more values (6) than needed (2), which may not be intended.\n",
      "  sns.countplot(x=\"control\", data=detrain, palette=cmap.colors)\n"
     ]
    },
    {
     "data": {
      "image/png": "[encoded data removed]",
      "text/plain": [
       "<Figure size 640x480 with 1 Axes>"
      ]
     },
     "metadata": {},
     "output_type": "display_data"
    }
   ],
   "source": [
    "cmap = load_cmap('Amethyst')\n",
    "sns.countplot(x=\"control\", data=detrain, palette=cmap.colors)\n",
    "plt.title(\"Distribución de Control\", fontsize=16, fontweight='bold')\n",
    "plt.xlabel(\"Control\", fontsize=14)\n",
    "plt.ylabel(\"Cantidad\", fontsize=14)\n",
    "plt.show()"
   ]
  },
  {
   "cell_type": "markdown",
   "metadata": {},
   "source": [
    "Realizamos diagramas de cajas y bigotes para conocer la distribución y más información acerca de los genes, debido a que contamos con más de 18mil genes, decidimos graficar solo una parte para una mejor visualización de ellos.\n"
   ]
  },
  {
   "cell_type": "code",
   "execution_count": 4,
   "metadata": {},
   "outputs": [],
   "source": [
    "\n",
    "genes_x = detrain.iloc[:, 5:] "
   ]
  },
  {
   "cell_type": "code",
   "execution_count": 12,
   "metadata": {},
   "outputs": [
    {
     "data": {
      "image/png": "[encoded data removed]",
      "text/plain": [
       "<Figure size 1500x800 with 1 Axes>"
      ]
     },
     "metadata": {},
     "output_type": "display_data"
    }
   ],
   "source": [
    "# Seleccionar las primeras 20 columnas del DataFrame\n",
    "df_subset = genes_x.iloc[:, :20]\n",
    "\n",
    "# Crear el boxplot\n",
    "plt.figure(figsize=(15, 8))  # Ajusta el tamaño del gráfico si es necesario\n",
    "sns.boxplot(data=df_subset)\n",
    "\n",
    "# Mostrar el gráfico\n",
    "plt.xticks(rotation=90)  # Rotar los nombres de las variables si es necesario\n",
    "plt.show()"
   ]
  },
  {
   "cell_type": "markdown",
   "metadata": {},
   "source": [
    "Podemos inferir que la mayoria de genes cuentan con datos atípicos, y la mayoria de los valores oscilan entre -10 y 30."
   ]
  },
  {
   "cell_type": "markdown",
   "metadata": {},
   "source": [
    "### adatatrain (dataset)"
   ]
  },
  {
   "cell_type": "code",
   "execution_count": 22,
   "metadata": {},
   "outputs": [],
   "source": [
    "adatatrain = pd.read_parquet(r'C:\\Users\\Usuario\\Downloads\\open-problems-single-cell-perturbations\\adata_train.parquet')"
   ]
  },
  {
   "cell_type": "code",
   "execution_count": 10,
   "metadata": {},
   "outputs": [
    {
     "data": {
      "text/plain": [
       "(416442312, 4)"
      ]
     },
     "execution_count": 10,
     "metadata": {},
     "output_type": "execute_result"
    }
   ],
   "source": [
    "adatatrain.shape"
   ]
  },
  {
   "cell_type": "markdown",
   "metadata": {},
   "source": [
    "La base de datos `adatatrain` contiente un total de 416'442.312 filas y 4 columnas."
   ]
  },
  {
   "cell_type": "code",
   "execution_count": 11,
   "metadata": {},
   "outputs": [
    {
     "data": {
      "text/html": [
       "<div>\n",
       "<style scoped>\n",
       "    .dataframe tbody tr th:only-of-type {\n",
       "        vertical-align: middle;\n",
       "    }\n",
       "\n",
       "    .dataframe tbody tr th {\n",
       "        vertical-align: top;\n",
       "    }\n",
       "\n",
       "    .dataframe thead th {\n",
       "        text-align: right;\n",
       "    }\n",
       "</style>\n",
       "<table border=\"1\" class=\"dataframe\">\n",
       "  <thead>\n",
       "    <tr style=\"text-align: right;\">\n",
       "      <th></th>\n",
       "      <th>obs_id</th>\n",
       "      <th>gene</th>\n",
       "      <th>count</th>\n",
       "      <th>normalized_count</th>\n",
       "    </tr>\n",
       "  </thead>\n",
       "  <tbody>\n",
       "    <tr>\n",
       "      <th>0</th>\n",
       "      <td>000006a87ba75b72</td>\n",
       "      <td>AATF</td>\n",
       "      <td>1</td>\n",
       "      <td>5.567933</td>\n",
       "    </tr>\n",
       "    <tr>\n",
       "      <th>1</th>\n",
       "      <td>000006a87ba75b72</td>\n",
       "      <td>ABHD12</td>\n",
       "      <td>1</td>\n",
       "      <td>5.567933</td>\n",
       "    </tr>\n",
       "    <tr>\n",
       "      <th>2</th>\n",
       "      <td>000006a87ba75b72</td>\n",
       "      <td>ABHD3</td>\n",
       "      <td>1</td>\n",
       "      <td>5.567933</td>\n",
       "    </tr>\n",
       "    <tr>\n",
       "      <th>3</th>\n",
       "      <td>000006a87ba75b72</td>\n",
       "      <td>AC004687.1</td>\n",
       "      <td>1</td>\n",
       "      <td>5.567933</td>\n",
       "    </tr>\n",
       "    <tr>\n",
       "      <th>4</th>\n",
       "      <td>000006a87ba75b72</td>\n",
       "      <td>AC009779.2</td>\n",
       "      <td>1</td>\n",
       "      <td>5.567933</td>\n",
       "    </tr>\n",
       "  </tbody>\n",
       "</table>\n",
       "</div>"
      ],
      "text/plain": [
       "             obs_id        gene  count  normalized_count\n",
       "0  000006a87ba75b72        AATF      1          5.567933\n",
       "1  000006a87ba75b72      ABHD12      1          5.567933\n",
       "2  000006a87ba75b72       ABHD3      1          5.567933\n",
       "3  000006a87ba75b72  AC004687.1      1          5.567933\n",
       "4  000006a87ba75b72  AC009779.2      1          5.567933"
      ]
     },
     "execution_count": 11,
     "metadata": {},
     "output_type": "execute_result"
    }
   ],
   "source": [
    "adatatrain.head()"
   ]
  },
  {
   "cell_type": "code",
   "execution_count": 12,
   "metadata": {},
   "outputs": [
    {
     "data": {
      "text/plain": [
       "obs_id               object\n",
       "gene                 object\n",
       "count                uint16\n",
       "normalized_count    float32\n",
       "dtype: object"
      ]
     },
     "execution_count": 12,
     "metadata": {},
     "output_type": "execute_result"
    }
   ],
   "source": [
    "adatatrain.dtypes"
   ]
  },
  {
   "cell_type": "markdown",
   "metadata": {},
   "source": [
    "Está compuesta por 4 variables, **obs_id,** **gene**, son categóricas, mientras que **count** y **normalized_count** son numéricas."
   ]
  },
  {
   "cell_type": "code",
   "execution_count": 13,
   "metadata": {},
   "outputs": [
    {
     "data": {
      "text/html": [
       "<div>\n",
       "<style scoped>\n",
       "    .dataframe tbody tr th:only-of-type {\n",
       "        vertical-align: middle;\n",
       "    }\n",
       "\n",
       "    .dataframe tbody tr th {\n",
       "        vertical-align: top;\n",
       "    }\n",
       "\n",
       "    .dataframe thead th {\n",
       "        text-align: right;\n",
       "    }\n",
       "</style>\n",
       "<table border=\"1\" class=\"dataframe\">\n",
       "  <thead>\n",
       "    <tr style=\"text-align: right;\">\n",
       "      <th></th>\n",
       "      <th>count</th>\n",
       "      <th>normalized_count</th>\n",
       "    </tr>\n",
       "  </thead>\n",
       "  <tbody>\n",
       "    <tr>\n",
       "      <th>count</th>\n",
       "      <td>4.164423e+08</td>\n",
       "      <td>4.164423e+08</td>\n",
       "    </tr>\n",
       "    <tr>\n",
       "      <th>mean</th>\n",
       "      <td>3.548138e+00</td>\n",
       "      <td>5.518731e+00</td>\n",
       "    </tr>\n",
       "    <tr>\n",
       "      <th>std</th>\n",
       "      <td>1.497948e+01</td>\n",
       "      <td>9.743412e-01</td>\n",
       "    </tr>\n",
       "    <tr>\n",
       "      <th>min</th>\n",
       "      <td>1.000000e+00</td>\n",
       "      <td>3.536117e+00</td>\n",
       "    </tr>\n",
       "    <tr>\n",
       "      <th>25%</th>\n",
       "      <td>1.000000e+00</td>\n",
       "      <td>5.041668e+00</td>\n",
       "    </tr>\n",
       "    <tr>\n",
       "      <th>50%</th>\n",
       "      <td>1.000000e+00</td>\n",
       "      <td>5.344550e+00</td>\n",
       "    </tr>\n",
       "    <tr>\n",
       "      <th>75%</th>\n",
       "      <td>2.000000e+00</td>\n",
       "      <td>5.825185e+00</td>\n",
       "    </tr>\n",
       "    <tr>\n",
       "      <th>max</th>\n",
       "      <td>1.471000e+04</td>\n",
       "      <td>1.350578e+01</td>\n",
       "    </tr>\n",
       "  </tbody>\n",
       "</table>\n",
       "</div>"
      ],
      "text/plain": [
       "              count  normalized_count\n",
       "count  4.164423e+08      4.164423e+08\n",
       "mean   3.548138e+00      5.518731e+00\n",
       "std    1.497948e+01      9.743412e-01\n",
       "min    1.000000e+00      3.536117e+00\n",
       "25%    1.000000e+00      5.041668e+00\n",
       "50%    1.000000e+00      5.344550e+00\n",
       "75%    2.000000e+00      5.825185e+00\n",
       "max    1.471000e+04      1.350578e+01"
      ]
     },
     "execution_count": 13,
     "metadata": {},
     "output_type": "execute_result"
    }
   ],
   "source": [
    "adatatrain.describe()"
   ]
  },
  {
   "cell_type": "markdown",
   "metadata": {},
   "source": [
    "### adataobsmeta (dataset)"
   ]
  },
  {
   "cell_type": "code",
   "execution_count": 5,
   "metadata": {},
   "outputs": [],
   "source": [
    "adataobsmeta = pd.read_csv(r'C:\\Users\\Usuario\\Downloads\\open-problems-single-cell-perturbations\\adata_obs_meta.csv')"
   ]
  },
  {
   "cell_type": "markdown",
   "metadata": {},
   "source": [
    "Esta base de datos nos comparte más información técnica del experimento realizado."
   ]
  },
  {
   "cell_type": "code",
   "execution_count": 15,
   "metadata": {},
   "outputs": [
    {
     "data": {
      "text/html": [
       "<div>\n",
       "<style scoped>\n",
       "    .dataframe tbody tr th:only-of-type {\n",
       "        vertical-align: middle;\n",
       "    }\n",
       "\n",
       "    .dataframe tbody tr th {\n",
       "        vertical-align: top;\n",
       "    }\n",
       "\n",
       "    .dataframe thead th {\n",
       "        text-align: right;\n",
       "    }\n",
       "</style>\n",
       "<table border=\"1\" class=\"dataframe\">\n",
       "  <thead>\n",
       "    <tr style=\"text-align: right;\">\n",
       "      <th></th>\n",
       "      <th>obs_id</th>\n",
       "      <th>library_id</th>\n",
       "      <th>plate_name</th>\n",
       "      <th>well</th>\n",
       "      <th>row</th>\n",
       "      <th>col</th>\n",
       "      <th>cell_id</th>\n",
       "      <th>donor_id</th>\n",
       "      <th>cell_type</th>\n",
       "      <th>sm_lincs_id</th>\n",
       "      <th>sm_name</th>\n",
       "      <th>SMILES</th>\n",
       "      <th>dose_uM</th>\n",
       "      <th>timepoint_hr</th>\n",
       "      <th>control</th>\n",
       "    </tr>\n",
       "  </thead>\n",
       "  <tbody>\n",
       "    <tr>\n",
       "      <th>0</th>\n",
       "      <td>000006a87ba75b72</td>\n",
       "      <td>library_4</td>\n",
       "      <td>plate_4</td>\n",
       "      <td>F7</td>\n",
       "      <td>F</td>\n",
       "      <td>7</td>\n",
       "      <td>PBMC</td>\n",
       "      <td>donor_2</td>\n",
       "      <td>T cells CD4+</td>\n",
       "      <td>LSM-4944</td>\n",
       "      <td>MLN 2238</td>\n",
       "      <td>CC(C)C[C@H](NC(=O)CNC(=O)c1cc(Cl)ccc1Cl)B(O)O</td>\n",
       "      <td>1.0</td>\n",
       "      <td>24</td>\n",
       "      <td>False</td>\n",
       "    </tr>\n",
       "    <tr>\n",
       "      <th>1</th>\n",
       "      <td>0000233976e3cd37</td>\n",
       "      <td>library_0</td>\n",
       "      <td>plate_3</td>\n",
       "      <td>D4</td>\n",
       "      <td>D</td>\n",
       "      <td>4</td>\n",
       "      <td>PBMC</td>\n",
       "      <td>donor_1</td>\n",
       "      <td>T cells CD4+</td>\n",
       "      <td>LSM-46203</td>\n",
       "      <td>BMS-265246</td>\n",
       "      <td>CCCCOc1c(C(=O)c2c(F)cc(C)cc2F)cnc2[nH]ncc12</td>\n",
       "      <td>1.0</td>\n",
       "      <td>24</td>\n",
       "      <td>False</td>\n",
       "    </tr>\n",
       "    <tr>\n",
       "      <th>2</th>\n",
       "      <td>0001533c5e876362</td>\n",
       "      <td>library_2</td>\n",
       "      <td>plate_0</td>\n",
       "      <td>B11</td>\n",
       "      <td>B</td>\n",
       "      <td>11</td>\n",
       "      <td>PBMC</td>\n",
       "      <td>donor_0</td>\n",
       "      <td>T regulatory cells</td>\n",
       "      <td>LSM-45663</td>\n",
       "      <td>Resminostat</td>\n",
       "      <td>CN(C)Cc1ccc(S(=O)(=O)n2ccc(/C=C/C(=O)NO)c2)cc1</td>\n",
       "      <td>1.0</td>\n",
       "      <td>24</td>\n",
       "      <td>False</td>\n",
       "    </tr>\n",
       "    <tr>\n",
       "      <th>3</th>\n",
       "      <td>00022f989630d14b</td>\n",
       "      <td>library_35</td>\n",
       "      <td>plate_2</td>\n",
       "      <td>E6</td>\n",
       "      <td>E</td>\n",
       "      <td>6</td>\n",
       "      <td>PBMC</td>\n",
       "      <td>donor_0</td>\n",
       "      <td>T cells CD4+</td>\n",
       "      <td>LSM-43216</td>\n",
       "      <td>FK 866</td>\n",
       "      <td>O=C(/C=C/c1cccnc1)NCCCCC1CCN(C(=O)c2ccccc2)CC1</td>\n",
       "      <td>1.0</td>\n",
       "      <td>24</td>\n",
       "      <td>False</td>\n",
       "    </tr>\n",
       "    <tr>\n",
       "      <th>4</th>\n",
       "      <td>0002560bd38ce03e</td>\n",
       "      <td>library_22</td>\n",
       "      <td>plate_4</td>\n",
       "      <td>B6</td>\n",
       "      <td>B</td>\n",
       "      <td>6</td>\n",
       "      <td>PBMC</td>\n",
       "      <td>donor_2</td>\n",
       "      <td>T cells CD4+</td>\n",
       "      <td>LSM-1099</td>\n",
       "      <td>Nilotinib</td>\n",
       "      <td>Cc1cn(-c2cc(NC(=O)c3ccc(C)c(Nc4nccc(-c5cccnc5)...</td>\n",
       "      <td>1.0</td>\n",
       "      <td>24</td>\n",
       "      <td>False</td>\n",
       "    </tr>\n",
       "  </tbody>\n",
       "</table>\n",
       "</div>"
      ],
      "text/plain": [
       "             obs_id  library_id plate_name well row  col cell_id donor_id  \\\n",
       "0  000006a87ba75b72   library_4    plate_4   F7   F    7    PBMC  donor_2   \n",
       "1  0000233976e3cd37   library_0    plate_3   D4   D    4    PBMC  donor_1   \n",
       "2  0001533c5e876362   library_2    plate_0  B11   B   11    PBMC  donor_0   \n",
       "3  00022f989630d14b  library_35    plate_2   E6   E    6    PBMC  donor_0   \n",
       "4  0002560bd38ce03e  library_22    plate_4   B6   B    6    PBMC  donor_2   \n",
       "\n",
       "            cell_type sm_lincs_id      sm_name  \\\n",
       "0        T cells CD4+    LSM-4944     MLN 2238   \n",
       "1        T cells CD4+   LSM-46203   BMS-265246   \n",
       "2  T regulatory cells   LSM-45663  Resminostat   \n",
       "3        T cells CD4+   LSM-43216       FK 866   \n",
       "4        T cells CD4+    LSM-1099    Nilotinib   \n",
       "\n",
       "                                              SMILES  dose_uM  timepoint_hr  \\\n",
       "0      CC(C)C[C@H](NC(=O)CNC(=O)c1cc(Cl)ccc1Cl)B(O)O      1.0            24   \n",
       "1        CCCCOc1c(C(=O)c2c(F)cc(C)cc2F)cnc2[nH]ncc12      1.0            24   \n",
       "2     CN(C)Cc1ccc(S(=O)(=O)n2ccc(/C=C/C(=O)NO)c2)cc1      1.0            24   \n",
       "3     O=C(/C=C/c1cccnc1)NCCCCC1CCN(C(=O)c2ccccc2)CC1      1.0            24   \n",
       "4  Cc1cn(-c2cc(NC(=O)c3ccc(C)c(Nc4nccc(-c5cccnc5)...      1.0            24   \n",
       "\n",
       "   control  \n",
       "0    False  \n",
       "1    False  \n",
       "2    False  \n",
       "3    False  \n",
       "4    False  "
      ]
     },
     "execution_count": 15,
     "metadata": {},
     "output_type": "execute_result"
    }
   ],
   "source": [
    "adataobsmeta.head()"
   ]
  },
  {
   "cell_type": "code",
   "execution_count": 16,
   "metadata": {},
   "outputs": [
    {
     "data": {
      "text/plain": [
       "(240090, 15)"
      ]
     },
     "execution_count": 16,
     "metadata": {},
     "output_type": "execute_result"
    }
   ],
   "source": [
    "adataobsmeta.shape"
   ]
  },
  {
   "cell_type": "code",
   "execution_count": 17,
   "metadata": {},
   "outputs": [
    {
     "data": {
      "text/plain": [
       "obs_id           object\n",
       "library_id       object\n",
       "plate_name       object\n",
       "well             object\n",
       "row              object\n",
       "col               int64\n",
       "cell_id          object\n",
       "donor_id         object\n",
       "cell_type        object\n",
       "sm_lincs_id      object\n",
       "sm_name          object\n",
       "SMILES           object\n",
       "dose_uM         float64\n",
       "timepoint_hr      int64\n",
       "control            bool\n",
       "dtype: object"
      ]
     },
     "execution_count": 17,
     "metadata": {},
     "output_type": "execute_result"
    }
   ],
   "source": [
    "adataobsmeta.dtypes"
   ]
  },
  {
   "cell_type": "markdown",
   "metadata": {},
   "source": [
    "`adataobsmeta` cuenta con 240090 filas y 15 columnas, además, cuenta con diferentes variables, de las cuales 11 son categóricas, 3 son numéricas y 1 es booleana. Esta base de datos contiene información sobre las células y compuestos experimentales, esta información está en la variable **cell_id**."
   ]
  },
  {
   "cell_type": "code",
   "execution_count": 18,
   "metadata": {},
   "outputs": [
    {
     "data": {
      "text/html": [
       "<div>\n",
       "<style scoped>\n",
       "    .dataframe tbody tr th:only-of-type {\n",
       "        vertical-align: middle;\n",
       "    }\n",
       "\n",
       "    .dataframe tbody tr th {\n",
       "        vertical-align: top;\n",
       "    }\n",
       "\n",
       "    .dataframe thead th {\n",
       "        text-align: right;\n",
       "    }\n",
       "</style>\n",
       "<table border=\"1\" class=\"dataframe\">\n",
       "  <thead>\n",
       "    <tr style=\"text-align: right;\">\n",
       "      <th></th>\n",
       "      <th>col</th>\n",
       "      <th>dose_uM</th>\n",
       "      <th>timepoint_hr</th>\n",
       "    </tr>\n",
       "  </thead>\n",
       "  <tbody>\n",
       "    <tr>\n",
       "      <th>count</th>\n",
       "      <td>240090.00000</td>\n",
       "      <td>240090.000000</td>\n",
       "      <td>240090.0</td>\n",
       "    </tr>\n",
       "    <tr>\n",
       "      <th>mean</th>\n",
       "      <td>6.05665</td>\n",
       "      <td>2.462781</td>\n",
       "      <td>24.0</td>\n",
       "    </tr>\n",
       "    <tr>\n",
       "      <th>std</th>\n",
       "      <td>3.55246</td>\n",
       "      <td>4.276144</td>\n",
       "      <td>0.0</td>\n",
       "    </tr>\n",
       "    <tr>\n",
       "      <th>min</th>\n",
       "      <td>1.00000</td>\n",
       "      <td>0.100000</td>\n",
       "      <td>24.0</td>\n",
       "    </tr>\n",
       "    <tr>\n",
       "      <th>25%</th>\n",
       "      <td>3.00000</td>\n",
       "      <td>1.000000</td>\n",
       "      <td>24.0</td>\n",
       "    </tr>\n",
       "    <tr>\n",
       "      <th>50%</th>\n",
       "      <td>6.00000</td>\n",
       "      <td>1.000000</td>\n",
       "      <td>24.0</td>\n",
       "    </tr>\n",
       "    <tr>\n",
       "      <th>75%</th>\n",
       "      <td>9.00000</td>\n",
       "      <td>1.000000</td>\n",
       "      <td>24.0</td>\n",
       "    </tr>\n",
       "    <tr>\n",
       "      <th>max</th>\n",
       "      <td>12.00000</td>\n",
       "      <td>14.100000</td>\n",
       "      <td>24.0</td>\n",
       "    </tr>\n",
       "  </tbody>\n",
       "</table>\n",
       "</div>"
      ],
      "text/plain": [
       "                col        dose_uM  timepoint_hr\n",
       "count  240090.00000  240090.000000      240090.0\n",
       "mean        6.05665       2.462781          24.0\n",
       "std         3.55246       4.276144           0.0\n",
       "min         1.00000       0.100000          24.0\n",
       "25%         3.00000       1.000000          24.0\n",
       "50%         6.00000       1.000000          24.0\n",
       "75%         9.00000       1.000000          24.0\n",
       "max        12.00000      14.100000          24.0"
      ]
     },
     "execution_count": 18,
     "metadata": {},
     "output_type": "execute_result"
    }
   ],
   "source": [
    "adataobsmeta.describe()"
   ]
  },
  {
   "cell_type": "markdown",
   "metadata": {},
   "source": [
    "`sm_name` corresponde al nombre principal del compuesto principal en una forma estandarizada."
   ]
  },
  {
   "cell_type": "code",
   "execution_count": 5,
   "metadata": {},
   "outputs": [
    {
     "name": "stdout",
     "output_type": "stream",
     "text": [
      "sm_name\n",
      "Dimethyl Sulfoxide     28462\n",
      "Dabrafenib             26346\n",
      "Belinostat             24059\n",
      "LDN 193189              1939\n",
      "Porcn Inhibitor III     1900\n",
      "                       ...  \n",
      "ABT737                   655\n",
      "BMS-387032               416\n",
      "UNII-BXU45ZH6LI          307\n",
      "CGP 60474                 89\n",
      "Alvocidib                 51\n",
      "Name: count, Length: 147, dtype: int64\n"
     ]
    }
   ],
   "source": [
    "smcount = adataobsmeta['sm_name'].value_counts()\n",
    "print(smcount)"
   ]
  },
  {
   "cell_type": "markdown",
   "metadata": {},
   "source": [
    "`donor_id` sirve para identificar la fuente del donotante de la muestra."
   ]
  },
  {
   "cell_type": "code",
   "execution_count": 19,
   "metadata": {},
   "outputs": [
    {
     "name": "stdout",
     "output_type": "stream",
     "text": [
      "donor_id\n",
      "donor_2    84442\n",
      "donor_1    81550\n",
      "donor_0    74098\n",
      "Name: count, dtype: int64\n"
     ]
    }
   ],
   "source": [
    "donorcount = adataobsmeta['donor_id'].value_counts()\n",
    "print(donorcount)"
   ]
  },
  {
   "cell_type": "markdown",
   "metadata": {},
   "source": [
    "`plate_name` es un elemento que se utiliza para la organización e identificación de los datos del experimento."
   ]
  },
  {
   "cell_type": "code",
   "execution_count": 20,
   "metadata": {},
   "outputs": [
    {
     "name": "stdout",
     "output_type": "stream",
     "text": [
      "plate_name\n",
      "plate_4    44550\n",
      "plate_3    41881\n",
      "plate_1    39892\n",
      "plate_5    39669\n",
      "plate_2    37914\n",
      "plate_0    36184\n",
      "Name: count, dtype: int64\n"
     ]
    }
   ],
   "source": [
    "platenamecount = adataobsmeta['plate_name'].value_counts()\n",
    "print(platenamecount)"
   ]
  },
  {
   "cell_type": "markdown",
   "metadata": {},
   "source": [
    "`cell_type` contiene las células de interés para este experimentos y sus tipos."
   ]
  },
  {
   "cell_type": "code",
   "execution_count": 21,
   "metadata": {},
   "outputs": [
    {
     "name": "stdout",
     "output_type": "stream",
     "text": [
      "cell_type\n",
      "T cells CD4+          124971\n",
      "NK cells               59170\n",
      "Myeloid cells          16661\n",
      "T cells CD8+           15563\n",
      "B cells                15485\n",
      "T regulatory cells      8240\n",
      "Name: count, dtype: int64\n"
     ]
    }
   ],
   "source": [
    "celltypecount = adataobsmeta['cell_type'].value_counts()\n",
    "print(celltypecount)"
   ]
  },
  {
   "cell_type": "markdown",
   "metadata": {},
   "source": [
    "A continuación, se muestran diferentes graficas para entender visualmente los contenidos de esta base de datos."
   ]
  },
  {
   "cell_type": "code",
   "execution_count": 22,
   "metadata": {},
   "outputs": [
    {
     "data": {
      "image/png": "[encoded data removed]",
      "text/plain": [
       "<Figure size 1000x600 with 1 Axes>"
      ]
     },
     "metadata": {},
     "output_type": "display_data"
    }
   ],
   "source": [
    "cell_counts = adataobsmeta['cell_type'].value_counts()\n",
    "values = cell_counts.values\n",
    "labels = [f'{cell}\\n{count}' for cell, count in zip(cell_counts.index, cell_counts.values)]\n",
    "colors = sns.color_palette(\"Purples_r\", len(values))\n",
    "plt.figure(figsize=(10, 6))\n",
    "squarify.plot(sizes=values, label=labels, color=colors, alpha=0.7)\n",
    "plt.axis(\"off\")\n",
    "plt.title(\"Distribución de Cell Type\", fontsize=16, fontweight='bold')\n",
    "plt.tight_layout()\n",
    "plt.show()\n"
   ]
  },
  {
   "cell_type": "markdown",
   "metadata": {},
   "source": [
    "De la gráfica anterior podemos concluir que la célula `T cell CD4 +` es la que cuenta con más observaciones, con un total de **124.971**. Mientras que, `T regulatory cell` es la que cuenta con menos observaciones."
   ]
  },
  {
   "cell_type": "code",
   "execution_count": 23,
   "metadata": {},
   "outputs": [
    {
     "data": {
      "image/png": "[encoded data removed]",
      "text/plain": [
       "<Figure size 1000x600 with 1 Axes>"
      ]
     },
     "metadata": {},
     "output_type": "display_data"
    }
   ],
   "source": [
    "plate_counts = adataobsmeta['plate_name'].value_counts()\n",
    "values = plate_counts.values\n",
    "labels = [f'{plate}\\n{count}' for plate, count in zip(plate_counts.index, plate_counts.values)]\n",
    "\n",
    "\n",
    "colors = sns.color_palette(\"Purples_r\", len(values))\n",
    "\n",
    "plt.figure(figsize=(10, 6))\n",
    "squarify.plot(sizes=values, label=labels, color=colors, alpha=0.7)\n",
    "plt.axis(\"off\")\n",
    "plt.title(\"Distribución de Plate Name\", fontsize=16, fontweight='bold')\n",
    "plt.tight_layout()\n",
    "plt.show()\n"
   ]
  },
  {
   "cell_type": "markdown",
   "metadata": {},
   "source": [
    "`library_id` proporciona información sobre un indentificador único para cada biblioteca, que se refiere a una medición realizada en muestras agrupadas de cada fila de la placa, esto permite distinguir entre las diferentes bibliotecas en los experimentos."
   ]
  },
  {
   "cell_type": "code",
   "execution_count": 6,
   "metadata": {},
   "outputs": [
    {
     "data": {
      "image/png": "[encoded data removed]",
      "text/plain": [
       "<Figure size 1200x600 with 1 Axes>"
      ]
     },
     "metadata": {},
     "output_type": "display_data"
    }
   ],
   "source": [
    "cmap = ListedColormap(sns.color_palette(\"Purples_r\", 3))\n",
    "plt.figure(figsize=(12, 6))\n",
    "sns.countplot(x=\"library_id\", data=adataobsmeta, palette=cmap.colors)\n",
    "plt.title(\"Distribución de librerias\", fontsize=16, fontweight='bold')\n",
    "plt.xlabel(\"librerias\", fontsize=14)\n",
    "plt.ylabel(\"Cantidad\", fontsize=14) \n",
    "plt.xticks(rotation=90, ha='right') \n",
    "plt.tight_layout()\n",
    "plt.show()"
   ]
  },
  {
   "cell_type": "code",
   "execution_count": 24,
   "metadata": {},
   "outputs": [
    {
     "data": {
      "image/png": "[encoded data removed]",
      "text/plain": [
       "<Figure size 800x500 with 1 Axes>"
      ]
     },
     "metadata": {},
     "output_type": "display_data"
    }
   ],
   "source": [
    "cmap = ListedColormap(sns.color_palette(\"Purples_r\", 3))\n",
    "plt.figure(figsize=(8, 5))\n",
    "sns.countplot(x=\"donor_id\", data=adataobsmeta, palette=cmap.colors)\n",
    "plt.title(\"Distribución de tipos de donantes\", fontsize=16, fontweight='bold')\n",
    "plt.xlabel(\"Donanates\", fontsize=14)\n",
    "plt.ylabel(\"Cantidad\", fontsize=14) \n",
    "plt.tight_layout()\n",
    "plt.show()\n"
   ]
  },
  {
   "cell_type": "markdown",
   "metadata": {},
   "source": [
    "Podemos observar de la gráfica anterior que `donor_2` cuenta con mayor observaciones (84442), mientras que `donor_0` cuenta es el donante con menor número de observaciones (74098)."
   ]
  },
  {
   "cell_type": "markdown",
   "metadata": {},
   "source": [
    "### multiomevarmeta (dataset)"
   ]
  },
  {
   "cell_type": "code",
   "execution_count": 30,
   "metadata": {},
   "outputs": [],
   "source": [
    "multiomevarmeta = pd.read_csv(r'C:\\Users\\Usuario\\Downloads\\open-problems-single-cell-perturbations\\multiome_var_meta.csv')"
   ]
  },
  {
   "cell_type": "code",
   "execution_count": 26,
   "metadata": {},
   "outputs": [
    {
     "data": {
      "text/html": [
       "<div>\n",
       "<style scoped>\n",
       "    .dataframe tbody tr th:only-of-type {\n",
       "        vertical-align: middle;\n",
       "    }\n",
       "\n",
       "    .dataframe tbody tr th {\n",
       "        vertical-align: top;\n",
       "    }\n",
       "\n",
       "    .dataframe thead th {\n",
       "        text-align: right;\n",
       "    }\n",
       "</style>\n",
       "<table border=\"1\" class=\"dataframe\">\n",
       "  <thead>\n",
       "    <tr style=\"text-align: right;\">\n",
       "      <th></th>\n",
       "      <th>location</th>\n",
       "      <th>gene_id</th>\n",
       "      <th>feature_type</th>\n",
       "      <th>genome</th>\n",
       "      <th>interval</th>\n",
       "    </tr>\n",
       "  </thead>\n",
       "  <tbody>\n",
       "    <tr>\n",
       "      <th>count</th>\n",
       "      <td>158205</td>\n",
       "      <td>158205</td>\n",
       "      <td>158205</td>\n",
       "      <td>158205</td>\n",
       "      <td>158192</td>\n",
       "    </tr>\n",
       "    <tr>\n",
       "      <th>unique</th>\n",
       "      <td>158205</td>\n",
       "      <td>158205</td>\n",
       "      <td>2</td>\n",
       "      <td>1</td>\n",
       "      <td>158190</td>\n",
       "    </tr>\n",
       "    <tr>\n",
       "      <th>top</th>\n",
       "      <td>A1BG</td>\n",
       "      <td>ENSG00000121410</td>\n",
       "      <td>Peaks</td>\n",
       "      <td>GRCh38</td>\n",
       "      <td>chr21:34073577-34073578</td>\n",
       "    </tr>\n",
       "    <tr>\n",
       "      <th>freq</th>\n",
       "      <td>1</td>\n",
       "      <td>1</td>\n",
       "      <td>135418</td>\n",
       "      <td>158205</td>\n",
       "      <td>2</td>\n",
       "    </tr>\n",
       "  </tbody>\n",
       "</table>\n",
       "</div>"
      ],
      "text/plain": [
       "       location          gene_id feature_type  genome                 interval\n",
       "count    158205           158205       158205  158205                   158192\n",
       "unique   158205           158205            2       1                   158190\n",
       "top        A1BG  ENSG00000121410        Peaks  GRCh38  chr21:34073577-34073578\n",
       "freq          1                1       135418  158205                        2"
      ]
     },
     "execution_count": 26,
     "metadata": {},
     "output_type": "execute_result"
    }
   ],
   "source": [
    "multiomevarmeta.describe()"
   ]
  },
  {
   "cell_type": "code",
   "execution_count": 27,
   "metadata": {},
   "outputs": [
    {
     "name": "stdout",
     "output_type": "stream",
     "text": [
      "<class 'pandas.core.frame.DataFrame'>\n",
      "RangeIndex: 158205 entries, 0 to 158204\n",
      "Data columns (total 5 columns):\n",
      " #   Column        Non-Null Count   Dtype \n",
      "---  ------        --------------   ----- \n",
      " 0   location      158205 non-null  object\n",
      " 1   gene_id       158205 non-null  object\n",
      " 2   feature_type  158205 non-null  object\n",
      " 3   genome        158205 non-null  object\n",
      " 4   interval      158192 non-null  object\n",
      "dtypes: object(5)\n",
      "memory usage: 6.0+ MB\n"
     ]
    }
   ],
   "source": [
    "multiomevarmeta.info()"
   ]
  },
  {
   "cell_type": "markdown",
   "metadata": {},
   "source": [
    "En este dataset contamos con solo variables categóricas. Este dataset, contiene más información acerca de las características de los genes."
   ]
  },
  {
   "cell_type": "markdown",
   "metadata": {},
   "source": [
    "La variable `feature_type` contiene si la característica es una medición de la expresión de ARN (Gene expression) o una medición de accesibilidad a la cromatica (Peaks). Esto es esencial para diferenciar entre los tipos de datos del análisis."
   ]
  },
  {
   "cell_type": "code",
   "execution_count": 28,
   "metadata": {},
   "outputs": [
    {
     "name": "stdout",
     "output_type": "stream",
     "text": [
      "feature_type\n",
      "Peaks              135418\n",
      "Gene Expression     22787\n",
      "Name: count, dtype: int64\n"
     ]
    }
   ],
   "source": [
    "featuarecount = multiomevarmeta['feature_type'].value_counts()\n",
    "print(featuarecount)"
   ]
  },
  {
   "cell_type": "code",
   "execution_count": 29,
   "metadata": {},
   "outputs": [
    {
     "name": "stderr",
     "output_type": "stream",
     "text": [
      "C:\\Users\\Usuario\\AppData\\Local\\Temp\\ipykernel_7764\\3159184358.py:3: UserWarning: The palette list has more values (6) than needed (2), which may not be intended.\n",
      "  sns.countplot(x=\"feature_type\", data=multiomevarmeta, palette=cmap.colors)\n"
     ]
    },
    {
     "data": {
      "image/png": "[encoded data removed]",
      "text/plain": [
       "<Figure size 800x500 with 1 Axes>"
      ]
     },
     "metadata": {},
     "output_type": "display_data"
    }
   ],
   "source": [
    "cmap = ListedColormap(sns.color_palette(\"Purples_r\", 6))\n",
    "plt.figure(figsize=(8, 5))\n",
    "sns.countplot(x=\"feature_type\", data=multiomevarmeta, palette=cmap.colors)\n",
    "plt.title(\"Distribución de tipos de características\", fontsize=16, fontweight='bold')\n",
    "plt.xlabel(\"Tipo de característica\", fontsize=14)\n",
    "plt.ylabel(\"Cantidad\", fontsize=14) \n",
    "plt.tight_layout()\n",
    "plt.show()"
   ]
  },
  {
   "cell_type": "markdown",
   "metadata": {},
   "source": [
    "Podemos inferir que **Peaks** contiene 135,418 observaciones, lo que la convierte en la característica con el mayor número de observaciones, mientras que **Gene Expression** cuenta con 22,787 observaciones."
   ]
  },
  {
   "cell_type": "markdown",
   "metadata": {},
   "source": [
    "### multiometrain (dataset)"
   ]
  },
  {
   "cell_type": "code",
   "execution_count": 31,
   "metadata": {},
   "outputs": [],
   "source": [
    "multiometrain = pd.read_parquet(r'C:\\Users\\Usuario\\Downloads\\open-problems-single-cell-perturbations\\multiome_train.parquet')"
   ]
  },
  {
   "cell_type": "code",
   "execution_count": 31,
   "metadata": {},
   "outputs": [
    {
     "data": {
      "text/plain": [
       "(216251368, 4)"
      ]
     },
     "execution_count": 31,
     "metadata": {},
     "output_type": "execute_result"
    }
   ],
   "source": [
    "multiometrain.shape"
   ]
  },
  {
   "cell_type": "markdown",
   "metadata": {},
   "source": [
    "`multiometrain` cuenta con 216'251.368 filas y 4 columnas."
   ]
  },
  {
   "cell_type": "code",
   "execution_count": 32,
   "metadata": {},
   "outputs": [
    {
     "data": {
      "text/html": [
       "<div>\n",
       "<style scoped>\n",
       "    .dataframe tbody tr th:only-of-type {\n",
       "        vertical-align: middle;\n",
       "    }\n",
       "\n",
       "    .dataframe tbody tr th {\n",
       "        vertical-align: top;\n",
       "    }\n",
       "\n",
       "    .dataframe thead th {\n",
       "        text-align: right;\n",
       "    }\n",
       "</style>\n",
       "<table border=\"1\" class=\"dataframe\">\n",
       "  <thead>\n",
       "    <tr style=\"text-align: right;\">\n",
       "      <th></th>\n",
       "      <th>count</th>\n",
       "      <th>normalized_count</th>\n",
       "    </tr>\n",
       "  </thead>\n",
       "  <tbody>\n",
       "    <tr>\n",
       "      <th>count</th>\n",
       "      <td>2.162514e+08</td>\n",
       "      <td>2.162514e+08</td>\n",
       "    </tr>\n",
       "    <tr>\n",
       "      <th>mean</th>\n",
       "      <td>2.312303e+00</td>\n",
       "      <td>2.291773e+00</td>\n",
       "    </tr>\n",
       "    <tr>\n",
       "      <th>std</th>\n",
       "      <td>2.993796e+00</td>\n",
       "      <td>2.107194e+00</td>\n",
       "    </tr>\n",
       "    <tr>\n",
       "      <th>min</th>\n",
       "      <td>1.000000e+00</td>\n",
       "      <td>4.198309e-02</td>\n",
       "    </tr>\n",
       "    <tr>\n",
       "      <th>25%</th>\n",
       "      <td>2.000000e+00</td>\n",
       "      <td>7.348657e-01</td>\n",
       "    </tr>\n",
       "    <tr>\n",
       "      <th>50%</th>\n",
       "      <td>2.000000e+00</td>\n",
       "      <td>1.316221e+00</td>\n",
       "    </tr>\n",
       "    <tr>\n",
       "      <th>75%</th>\n",
       "      <td>2.000000e+00</td>\n",
       "      <td>3.253358e+00</td>\n",
       "    </tr>\n",
       "    <tr>\n",
       "      <th>max</th>\n",
       "      <td>5.810000e+03</td>\n",
       "      <td>1.835729e+01</td>\n",
       "    </tr>\n",
       "  </tbody>\n",
       "</table>\n",
       "</div>"
      ],
      "text/plain": [
       "              count  normalized_count\n",
       "count  2.162514e+08      2.162514e+08\n",
       "mean   2.312303e+00      2.291773e+00\n",
       "std    2.993796e+00      2.107194e+00\n",
       "min    1.000000e+00      4.198309e-02\n",
       "25%    2.000000e+00      7.348657e-01\n",
       "50%    2.000000e+00      1.316221e+00\n",
       "75%    2.000000e+00      3.253358e+00\n",
       "max    5.810000e+03      1.835729e+01"
      ]
     },
     "execution_count": 32,
     "metadata": {},
     "output_type": "execute_result"
    }
   ],
   "source": [
    "multiometrain.describe()"
   ]
  },
  {
   "cell_type": "code",
   "execution_count": 33,
   "metadata": {},
   "outputs": [
    {
     "data": {
      "text/plain": [
       "obs_id               object\n",
       "location             object\n",
       "count                uint16\n",
       "normalized_count    float32\n",
       "dtype: object"
      ]
     },
     "execution_count": 33,
     "metadata": {},
     "output_type": "execute_result"
    }
   ],
   "source": [
    "multiometrain.dtypes"
   ]
  },
  {
   "cell_type": "markdown",
   "metadata": {},
   "source": [
    "La base de datos cuenta con 4 variables, 2 categóricas y 2 numéricas."
   ]
  },
  {
   "cell_type": "code",
   "execution_count": 34,
   "metadata": {},
   "outputs": [
    {
     "name": "stdout",
     "output_type": "stream",
     "text": [
      "location\n",
      "B2M            25521\n",
      "MALAT1         25503\n",
      "MT-CO1         25425\n",
      "MT-ATP6        25416\n",
      "MT-CO2         25402\n",
      "               ...  \n",
      "ZNF385D-AS2        9\n",
      "PLA2G5             8\n",
      "HOXA10-AS          8\n",
      "SMIM24             6\n",
      "GATA2              3\n",
      "Name: count, Length: 158205, dtype: int64\n"
     ]
    }
   ],
   "source": [
    "table = multiometrain['location'].value_counts()\n",
    "print(table)"
   ]
  },
  {
   "cell_type": "markdown",
   "metadata": {},
   "source": [
    "### idmap (dataset)"
   ]
  },
  {
   "cell_type": "code",
   "execution_count": 33,
   "metadata": {},
   "outputs": [],
   "source": [
    "idmap = pd.read_csv(r'C:\\Users\\Usuario\\Downloads\\open-problems-single-cell-perturbations\\id_map.csv')"
   ]
  },
  {
   "cell_type": "markdown",
   "metadata": {},
   "source": [
    "Esta base de datos contiene información sobre los pares de indentificadores que ayudan a vincular diferentes características o entidades en el análisis."
   ]
  },
  {
   "cell_type": "code",
   "execution_count": 36,
   "metadata": {},
   "outputs": [
    {
     "data": {
      "text/plain": [
       "(255, 3)"
      ]
     },
     "execution_count": 36,
     "metadata": {},
     "output_type": "execute_result"
    }
   ],
   "source": [
    "idmap.shape"
   ]
  },
  {
   "cell_type": "markdown",
   "metadata": {},
   "source": [
    "El dataset `idmap` cuenta con 255 filas y 3 columnas."
   ]
  },
  {
   "cell_type": "code",
   "execution_count": 37,
   "metadata": {},
   "outputs": [
    {
     "data": {
      "text/plain": [
       "id            int64\n",
       "cell_type    object\n",
       "sm_name      object\n",
       "dtype: object"
      ]
     },
     "execution_count": 37,
     "metadata": {},
     "output_type": "execute_result"
    }
   ],
   "source": [
    "idmap.dtypes"
   ]
  },
  {
   "cell_type": "markdown",
   "metadata": {},
   "source": [
    "Las variables de este dataset las conforman 2 variables categóricas y 1 variable numérica."
   ]
  },
  {
   "cell_type": "code",
   "execution_count": 38,
   "metadata": {},
   "outputs": [
    {
     "data": {
      "text/html": [
       "<div>\n",
       "<style scoped>\n",
       "    .dataframe tbody tr th:only-of-type {\n",
       "        vertical-align: middle;\n",
       "    }\n",
       "\n",
       "    .dataframe tbody tr th {\n",
       "        vertical-align: top;\n",
       "    }\n",
       "\n",
       "    .dataframe thead th {\n",
       "        text-align: right;\n",
       "    }\n",
       "</style>\n",
       "<table border=\"1\" class=\"dataframe\">\n",
       "  <thead>\n",
       "    <tr style=\"text-align: right;\">\n",
       "      <th></th>\n",
       "      <th>id</th>\n",
       "    </tr>\n",
       "  </thead>\n",
       "  <tbody>\n",
       "    <tr>\n",
       "      <th>count</th>\n",
       "      <td>255.000000</td>\n",
       "    </tr>\n",
       "    <tr>\n",
       "      <th>mean</th>\n",
       "      <td>127.000000</td>\n",
       "    </tr>\n",
       "    <tr>\n",
       "      <th>std</th>\n",
       "      <td>73.756356</td>\n",
       "    </tr>\n",
       "    <tr>\n",
       "      <th>min</th>\n",
       "      <td>0.000000</td>\n",
       "    </tr>\n",
       "    <tr>\n",
       "      <th>25%</th>\n",
       "      <td>63.500000</td>\n",
       "    </tr>\n",
       "    <tr>\n",
       "      <th>50%</th>\n",
       "      <td>127.000000</td>\n",
       "    </tr>\n",
       "    <tr>\n",
       "      <th>75%</th>\n",
       "      <td>190.500000</td>\n",
       "    </tr>\n",
       "    <tr>\n",
       "      <th>max</th>\n",
       "      <td>254.000000</td>\n",
       "    </tr>\n",
       "  </tbody>\n",
       "</table>\n",
       "</div>"
      ],
      "text/plain": [
       "               id\n",
       "count  255.000000\n",
       "mean   127.000000\n",
       "std     73.756356\n",
       "min      0.000000\n",
       "25%     63.500000\n",
       "50%    127.000000\n",
       "75%    190.500000\n",
       "max    254.000000"
      ]
     },
     "execution_count": 38,
     "metadata": {},
     "output_type": "execute_result"
    }
   ],
   "source": [
    "idmap.describe()"
   ]
  },
  {
   "cell_type": "code",
   "execution_count": 34,
   "metadata": {},
   "outputs": [
    {
     "name": "stdout",
     "output_type": "stream",
     "text": [
      "sm_name\n",
      "5-(9-Isopropyl-8-methyl-2-morpholino-9H-purin-6-yl)pyrimidin-2-amine    2\n",
      "Lamivudine                                                              2\n",
      "Raloxifene                                                              2\n",
      "RVX-208                                                                 2\n",
      "RN-486                                                                  2\n",
      "                                                                       ..\n",
      "Colforsin                                                               2\n",
      "Colchicine                                                              2\n",
      "BMS-387032                                                              1\n",
      "CGP 60474                                                               1\n",
      "CEP-18770 (Delanzomib)                                                  1\n",
      "Name: count, Length: 129, dtype: int64\n"
     ]
    }
   ],
   "source": [
    "smnamecount = idmap['sm_name'].value_counts()\n",
    "print(smnamecount)"
   ]
  },
  {
   "cell_type": "markdown",
   "metadata": {},
   "source": [
    "la variable `cell_type` sirve para identificar y clasificar los diferentes tipos de células presentes en el conjunto de datos."
   ]
  },
  {
   "cell_type": "code",
   "execution_count": 39,
   "metadata": {},
   "outputs": [
    {
     "name": "stdout",
     "output_type": "stream",
     "text": [
      "cell_type\n",
      "B cells          128\n",
      "Myeloid cells    127\n",
      "Name: count, dtype: int64\n"
     ]
    }
   ],
   "source": [
    "table = idmap['cell_type'].value_counts()\n",
    "print(table)"
   ]
  },
  {
   "cell_type": "code",
   "execution_count": 40,
   "metadata": {},
   "outputs": [
    {
     "data": {
      "image/png": "[encoded data removed]",
      "text/plain": [
       "<Figure size 1000x600 with 1 Axes>"
      ]
     },
     "metadata": {},
     "output_type": "display_data"
    }
   ],
   "source": [
    "cmap = ListedColormap(sns.color_palette(\"Purples_r\", 2))\n",
    "plt.figure(figsize=(10, 6))\n",
    "sns.countplot(x=\"cell_type\", data=idmap, palette=cmap.colors)\n",
    "plt.title(\"Distribución de tipos de células\", fontsize=16, fontweight='bold')\n",
    "plt.xlabel(\"Tipo de célula\", fontsize=14)\n",
    "plt.ylabel(\"Cantidad\", fontsize=14)\n",
    "plt.tight_layout()\n",
    "plt.show()"
   ]
  },
  {
   "cell_type": "markdown",
   "metadata": {},
   "source": [
    "Podemos observar y concluir que ambas variables contienen un número muy similar de observaciones: **B cells** tiene 128 observaciones, mientras que **Myeloid cells** cuenta con 127."
   ]
  },
  {
   "cell_type": "markdown",
   "metadata": {},
   "source": [
    "## Análisis bivariado"
   ]
  },
  {
   "cell_type": "code",
   "execution_count": 36,
   "metadata": {},
   "outputs": [
    {
     "data": {
      "text/html": [
       "<div>\n",
       "<style scoped>\n",
       "    .dataframe tbody tr th:only-of-type {\n",
       "        vertical-align: middle;\n",
       "    }\n",
       "\n",
       "    .dataframe tbody tr th {\n",
       "        vertical-align: top;\n",
       "    }\n",
       "\n",
       "    .dataframe thead th {\n",
       "        text-align: right;\n",
       "    }\n",
       "</style>\n",
       "<table border=\"1\" class=\"dataframe\">\n",
       "  <thead>\n",
       "    <tr style=\"text-align: right;\">\n",
       "      <th></th>\n",
       "      <th>A1BG</th>\n",
       "      <th>A1BG-AS1</th>\n",
       "      <th>A2M</th>\n",
       "      <th>A2M-AS1</th>\n",
       "      <th>A2MP1</th>\n",
       "      <th>A4GALT</th>\n",
       "      <th>AAAS</th>\n",
       "      <th>AACS</th>\n",
       "      <th>AAGAB</th>\n",
       "      <th>AAK1</th>\n",
       "      <th>...</th>\n",
       "      <th>ZUP1</th>\n",
       "      <th>ZW10</th>\n",
       "      <th>ZWILCH</th>\n",
       "      <th>ZWINT</th>\n",
       "      <th>ZXDA</th>\n",
       "      <th>ZXDB</th>\n",
       "      <th>ZXDC</th>\n",
       "      <th>ZYG11B</th>\n",
       "      <th>ZYX</th>\n",
       "      <th>ZZEF1</th>\n",
       "    </tr>\n",
       "  </thead>\n",
       "  <tbody>\n",
       "    <tr>\n",
       "      <th>0</th>\n",
       "      <td>0.104720</td>\n",
       "      <td>-0.077524</td>\n",
       "      <td>-1.625596</td>\n",
       "      <td>-0.144545</td>\n",
       "      <td>0.143555</td>\n",
       "      <td>0.073229</td>\n",
       "      <td>-0.016823</td>\n",
       "      <td>0.101717</td>\n",
       "      <td>-0.005153</td>\n",
       "      <td>1.043629</td>\n",
       "      <td>...</td>\n",
       "      <td>-0.227781</td>\n",
       "      <td>-0.010752</td>\n",
       "      <td>-0.023881</td>\n",
       "      <td>0.674536</td>\n",
       "      <td>-0.453068</td>\n",
       "      <td>0.005164</td>\n",
       "      <td>-0.094959</td>\n",
       "      <td>0.034127</td>\n",
       "      <td>0.221377</td>\n",
       "      <td>0.368755</td>\n",
       "    </tr>\n",
       "    <tr>\n",
       "      <th>1</th>\n",
       "      <td>0.915953</td>\n",
       "      <td>-0.884380</td>\n",
       "      <td>0.371834</td>\n",
       "      <td>-0.081677</td>\n",
       "      <td>-0.498266</td>\n",
       "      <td>0.203559</td>\n",
       "      <td>0.604656</td>\n",
       "      <td>0.498592</td>\n",
       "      <td>-0.317184</td>\n",
       "      <td>0.375550</td>\n",
       "      <td>...</td>\n",
       "      <td>-0.494985</td>\n",
       "      <td>-0.303419</td>\n",
       "      <td>0.304955</td>\n",
       "      <td>-0.333905</td>\n",
       "      <td>-0.315516</td>\n",
       "      <td>-0.369626</td>\n",
       "      <td>-0.095079</td>\n",
       "      <td>0.704780</td>\n",
       "      <td>1.096702</td>\n",
       "      <td>-0.869887</td>\n",
       "    </tr>\n",
       "    <tr>\n",
       "      <th>2</th>\n",
       "      <td>-0.387721</td>\n",
       "      <td>-0.305378</td>\n",
       "      <td>0.567777</td>\n",
       "      <td>0.303895</td>\n",
       "      <td>-0.022653</td>\n",
       "      <td>-0.480681</td>\n",
       "      <td>0.467144</td>\n",
       "      <td>-0.293205</td>\n",
       "      <td>-0.005098</td>\n",
       "      <td>0.214918</td>\n",
       "      <td>...</td>\n",
       "      <td>-0.119422</td>\n",
       "      <td>-0.033608</td>\n",
       "      <td>-0.153123</td>\n",
       "      <td>0.183597</td>\n",
       "      <td>-0.555678</td>\n",
       "      <td>-1.494789</td>\n",
       "      <td>-0.213550</td>\n",
       "      <td>0.415768</td>\n",
       "      <td>0.078439</td>\n",
       "      <td>-0.259365</td>\n",
       "    </tr>\n",
       "    <tr>\n",
       "      <th>3</th>\n",
       "      <td>0.232893</td>\n",
       "      <td>0.129029</td>\n",
       "      <td>0.336897</td>\n",
       "      <td>0.486946</td>\n",
       "      <td>0.767661</td>\n",
       "      <td>0.718590</td>\n",
       "      <td>-0.162145</td>\n",
       "      <td>0.157206</td>\n",
       "      <td>-3.654218</td>\n",
       "      <td>-0.212402</td>\n",
       "      <td>...</td>\n",
       "      <td>0.451679</td>\n",
       "      <td>0.704643</td>\n",
       "      <td>0.015468</td>\n",
       "      <td>-0.103868</td>\n",
       "      <td>0.865027</td>\n",
       "      <td>0.189114</td>\n",
       "      <td>0.224700</td>\n",
       "      <td>-0.048233</td>\n",
       "      <td>0.216139</td>\n",
       "      <td>-0.085024</td>\n",
       "    </tr>\n",
       "    <tr>\n",
       "      <th>4</th>\n",
       "      <td>4.290652</td>\n",
       "      <td>-0.063864</td>\n",
       "      <td>-0.017443</td>\n",
       "      <td>-0.541154</td>\n",
       "      <td>0.570982</td>\n",
       "      <td>2.022829</td>\n",
       "      <td>0.600011</td>\n",
       "      <td>1.231275</td>\n",
       "      <td>0.236739</td>\n",
       "      <td>0.338703</td>\n",
       "      <td>...</td>\n",
       "      <td>0.758474</td>\n",
       "      <td>0.510762</td>\n",
       "      <td>0.607401</td>\n",
       "      <td>-0.123059</td>\n",
       "      <td>0.214366</td>\n",
       "      <td>0.487838</td>\n",
       "      <td>-0.819775</td>\n",
       "      <td>0.112365</td>\n",
       "      <td>-0.122193</td>\n",
       "      <td>0.676629</td>\n",
       "    </tr>\n",
       "    <tr>\n",
       "      <th>...</th>\n",
       "      <td>...</td>\n",
       "      <td>...</td>\n",
       "      <td>...</td>\n",
       "      <td>...</td>\n",
       "      <td>...</td>\n",
       "      <td>...</td>\n",
       "      <td>...</td>\n",
       "      <td>...</td>\n",
       "      <td>...</td>\n",
       "      <td>...</td>\n",
       "      <td>...</td>\n",
       "      <td>...</td>\n",
       "      <td>...</td>\n",
       "      <td>...</td>\n",
       "      <td>...</td>\n",
       "      <td>...</td>\n",
       "      <td>...</td>\n",
       "      <td>...</td>\n",
       "      <td>...</td>\n",
       "      <td>...</td>\n",
       "      <td>...</td>\n",
       "    </tr>\n",
       "    <tr>\n",
       "      <th>609</th>\n",
       "      <td>-0.014372</td>\n",
       "      <td>-0.122464</td>\n",
       "      <td>-0.456366</td>\n",
       "      <td>-0.147894</td>\n",
       "      <td>-0.545382</td>\n",
       "      <td>-0.544709</td>\n",
       "      <td>0.282458</td>\n",
       "      <td>-0.431359</td>\n",
       "      <td>-0.364961</td>\n",
       "      <td>0.043123</td>\n",
       "      <td>...</td>\n",
       "      <td>-0.549987</td>\n",
       "      <td>-2.200925</td>\n",
       "      <td>0.359806</td>\n",
       "      <td>1.073983</td>\n",
       "      <td>0.356939</td>\n",
       "      <td>-0.029603</td>\n",
       "      <td>-0.528817</td>\n",
       "      <td>0.105138</td>\n",
       "      <td>0.491015</td>\n",
       "      <td>-0.979951</td>\n",
       "    </tr>\n",
       "    <tr>\n",
       "      <th>610</th>\n",
       "      <td>-0.455549</td>\n",
       "      <td>0.188181</td>\n",
       "      <td>0.595734</td>\n",
       "      <td>-0.100299</td>\n",
       "      <td>0.786192</td>\n",
       "      <td>0.090954</td>\n",
       "      <td>0.169523</td>\n",
       "      <td>0.428297</td>\n",
       "      <td>0.106553</td>\n",
       "      <td>0.435088</td>\n",
       "      <td>...</td>\n",
       "      <td>-1.236905</td>\n",
       "      <td>0.003854</td>\n",
       "      <td>-0.197569</td>\n",
       "      <td>-0.175307</td>\n",
       "      <td>0.101391</td>\n",
       "      <td>1.028394</td>\n",
       "      <td>0.034144</td>\n",
       "      <td>-0.231642</td>\n",
       "      <td>1.023994</td>\n",
       "      <td>-0.064760</td>\n",
       "    </tr>\n",
       "    <tr>\n",
       "      <th>611</th>\n",
       "      <td>0.338168</td>\n",
       "      <td>-0.109079</td>\n",
       "      <td>0.270182</td>\n",
       "      <td>-0.436586</td>\n",
       "      <td>-0.069476</td>\n",
       "      <td>-0.061539</td>\n",
       "      <td>0.002818</td>\n",
       "      <td>-0.027167</td>\n",
       "      <td>-0.383696</td>\n",
       "      <td>0.226289</td>\n",
       "      <td>...</td>\n",
       "      <td>0.077579</td>\n",
       "      <td>-1.101637</td>\n",
       "      <td>0.457201</td>\n",
       "      <td>0.535184</td>\n",
       "      <td>-0.198404</td>\n",
       "      <td>-0.005004</td>\n",
       "      <td>0.552810</td>\n",
       "      <td>-0.209077</td>\n",
       "      <td>0.389751</td>\n",
       "      <td>-0.337082</td>\n",
       "    </tr>\n",
       "    <tr>\n",
       "      <th>612</th>\n",
       "      <td>0.101138</td>\n",
       "      <td>-0.409724</td>\n",
       "      <td>-0.606292</td>\n",
       "      <td>-0.071300</td>\n",
       "      <td>-0.001789</td>\n",
       "      <td>-0.706087</td>\n",
       "      <td>-0.620919</td>\n",
       "      <td>-1.485381</td>\n",
       "      <td>0.059303</td>\n",
       "      <td>-0.032584</td>\n",
       "      <td>...</td>\n",
       "      <td>0.005951</td>\n",
       "      <td>-0.893093</td>\n",
       "      <td>-1.003029</td>\n",
       "      <td>-0.080367</td>\n",
       "      <td>-0.076604</td>\n",
       "      <td>0.024849</td>\n",
       "      <td>0.012862</td>\n",
       "      <td>-0.029684</td>\n",
       "      <td>0.005506</td>\n",
       "      <td>-1.733112</td>\n",
       "    </tr>\n",
       "    <tr>\n",
       "      <th>613</th>\n",
       "      <td>-0.757116</td>\n",
       "      <td>0.085910</td>\n",
       "      <td>-0.730025</td>\n",
       "      <td>-1.367801</td>\n",
       "      <td>-0.695944</td>\n",
       "      <td>-0.724985</td>\n",
       "      <td>0.121436</td>\n",
       "      <td>-0.785661</td>\n",
       "      <td>-0.240842</td>\n",
       "      <td>-0.139620</td>\n",
       "      <td>...</td>\n",
       "      <td>0.232343</td>\n",
       "      <td>-2.247816</td>\n",
       "      <td>-0.346036</td>\n",
       "      <td>-0.919567</td>\n",
       "      <td>-1.131372</td>\n",
       "      <td>-0.120252</td>\n",
       "      <td>-0.064537</td>\n",
       "      <td>-0.603280</td>\n",
       "      <td>-0.098041</td>\n",
       "      <td>-0.750681</td>\n",
       "    </tr>\n",
       "  </tbody>\n",
       "</table>\n",
       "<p>614 rows × 18211 columns</p>\n",
       "</div>"
      ],
      "text/plain": [
       "         A1BG  A1BG-AS1       A2M   A2M-AS1     A2MP1    A4GALT      AAAS  \\\n",
       "0    0.104720 -0.077524 -1.625596 -0.144545  0.143555  0.073229 -0.016823   \n",
       "1    0.915953 -0.884380  0.371834 -0.081677 -0.498266  0.203559  0.604656   \n",
       "2   -0.387721 -0.305378  0.567777  0.303895 -0.022653 -0.480681  0.467144   \n",
       "3    0.232893  0.129029  0.336897  0.486946  0.767661  0.718590 -0.162145   \n",
       "4    4.290652 -0.063864 -0.017443 -0.541154  0.570982  2.022829  0.600011   \n",
       "..        ...       ...       ...       ...       ...       ...       ...   \n",
       "609 -0.014372 -0.122464 -0.456366 -0.147894 -0.545382 -0.544709  0.282458   \n",
       "610 -0.455549  0.188181  0.595734 -0.100299  0.786192  0.090954  0.169523   \n",
       "611  0.338168 -0.109079  0.270182 -0.436586 -0.069476 -0.061539  0.002818   \n",
       "612  0.101138 -0.409724 -0.606292 -0.071300 -0.001789 -0.706087 -0.620919   \n",
       "613 -0.757116  0.085910 -0.730025 -1.367801 -0.695944 -0.724985  0.121436   \n",
       "\n",
       "         AACS     AAGAB      AAK1  ...      ZUP1      ZW10    ZWILCH  \\\n",
       "0    0.101717 -0.005153  1.043629  ... -0.227781 -0.010752 -0.023881   \n",
       "1    0.498592 -0.317184  0.375550  ... -0.494985 -0.303419  0.304955   \n",
       "2   -0.293205 -0.005098  0.214918  ... -0.119422 -0.033608 -0.153123   \n",
       "3    0.157206 -3.654218 -0.212402  ...  0.451679  0.704643  0.015468   \n",
       "4    1.231275  0.236739  0.338703  ...  0.758474  0.510762  0.607401   \n",
       "..        ...       ...       ...  ...       ...       ...       ...   \n",
       "609 -0.431359 -0.364961  0.043123  ... -0.549987 -2.200925  0.359806   \n",
       "610  0.428297  0.106553  0.435088  ... -1.236905  0.003854 -0.197569   \n",
       "611 -0.027167 -0.383696  0.226289  ...  0.077579 -1.101637  0.457201   \n",
       "612 -1.485381  0.059303 -0.032584  ...  0.005951 -0.893093 -1.003029   \n",
       "613 -0.785661 -0.240842 -0.139620  ...  0.232343 -2.247816 -0.346036   \n",
       "\n",
       "        ZWINT      ZXDA      ZXDB      ZXDC    ZYG11B       ZYX     ZZEF1  \n",
       "0    0.674536 -0.453068  0.005164 -0.094959  0.034127  0.221377  0.368755  \n",
       "1   -0.333905 -0.315516 -0.369626 -0.095079  0.704780  1.096702 -0.869887  \n",
       "2    0.183597 -0.555678 -1.494789 -0.213550  0.415768  0.078439 -0.259365  \n",
       "3   -0.103868  0.865027  0.189114  0.224700 -0.048233  0.216139 -0.085024  \n",
       "4   -0.123059  0.214366  0.487838 -0.819775  0.112365 -0.122193  0.676629  \n",
       "..        ...       ...       ...       ...       ...       ...       ...  \n",
       "609  1.073983  0.356939 -0.029603 -0.528817  0.105138  0.491015 -0.979951  \n",
       "610 -0.175307  0.101391  1.028394  0.034144 -0.231642  1.023994 -0.064760  \n",
       "611  0.535184 -0.198404 -0.005004  0.552810 -0.209077  0.389751 -0.337082  \n",
       "612 -0.080367 -0.076604  0.024849  0.012862 -0.029684  0.005506 -1.733112  \n",
       "613 -0.919567 -1.131372 -0.120252 -0.064537 -0.603280 -0.098041 -0.750681  \n",
       "\n",
       "[614 rows x 18211 columns]"
      ]
     },
     "execution_count": 36,
     "metadata": {},
     "output_type": "execute_result"
    }
   ],
   "source": [
    "genes_x"
   ]
  },
  {
   "cell_type": "markdown",
   "metadata": {},
   "source": [
    "En esta ocasión, realizamos una matriz de correlación para identificar de manera más profunda las variables que presentan correlación entre sí. Aunque analizaremos si sería necesario eliminar algunas de estas variables, en este caso no procederemos con su eliminación, ya que mantener todos los genes es fundamental para entrenar nuestros modelos. Sin embargo, como ejercicio práctico, visualizaremos la matriz de correlaciones para observar estos patrones."
   ]
  },
  {
   "cell_type": "code",
   "execution_count": 5,
   "metadata": {},
   "outputs": [
    {
     "name": "stdout",
     "output_type": "stream",
     "text": [
      "              A1BG  A1BG-AS1       A2M   A2M-AS1     A2MP1    A4GALT  \\\n",
      "A1BG      1.000000  0.714458  0.457526  0.522942  0.778408  0.837132   \n",
      "A1BG-AS1  0.714458  1.000000  0.301795  0.369418  0.577066  0.712535   \n",
      "A2M       0.457526  0.301795  1.000000  0.614617  0.407135  0.350203   \n",
      "A2M-AS1   0.522942  0.369418  0.614617  1.000000  0.625173  0.347183   \n",
      "A2MP1     0.778408  0.577066  0.407135  0.625173  1.000000  0.741961   \n",
      "...            ...       ...       ...       ...       ...       ...   \n",
      "ZXDB      0.792222  0.697719  0.536887  0.547979  0.667382  0.750323   \n",
      "ZXDC      0.515260  0.380695  0.599092  0.469065  0.398134  0.432041   \n",
      "ZYG11B    0.282706  0.323991  0.234177  0.100440  0.126451  0.225936   \n",
      "ZYX       0.064979  0.085938  0.054594  0.235550  0.130264  0.001245   \n",
      "ZZEF1     0.149878  0.072710  0.214293  0.208293  0.141848  0.104180   \n",
      "\n",
      "              AAAS      AACS     AAGAB      AAK1  ...      ZUP1      ZW10  \\\n",
      "A1BG      0.439837  0.705893  0.192259 -0.070669  ...  0.194641  0.652388   \n",
      "A1BG-AS1  0.412077  0.638482  0.245015 -0.019140  ...  0.177971  0.591506   \n",
      "A2M       0.187354  0.505190  0.011625 -0.193726  ... -0.045483  0.456399   \n",
      "A2M-AS1   0.252877  0.449189 -0.119271 -0.009788  ... -0.148671  0.404312   \n",
      "A2MP1     0.355945  0.567186  0.146833  0.037726  ...  0.074257  0.531156   \n",
      "...            ...       ...       ...       ...  ...       ...       ...   \n",
      "ZXDB      0.417411  0.730304  0.185898 -0.180804  ...  0.185169  0.669619   \n",
      "ZXDC      0.219351  0.557733  0.100784 -0.185686  ...  0.103798  0.524886   \n",
      "ZYG11B    0.164784  0.329503  0.217202  0.193395  ...  0.163312  0.276594   \n",
      "ZYX       0.083897 -0.030927 -0.060895  0.230573  ... -0.164996  0.051608   \n",
      "ZZEF1     0.092692  0.161280  0.044080  0.043768  ...  0.014108  0.143265   \n",
      "\n",
      "            ZWILCH     ZWINT      ZXDA      ZXDB      ZXDC    ZYG11B  \\\n",
      "A1BG      0.439657  0.755152  0.805117  0.792222  0.515260  0.282706   \n",
      "A1BG-AS1  0.302379  0.668320  0.630534  0.697719  0.380695  0.323991   \n",
      "A2M       0.617574  0.486742  0.505622  0.536887  0.599092  0.234177   \n",
      "A2M-AS1   0.329363  0.475214  0.583882  0.547979  0.469065  0.100440   \n",
      "A2MP1     0.267254  0.655978  0.768620  0.667382  0.398134  0.126451   \n",
      "...            ...       ...       ...       ...       ...       ...   \n",
      "ZXDB      0.532330  0.756865  0.832125  1.000000  0.624481  0.274782   \n",
      "ZXDC      0.634150  0.554500  0.585897  0.624481  1.000000  0.243037   \n",
      "ZYG11B    0.194563  0.239123  0.176127  0.274782  0.243037  1.000000   \n",
      "ZYX      -0.192064  0.076097 -0.009516 -0.003387 -0.115429  0.044252   \n",
      "ZZEF1     0.139490  0.102588  0.167263  0.134351  0.211058  0.063161   \n",
      "\n",
      "               ZYX     ZZEF1  \n",
      "A1BG      0.064979  0.149878  \n",
      "A1BG-AS1  0.085938  0.072710  \n",
      "A2M       0.054594  0.214293  \n",
      "A2M-AS1   0.235550  0.208293  \n",
      "A2MP1     0.130264  0.141848  \n",
      "...            ...       ...  \n",
      "ZXDB     -0.003387  0.134351  \n",
      "ZXDC     -0.115429  0.211058  \n",
      "ZYG11B    0.044252  0.063161  \n",
      "ZYX       1.000000 -0.011278  \n",
      "ZZEF1    -0.011278  1.000000  \n",
      "\n",
      "[18211 rows x 18211 columns]\n"
     ]
    }
   ],
   "source": [
    "correlation_matrix = genes_x.corr()\n",
    "print(correlation_matrix)"
   ]
  },
  {
   "cell_type": "markdown",
   "metadata": {},
   "source": [
    "A continuación se eliminarán la variables que están correlacionadas en caso de que sea útil, pero para entrenar nuestro modelo, nos quedaremos con el dataset que contiene a todos los genes."
   ]
  },
  {
   "cell_type": "code",
   "execution_count": 6,
   "metadata": {},
   "outputs": [
    {
     "name": "stdout",
     "output_type": "stream",
     "text": [
      "            AAAS     AAGAB      AAK1      AAR2    AARSD1     AASDH  AASDHPPT  \\\n",
      "AAAS    1.000000  0.145489 -0.040171  0.272952  0.314979  0.148464 -0.037022   \n",
      "AAGAB   0.145489  1.000000  0.066934  0.148145  0.167898  0.040731  0.042383   \n",
      "AAK1   -0.040171  0.066934  1.000000 -0.235955 -0.150587 -0.019211  0.160261   \n",
      "AAR2    0.272952  0.148145 -0.235955  1.000000  0.506242  0.234962 -0.073885   \n",
      "AARSD1  0.314979  0.167898 -0.150587  0.506242  1.000000  0.147204 -0.095603   \n",
      "...          ...       ...       ...       ...       ...       ...       ...   \n",
      "ZSWIM8  0.163369  0.424849  0.051757  0.289295  0.258193  0.153596 -0.042629   \n",
      "ZUP1    0.145371  0.407756 -0.149111  0.168954  0.198811 -0.034254  0.019237   \n",
      "ZYG11B  0.164784  0.217202  0.193395  0.172679  0.166717  0.145886  0.137706   \n",
      "ZYX     0.083897 -0.060895  0.230573 -0.061867 -0.080782  0.054273 -0.050025   \n",
      "ZZEF1   0.092692  0.044080  0.043768  0.171946  0.176072  0.132885  0.099511   \n",
      "\n",
      "            AATF     ABCA5     ABCB7  ...   ZSCAN25   ZSCAN26   ZSCAN29  \\\n",
      "AAAS   -0.096611  0.227899  0.157888  ...  0.285926  0.324908  0.268128   \n",
      "AAGAB  -0.077140  0.040043  0.022266  ...  0.158205  0.167338 -0.070069   \n",
      "AAK1    0.002888 -0.104397 -0.124104  ... -0.133762 -0.061624 -0.160254   \n",
      "AAR2   -0.111666  0.372879  0.307240  ...  0.547501  0.403183  0.516523   \n",
      "AARSD1 -0.131371  0.292748  0.322046  ...  0.464642  0.381435  0.441613   \n",
      "...          ...       ...       ...  ...       ...       ...       ...   \n",
      "ZSWIM8 -0.103664  0.251832  0.190485  ...  0.285219  0.264702  0.176068   \n",
      "ZUP1    0.080036  0.086435  0.047117  ...  0.195645  0.225054 -0.012836   \n",
      "ZYG11B -0.119980  0.210153  0.158086  ...  0.225522  0.156673  0.125922   \n",
      "ZYX     0.005907 -0.027974 -0.020487  ...  0.040070  0.066340  0.029140   \n",
      "ZZEF1   0.050106  0.139759  0.192820  ...  0.121768  0.105452  0.210226   \n",
      "\n",
      "         ZSCAN32    ZSWIM7    ZSWIM8      ZUP1    ZYG11B       ZYX     ZZEF1  \n",
      "AAAS    0.327332  0.067576  0.163369  0.145371  0.164784  0.083897  0.092692  \n",
      "AAGAB   0.239777  0.105637  0.424849  0.407756  0.217202 -0.060895  0.044080  \n",
      "AAK1   -0.097294  0.217240  0.051757 -0.149111  0.193395  0.230573  0.043768  \n",
      "AAR2    0.486030 -0.133967  0.289295  0.168954  0.172679 -0.061867  0.171946  \n",
      "AARSD1  0.480524 -0.041806  0.258193  0.198811  0.166717 -0.080782  0.176072  \n",
      "...          ...       ...       ...       ...       ...       ...       ...  \n",
      "ZSWIM8  0.378310  0.091011  1.000000  0.347682  0.356516  0.013623  0.141306  \n",
      "ZUP1    0.269726  0.050289  0.347682  1.000000  0.163312 -0.164996  0.014108  \n",
      "ZYG11B  0.222438  0.141408  0.356516  0.163312  1.000000  0.044252  0.063161  \n",
      "ZYX     0.001410  0.153577  0.013623 -0.164996  0.044252  1.000000 -0.011278  \n",
      "ZZEF1   0.117430  0.035601  0.141306  0.014108  0.063161 -0.011278  1.000000  \n",
      "\n",
      "[4538 rows x 4538 columns]\n"
     ]
    }
   ],
   "source": [
    "threshold = 0.7\n",
    "mask = (correlation_matrix.abs() > threshold)\n",
    "\n",
    "# Encontrar columnas a eliminar\n",
    "to_drop = set()\n",
    "\n",
    "for column in mask.columns:\n",
    "    if column not in to_drop:\n",
    "        correlated_columns = mask[column]\n",
    "        if correlated_columns.sum() > 1: \n",
    "            to_drop.update(correlated_columns[correlated_columns].index)\n",
    "cleaned_correlation_matrix = correlation_matrix.drop(columns=to_drop, axis=1).drop(index=to_drop, axis=0)\n",
    "print(cleaned_correlation_matrix)\n"
   ]
  },
  {
   "cell_type": "code",
   "execution_count": 11,
   "metadata": {},
   "outputs": [
    {
     "data": {
      "text/html": [
       "<div>\n",
       "<style scoped>\n",
       "    .dataframe tbody tr th:only-of-type {\n",
       "        vertical-align: middle;\n",
       "    }\n",
       "\n",
       "    .dataframe tbody tr th {\n",
       "        vertical-align: top;\n",
       "    }\n",
       "\n",
       "    .dataframe thead th {\n",
       "        text-align: right;\n",
       "    }\n",
       "</style>\n",
       "<table border=\"1\" class=\"dataframe\">\n",
       "  <thead>\n",
       "    <tr style=\"text-align: right;\">\n",
       "      <th></th>\n",
       "      <th>AAAS</th>\n",
       "      <th>AAGAB</th>\n",
       "      <th>AAK1</th>\n",
       "      <th>AAR2</th>\n",
       "      <th>AARSD1</th>\n",
       "      <th>AASDH</th>\n",
       "      <th>AASDHPPT</th>\n",
       "      <th>AATF</th>\n",
       "      <th>ABCA5</th>\n",
       "      <th>ABCB7</th>\n",
       "      <th>...</th>\n",
       "      <th>ZSCAN25</th>\n",
       "      <th>ZSCAN26</th>\n",
       "      <th>ZSCAN29</th>\n",
       "      <th>ZSCAN32</th>\n",
       "      <th>ZSWIM7</th>\n",
       "      <th>ZSWIM8</th>\n",
       "      <th>ZUP1</th>\n",
       "      <th>ZYG11B</th>\n",
       "      <th>ZYX</th>\n",
       "      <th>ZZEF1</th>\n",
       "    </tr>\n",
       "  </thead>\n",
       "  <tbody>\n",
       "    <tr>\n",
       "      <th>0</th>\n",
       "      <td>-0.016823</td>\n",
       "      <td>-0.005153</td>\n",
       "      <td>1.043629</td>\n",
       "      <td>0.088934</td>\n",
       "      <td>-0.126706</td>\n",
       "      <td>-2.670154</td>\n",
       "      <td>0.624403</td>\n",
       "      <td>0.514184</td>\n",
       "      <td>0.331059</td>\n",
       "      <td>-0.221918</td>\n",
       "      <td>...</td>\n",
       "      <td>-1.067981</td>\n",
       "      <td>0.924709</td>\n",
       "      <td>-0.562809</td>\n",
       "      <td>-0.931970</td>\n",
       "      <td>0.179530</td>\n",
       "      <td>0.220086</td>\n",
       "      <td>-0.227781</td>\n",
       "      <td>0.034127</td>\n",
       "      <td>0.221377</td>\n",
       "      <td>0.368755</td>\n",
       "    </tr>\n",
       "    <tr>\n",
       "      <th>1</th>\n",
       "      <td>0.604656</td>\n",
       "      <td>-0.317184</td>\n",
       "      <td>0.375550</td>\n",
       "      <td>0.188528</td>\n",
       "      <td>0.133680</td>\n",
       "      <td>-0.133070</td>\n",
       "      <td>-0.104862</td>\n",
       "      <td>0.119080</td>\n",
       "      <td>0.267578</td>\n",
       "      <td>0.450027</td>\n",
       "      <td>...</td>\n",
       "      <td>-0.178712</td>\n",
       "      <td>-0.605487</td>\n",
       "      <td>-0.019590</td>\n",
       "      <td>-0.052460</td>\n",
       "      <td>1.262570</td>\n",
       "      <td>0.357003</td>\n",
       "      <td>-0.494985</td>\n",
       "      <td>0.704780</td>\n",
       "      <td>1.096702</td>\n",
       "      <td>-0.869887</td>\n",
       "    </tr>\n",
       "    <tr>\n",
       "      <th>2</th>\n",
       "      <td>0.467144</td>\n",
       "      <td>-0.005098</td>\n",
       "      <td>0.214918</td>\n",
       "      <td>-2.242325</td>\n",
       "      <td>0.162589</td>\n",
       "      <td>-0.134455</td>\n",
       "      <td>0.089236</td>\n",
       "      <td>0.848633</td>\n",
       "      <td>0.558572</td>\n",
       "      <td>-0.714563</td>\n",
       "      <td>...</td>\n",
       "      <td>-0.032028</td>\n",
       "      <td>-0.002080</td>\n",
       "      <td>0.525158</td>\n",
       "      <td>0.303495</td>\n",
       "      <td>0.225485</td>\n",
       "      <td>0.131672</td>\n",
       "      <td>-0.119422</td>\n",
       "      <td>0.415768</td>\n",
       "      <td>0.078439</td>\n",
       "      <td>-0.259365</td>\n",
       "    </tr>\n",
       "    <tr>\n",
       "      <th>3</th>\n",
       "      <td>-0.162145</td>\n",
       "      <td>-3.654218</td>\n",
       "      <td>-0.212402</td>\n",
       "      <td>-0.262876</td>\n",
       "      <td>0.108755</td>\n",
       "      <td>0.032864</td>\n",
       "      <td>-0.688623</td>\n",
       "      <td>2.008549</td>\n",
       "      <td>0.049918</td>\n",
       "      <td>1.191746</td>\n",
       "      <td>...</td>\n",
       "      <td>0.289975</td>\n",
       "      <td>0.504879</td>\n",
       "      <td>0.163295</td>\n",
       "      <td>1.658680</td>\n",
       "      <td>-0.203936</td>\n",
       "      <td>2.060546</td>\n",
       "      <td>0.451679</td>\n",
       "      <td>-0.048233</td>\n",
       "      <td>0.216139</td>\n",
       "      <td>-0.085024</td>\n",
       "    </tr>\n",
       "    <tr>\n",
       "      <th>4</th>\n",
       "      <td>0.600011</td>\n",
       "      <td>0.236739</td>\n",
       "      <td>0.338703</td>\n",
       "      <td>-0.035923</td>\n",
       "      <td>1.179433</td>\n",
       "      <td>-0.898467</td>\n",
       "      <td>0.130078</td>\n",
       "      <td>-0.816469</td>\n",
       "      <td>0.801710</td>\n",
       "      <td>-0.256717</td>\n",
       "      <td>...</td>\n",
       "      <td>-0.329395</td>\n",
       "      <td>0.045852</td>\n",
       "      <td>-0.132945</td>\n",
       "      <td>-0.074826</td>\n",
       "      <td>-0.145054</td>\n",
       "      <td>0.965736</td>\n",
       "      <td>0.758474</td>\n",
       "      <td>0.112365</td>\n",
       "      <td>-0.122193</td>\n",
       "      <td>0.676629</td>\n",
       "    </tr>\n",
       "    <tr>\n",
       "      <th>...</th>\n",
       "      <td>...</td>\n",
       "      <td>...</td>\n",
       "      <td>...</td>\n",
       "      <td>...</td>\n",
       "      <td>...</td>\n",
       "      <td>...</td>\n",
       "      <td>...</td>\n",
       "      <td>...</td>\n",
       "      <td>...</td>\n",
       "      <td>...</td>\n",
       "      <td>...</td>\n",
       "      <td>...</td>\n",
       "      <td>...</td>\n",
       "      <td>...</td>\n",
       "      <td>...</td>\n",
       "      <td>...</td>\n",
       "      <td>...</td>\n",
       "      <td>...</td>\n",
       "      <td>...</td>\n",
       "      <td>...</td>\n",
       "      <td>...</td>\n",
       "    </tr>\n",
       "    <tr>\n",
       "      <th>609</th>\n",
       "      <td>0.282458</td>\n",
       "      <td>-0.364961</td>\n",
       "      <td>0.043123</td>\n",
       "      <td>-1.128044</td>\n",
       "      <td>-0.390320</td>\n",
       "      <td>-0.485878</td>\n",
       "      <td>-0.571904</td>\n",
       "      <td>-0.743107</td>\n",
       "      <td>-1.080498</td>\n",
       "      <td>-2.530061</td>\n",
       "      <td>...</td>\n",
       "      <td>-0.250088</td>\n",
       "      <td>-3.134873</td>\n",
       "      <td>-0.511368</td>\n",
       "      <td>1.111968</td>\n",
       "      <td>0.000051</td>\n",
       "      <td>-0.626368</td>\n",
       "      <td>-0.549987</td>\n",
       "      <td>0.105138</td>\n",
       "      <td>0.491015</td>\n",
       "      <td>-0.979951</td>\n",
       "    </tr>\n",
       "    <tr>\n",
       "      <th>610</th>\n",
       "      <td>0.169523</td>\n",
       "      <td>0.106553</td>\n",
       "      <td>0.435088</td>\n",
       "      <td>-1.115466</td>\n",
       "      <td>0.584750</td>\n",
       "      <td>-0.158582</td>\n",
       "      <td>-0.643390</td>\n",
       "      <td>-0.500306</td>\n",
       "      <td>0.445424</td>\n",
       "      <td>-0.607400</td>\n",
       "      <td>...</td>\n",
       "      <td>-0.832037</td>\n",
       "      <td>0.074903</td>\n",
       "      <td>0.386341</td>\n",
       "      <td>-0.153593</td>\n",
       "      <td>-0.538152</td>\n",
       "      <td>0.047483</td>\n",
       "      <td>-1.236905</td>\n",
       "      <td>-0.231642</td>\n",
       "      <td>1.023994</td>\n",
       "      <td>-0.064760</td>\n",
       "    </tr>\n",
       "    <tr>\n",
       "      <th>611</th>\n",
       "      <td>0.002818</td>\n",
       "      <td>-0.383696</td>\n",
       "      <td>0.226289</td>\n",
       "      <td>0.976024</td>\n",
       "      <td>1.835000</td>\n",
       "      <td>-0.206824</td>\n",
       "      <td>-0.752374</td>\n",
       "      <td>0.163126</td>\n",
       "      <td>0.134690</td>\n",
       "      <td>-0.460614</td>\n",
       "      <td>...</td>\n",
       "      <td>-0.714794</td>\n",
       "      <td>-0.166825</td>\n",
       "      <td>-0.434708</td>\n",
       "      <td>-0.605640</td>\n",
       "      <td>0.697416</td>\n",
       "      <td>0.225507</td>\n",
       "      <td>0.077579</td>\n",
       "      <td>-0.209077</td>\n",
       "      <td>0.389751</td>\n",
       "      <td>-0.337082</td>\n",
       "    </tr>\n",
       "    <tr>\n",
       "      <th>612</th>\n",
       "      <td>-0.620919</td>\n",
       "      <td>0.059303</td>\n",
       "      <td>-0.032584</td>\n",
       "      <td>-0.438237</td>\n",
       "      <td>0.240634</td>\n",
       "      <td>-0.144547</td>\n",
       "      <td>0.153796</td>\n",
       "      <td>0.150626</td>\n",
       "      <td>0.028250</td>\n",
       "      <td>-0.574156</td>\n",
       "      <td>...</td>\n",
       "      <td>-1.883349</td>\n",
       "      <td>1.139340</td>\n",
       "      <td>-0.087040</td>\n",
       "      <td>-1.157477</td>\n",
       "      <td>0.369929</td>\n",
       "      <td>0.625152</td>\n",
       "      <td>0.005951</td>\n",
       "      <td>-0.029684</td>\n",
       "      <td>0.005506</td>\n",
       "      <td>-1.733112</td>\n",
       "    </tr>\n",
       "    <tr>\n",
       "      <th>613</th>\n",
       "      <td>0.121436</td>\n",
       "      <td>-0.240842</td>\n",
       "      <td>-0.139620</td>\n",
       "      <td>0.442848</td>\n",
       "      <td>0.134176</td>\n",
       "      <td>-0.357995</td>\n",
       "      <td>-0.019944</td>\n",
       "      <td>0.109802</td>\n",
       "      <td>-0.812748</td>\n",
       "      <td>0.133683</td>\n",
       "      <td>...</td>\n",
       "      <td>-0.126139</td>\n",
       "      <td>0.232608</td>\n",
       "      <td>-0.352663</td>\n",
       "      <td>-0.186400</td>\n",
       "      <td>0.612298</td>\n",
       "      <td>0.005135</td>\n",
       "      <td>0.232343</td>\n",
       "      <td>-0.603280</td>\n",
       "      <td>-0.098041</td>\n",
       "      <td>-0.750681</td>\n",
       "    </tr>\n",
       "  </tbody>\n",
       "</table>\n",
       "<p>614 rows × 4538 columns</p>\n",
       "</div>"
      ],
      "text/plain": [
       "         AAAS     AAGAB      AAK1      AAR2    AARSD1     AASDH  AASDHPPT  \\\n",
       "0   -0.016823 -0.005153  1.043629  0.088934 -0.126706 -2.670154  0.624403   \n",
       "1    0.604656 -0.317184  0.375550  0.188528  0.133680 -0.133070 -0.104862   \n",
       "2    0.467144 -0.005098  0.214918 -2.242325  0.162589 -0.134455  0.089236   \n",
       "3   -0.162145 -3.654218 -0.212402 -0.262876  0.108755  0.032864 -0.688623   \n",
       "4    0.600011  0.236739  0.338703 -0.035923  1.179433 -0.898467  0.130078   \n",
       "..        ...       ...       ...       ...       ...       ...       ...   \n",
       "609  0.282458 -0.364961  0.043123 -1.128044 -0.390320 -0.485878 -0.571904   \n",
       "610  0.169523  0.106553  0.435088 -1.115466  0.584750 -0.158582 -0.643390   \n",
       "611  0.002818 -0.383696  0.226289  0.976024  1.835000 -0.206824 -0.752374   \n",
       "612 -0.620919  0.059303 -0.032584 -0.438237  0.240634 -0.144547  0.153796   \n",
       "613  0.121436 -0.240842 -0.139620  0.442848  0.134176 -0.357995 -0.019944   \n",
       "\n",
       "         AATF     ABCA5     ABCB7  ...   ZSCAN25   ZSCAN26   ZSCAN29  \\\n",
       "0    0.514184  0.331059 -0.221918  ... -1.067981  0.924709 -0.562809   \n",
       "1    0.119080  0.267578  0.450027  ... -0.178712 -0.605487 -0.019590   \n",
       "2    0.848633  0.558572 -0.714563  ... -0.032028 -0.002080  0.525158   \n",
       "3    2.008549  0.049918  1.191746  ...  0.289975  0.504879  0.163295   \n",
       "4   -0.816469  0.801710 -0.256717  ... -0.329395  0.045852 -0.132945   \n",
       "..        ...       ...       ...  ...       ...       ...       ...   \n",
       "609 -0.743107 -1.080498 -2.530061  ... -0.250088 -3.134873 -0.511368   \n",
       "610 -0.500306  0.445424 -0.607400  ... -0.832037  0.074903  0.386341   \n",
       "611  0.163126  0.134690 -0.460614  ... -0.714794 -0.166825 -0.434708   \n",
       "612  0.150626  0.028250 -0.574156  ... -1.883349  1.139340 -0.087040   \n",
       "613  0.109802 -0.812748  0.133683  ... -0.126139  0.232608 -0.352663   \n",
       "\n",
       "      ZSCAN32    ZSWIM7    ZSWIM8      ZUP1    ZYG11B       ZYX     ZZEF1  \n",
       "0   -0.931970  0.179530  0.220086 -0.227781  0.034127  0.221377  0.368755  \n",
       "1   -0.052460  1.262570  0.357003 -0.494985  0.704780  1.096702 -0.869887  \n",
       "2    0.303495  0.225485  0.131672 -0.119422  0.415768  0.078439 -0.259365  \n",
       "3    1.658680 -0.203936  2.060546  0.451679 -0.048233  0.216139 -0.085024  \n",
       "4   -0.074826 -0.145054  0.965736  0.758474  0.112365 -0.122193  0.676629  \n",
       "..        ...       ...       ...       ...       ...       ...       ...  \n",
       "609  1.111968  0.000051 -0.626368 -0.549987  0.105138  0.491015 -0.979951  \n",
       "610 -0.153593 -0.538152  0.047483 -1.236905 -0.231642  1.023994 -0.064760  \n",
       "611 -0.605640  0.697416  0.225507  0.077579 -0.209077  0.389751 -0.337082  \n",
       "612 -1.157477  0.369929  0.625152  0.005951 -0.029684  0.005506 -1.733112  \n",
       "613 -0.186400  0.612298  0.005135  0.232343 -0.603280 -0.098041 -0.750681  \n",
       "\n",
       "[614 rows x 4538 columns]"
      ]
     },
     "execution_count": 11,
     "metadata": {},
     "output_type": "execute_result"
    }
   ],
   "source": [
    "variables_remaining = cleaned_correlation_matrix.columns\n",
    "df_remaining_variables = pd.DataFrame(variables_remaining, columns=['Variables'])\n",
    "filtered_genes= genes_x[variables_remaining]\n",
    "filtered_genes\n"
   ]
  },
  {
   "cell_type": "markdown",
   "metadata": {},
   "source": [
    "Además, realizaremos gráficas para ver de manera visual la correlación entre 2 tipos de genes que tenga correlación y analizaremmos dos genes que no la tengan."
   ]
  },
  {
   "cell_type": "code",
   "execution_count": 11,
   "metadata": {},
   "outputs": [
    {
     "data": {
      "image/png": "[encoded data removed]",
      "text/plain": [
       "<Figure size 640x480 with 1 Axes>"
      ]
     },
     "metadata": {},
     "output_type": "display_data"
    }
   ],
   "source": [
    "sns.scatterplot(x='A1BG-AS1', y='A1BG', hue='cell_type', data=detrain, palette='Set2')\n",
    "\n",
    "plt.title('A1BG y A1BG-AS1 coloreado por tipo de célula')\n",
    "plt.ylabel('A1BG')\n",
    "plt.xlabel('A1BG-AS1')\n",
    "plt.legend(title='Tipo de célula')\n",
    "plt.show()\n"
   ]
  },
  {
   "cell_type": "markdown",
   "metadata": {},
   "source": [
    "De la gráfica anterior podemos observar una una correlación positiva ya que cuando una de las variables aumenta, la otra también lo hace. Por otro lado, se puede ver los colores de las células que influyen en estos genes."
   ]
  },
  {
   "cell_type": "code",
   "execution_count": 15,
   "metadata": {},
   "outputs": [
    {
     "data": {
      "image/png": "[encoded data removed]",
      "text/plain": [
       "<Figure size 640x480 with 1 Axes>"
      ]
     },
     "metadata": {},
     "output_type": "display_data"
    }
   ],
   "source": [
    "sns.scatterplot(x='ZYX', y='AATF', hue='cell_type', data=detrain, palette='Set2')\n",
    "\n",
    "plt.title('ZYX y AATF coloreado por tipo de célula')\n",
    "plt.xlabel('ZYX')\n",
    "plt.ylabel('AATF')\n",
    "plt.legend(title='Tipo de célula')\n",
    "plt.show()"
   ]
  },
  {
   "cell_type": "markdown",
   "metadata": {},
   "source": [
    "De la gráfica anterior podemos decir que no se observa una correlación clara, ya que ambas variables están concentradas en los mismos valores, por lo que se puede concluir que no hay correlación ni positiva ni negativa."
   ]
  }
 ],
 "metadata": {
  "kernelspec": {
   "display_name": "ml_venv",
   "language": "python",
   "name": "python3"
  },
  "language_info": {
   "codemirror_mode": {
    "name": "ipython",
    "version": 3
   },
   "file_extension": ".py",
   "mimetype": "text/x-python",
   "name": "python",
   "nbconvert_exporter": "python",
   "pygments_lexer": "ipython3",
   "version": "3.9.19"
  }
 },
 "nbformat": 4,
 "nbformat_minor": 2
}