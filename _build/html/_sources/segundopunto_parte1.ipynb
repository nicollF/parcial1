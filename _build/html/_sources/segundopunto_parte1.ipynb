{
 "cells": [
  {
   "cell_type": "code",
   "execution_count": 1,
   "metadata": {},
   "outputs": [],
   "source": [
    "import warnings\n",
    "warnings.filterwarnings('ignore')\n",
    "import mglearn\n",
    "import pandas as pd\n",
    "import matplotlib.pyplot as plt  \n",
    "import numpy as np\n",
    "from sklearn.linear_model import LinearRegression\n",
    "from sklearn.model_selection import train_test_split\n",
    "from sklearn.neighbors import KNeighborsRegressor\n",
    "from sklearn.neighbors import KNeighborsClassifier\n",
    "from sklearn.model_selection import GridSearchCV\n",
    "from sklearn import neighbors\n",
    "from sklearn.model_selection import cross_val_score\n",
    "from sklearn.metrics import mean_absolute_error\n",
    "from sklearn.metrics import mean_squared_error\n",
    "from sklearn.metrics import mean_squared_log_error\n",
    "from sklearn.metrics import mean_absolute_percentage_error\n",
    "from sklearn.metrics import r2_score\n",
    "from sklearn.metrics import explained_variance_score\n",
    "from sklearn.metrics import precision_score, recall_score, f1_score, roc_auc_score\n",
    "from sklearn.metrics import roc_curve, auc\n",
    "from sklearn.metrics import confusion_matrix, ConfusionMatrixDisplay\n",
    "from sklearn.linear_model import LogisticRegression\n",
    "from sklearn.pipeline import Pipeline\n",
    "from sklearn.preprocessing import MinMaxScaler\n",
    "from sklearn.preprocessing import StandardScaler\n",
    "from sklearn.model_selection import KFold\n",
    "from sklearn.model_selection import StratifiedKFold\n",
    "import seaborn as sns"
   ]
  },
  {
   "cell_type": "markdown",
   "metadata": {},
   "source": [
    "\n",
    "# **Punto 2 (parte 1) y Punto 3**"
   ]
  },
  {
   "cell_type": "markdown",
   "metadata": {},
   "source": [
    "# **NeurIPS 2024 - Predict New Medicines with BELKA**"
   ]
  },
  {
   "cell_type": "markdown",
   "metadata": {},
   "source": [
    "## **Contexto**"
   ]
  },
  {
   "cell_type": "markdown",
   "metadata": {},
   "source": [
    "Los farmacos de moleculas pequeñas son sustacioas químicas,  estas sustancias tienen como objetivos inhibir la actividad de dianas proteicas individuales. La idea es identificar cuales farmacos, logran inhibir la actividad de las proteinas. Normalmente el enfoque es fabricar las moleculas fisicamente una por una y probarla con cada proteina de interés y combrobar si estas interactuan. Visto de esta forma este proceso es un proceso que requiere de mucho tiempo, es por esta razón que se quiere hallar una forma de predecir la unión de las moleculas y proteinas mediante modelos de clasificación.\n",
    "Los datos se recompilaron mediante la tecnología de biblioteca quimica codificada por ADN(DEL).\n",
    "\n",
    "*Tomado de: [NeurIPS 2024 - Predice nuevos medicamentos con BELKA](https://www.kaggle.com/competitions/leash-BELKA/data)*"
   ]
  },
  {
   "cell_type": "markdown",
   "metadata": {},
   "source": [
    "**Notación SMILE**"
   ]
  },
  {
   "cell_type": "markdown",
   "metadata": {},
   "source": [
    "La notación SMILE es utilizada para representar la estructura de las moleculas quimicas, codificando el grafo molecular,incluyendo atomos, enlaces y contevtividad en una secuencua de caracteres."
   ]
  },
  {
   "cell_type": "markdown",
   "metadata": {},
   "source": [
    "**Datos:** \n",
    "- **id**: Identificación única para el ejemplo de la unión molécula-proteina.\n",
    "- **buildingblock1_smiles**: Estructura del primer bloque de construcción en SMILE.\n",
    "- **buildingblock2_smiles**: Estructura del segundo bloque de construcción en SMILE.\n",
    "- **buildingblock3_smiles** - Estructura del tercer bloque de construcción en SMILE.\n",
    "- **molecule_smiles** - La estructura de la molécula completamente ensamblada, en SMILES. Esto incluye los tres bloques de construcción y el núcleo de triazina.\n",
    "- **protein_name**: El nombre de la proteína objetivo\n",
    "- **binds** : Una etiqueta de clase binaria que indica si la molécula se une a la proteína."
   ]
  },
  {
   "cell_type": "markdown",
   "metadata": {},
   "source": [
    "**Análisis de las proteinas objetivo:**\n",
    "1. **EPHX2 (sEH)**\n",
    "La epóxido hidrolasa 2, codificada por el gen EPHX2 y conocida como sEH, desempeña un papel en la hipertensión y la diabetes. Los inhibidores de sEH han progresado hasta estudios clínicos. Durante el pasado, EPHX2/sEH se evaluó usando DEL y se optaron por resultados con aprendizaje automático, aunque los datos no se han dado a conocer. EPHX2/sEH se incluyó en las evaluaciones con el propósito de posibilitar a los participantes comparar el rendimiento de sus modelos con resultados anteriores.\n",
    "\n",
    "2. **BRD4**\n",
    "La proteína BRD4, codificada por el gen BRD4, está unida a Histonas en el núcleo y regula la transcripción del ADN, lo cual tiene un impacto en la expresión genética. Los dominios bromodominios, tales como BRD4, están relacionados con la progresión del cáncer, y se han puesto en marcha terapias que inhibien sus funciones. BRD4 ha sido previamente estudiado con enfoques DEL, pero los resultados no fueron publicados; se incluyó en evaluaciones para probar moléculas candidatas en oncología.\n",
    "\n",
    "3. **ALB (HSA)**\n",
    "La albúmina sérica, codificada por el gen ALB y conocida como HSA, es la proteína más abundante en el sistema cardiovascular. Su función fundamental radica en mantener la presión osmótica y transportar diversas moléculas, tales como hormonas y ácidos grasos. Dado su elevada concentración, la albúmina tiene un impacto en la absorción y distribución de medicamentos en el cuerpo, por lo que disminuir la unión de los medicamentos con esta proteína puede incrementar su efectividad."
   ]
  },
  {
   "cell_type": "markdown",
   "metadata": {},
   "source": [
    "En los datos suministrados en la plataforma de Kaggle, se pueden obtener un conjunto de datos de entrenamiento, que es el que será usado para este estudio y un conjunto de test, este conjunto de test no será usado para este estudio, puesto que no cuenta con la presencia de la variable respuesta, es decir, no cuenta con la variable binaria que indica si se unió o no la proteína con la molécula, por tanto no se podrá medir de forma adecuada si los modelos lanzados funcionan bien en el conjunto de test, por estas razones se dividirá el conjunto de entrenamiento original para poder tener un conjunto de test adecuado."
   ]
  },
  {
   "cell_type": "markdown",
   "metadata": {},
   "source": [
    "## **EDA: Punto 2**"
   ]
  },
  {
   "cell_type": "code",
   "execution_count": 6,
   "metadata": {},
   "outputs": [],
   "source": [
    "import pandas as pd\n",
    "from sklearn.preprocessing import OneHotEncoder\n",
    "from sklearn.feature_selection import SelectKBest, chi2\n",
    "from sklearn.model_selection import train_test_split"
   ]
  },
  {
   "cell_type": "markdown",
   "metadata": {},
   "source": [
    "### **Conjunto de entrenamiento**"
   ]
  },
  {
   "cell_type": "markdown",
   "metadata": {},
   "source": [
    "#### **Preliminares**"
   ]
  },
  {
   "cell_type": "code",
   "execution_count": 2,
   "metadata": {},
   "outputs": [],
   "source": [
    "datos=pd.read_csv(\"C:/Users/fonta/OneDrive/Escritorio/train.csv\")"
   ]
  },
  {
   "cell_type": "code",
   "execution_count": 4,
   "metadata": {},
   "outputs": [
    {
     "data": {
      "text/html": [
       "<div>\n",
       "<style scoped>\n",
       "    .dataframe tbody tr th:only-of-type {\n",
       "        vertical-align: middle;\n",
       "    }\n",
       "\n",
       "    .dataframe tbody tr th {\n",
       "        vertical-align: top;\n",
       "    }\n",
       "\n",
       "    .dataframe thead th {\n",
       "        text-align: right;\n",
       "    }\n",
       "</style>\n",
       "<table border=\"1\" class=\"dataframe\">\n",
       "  <thead>\n",
       "    <tr style=\"text-align: right;\">\n",
       "      <th></th>\n",
       "      <th>id</th>\n",
       "      <th>buildingblock1_smiles</th>\n",
       "      <th>buildingblock2_smiles</th>\n",
       "      <th>buildingblock3_smiles</th>\n",
       "      <th>molecule_smiles</th>\n",
       "      <th>protein_name</th>\n",
       "      <th>binds</th>\n",
       "    </tr>\n",
       "  </thead>\n",
       "  <tbody>\n",
       "    <tr>\n",
       "      <th>0</th>\n",
       "      <td>0</td>\n",
       "      <td>C#CC[C@@H](CC(=O)O)NC(=O)OCC1c2ccccc2-c2ccccc21</td>\n",
       "      <td>C#CCOc1ccc(CN)cc1.Cl</td>\n",
       "      <td>Br.Br.NCC1CCCN1c1cccnn1</td>\n",
       "      <td>C#CCOc1ccc(CNc2nc(NCC3CCCN3c3cccnn3)nc(N[C@@H]...</td>\n",
       "      <td>BRD4</td>\n",
       "      <td>0</td>\n",
       "    </tr>\n",
       "    <tr>\n",
       "      <th>1</th>\n",
       "      <td>1</td>\n",
       "      <td>C#CC[C@@H](CC(=O)O)NC(=O)OCC1c2ccccc2-c2ccccc21</td>\n",
       "      <td>C#CCOc1ccc(CN)cc1.Cl</td>\n",
       "      <td>Br.Br.NCC1CCCN1c1cccnn1</td>\n",
       "      <td>C#CCOc1ccc(CNc2nc(NCC3CCCN3c3cccnn3)nc(N[C@@H]...</td>\n",
       "      <td>HSA</td>\n",
       "      <td>0</td>\n",
       "    </tr>\n",
       "    <tr>\n",
       "      <th>2</th>\n",
       "      <td>2</td>\n",
       "      <td>C#CC[C@@H](CC(=O)O)NC(=O)OCC1c2ccccc2-c2ccccc21</td>\n",
       "      <td>C#CCOc1ccc(CN)cc1.Cl</td>\n",
       "      <td>Br.Br.NCC1CCCN1c1cccnn1</td>\n",
       "      <td>C#CCOc1ccc(CNc2nc(NCC3CCCN3c3cccnn3)nc(N[C@@H]...</td>\n",
       "      <td>sEH</td>\n",
       "      <td>0</td>\n",
       "    </tr>\n",
       "  </tbody>\n",
       "</table>\n",
       "</div>"
      ],
      "text/plain": [
       "   id                            buildingblock1_smiles buildingblock2_smiles  \\\n",
       "0   0  C#CC[C@@H](CC(=O)O)NC(=O)OCC1c2ccccc2-c2ccccc21  C#CCOc1ccc(CN)cc1.Cl   \n",
       "1   1  C#CC[C@@H](CC(=O)O)NC(=O)OCC1c2ccccc2-c2ccccc21  C#CCOc1ccc(CN)cc1.Cl   \n",
       "2   2  C#CC[C@@H](CC(=O)O)NC(=O)OCC1c2ccccc2-c2ccccc21  C#CCOc1ccc(CN)cc1.Cl   \n",
       "\n",
       "     buildingblock3_smiles                                    molecule_smiles  \\\n",
       "0  Br.Br.NCC1CCCN1c1cccnn1  C#CCOc1ccc(CNc2nc(NCC3CCCN3c3cccnn3)nc(N[C@@H]...   \n",
       "1  Br.Br.NCC1CCCN1c1cccnn1  C#CCOc1ccc(CNc2nc(NCC3CCCN3c3cccnn3)nc(N[C@@H]...   \n",
       "2  Br.Br.NCC1CCCN1c1cccnn1  C#CCOc1ccc(CNc2nc(NCC3CCCN3c3cccnn3)nc(N[C@@H]...   \n",
       "\n",
       "  protein_name  binds  \n",
       "0         BRD4      0  \n",
       "1          HSA      0  \n",
       "2          sEH      0  "
      ]
     },
     "execution_count": 4,
     "metadata": {},
     "output_type": "execute_result"
    }
   ],
   "source": [
    "datos.head(3)"
   ]
  },
  {
   "cell_type": "code",
   "execution_count": 5,
   "metadata": {},
   "outputs": [
    {
     "data": {
      "text/plain": [
       "(295246830, 7)"
      ]
     },
     "execution_count": 5,
     "metadata": {},
     "output_type": "execute_result"
    }
   ],
   "source": [
    "datos.shape"
   ]
  },
  {
   "cell_type": "markdown",
   "metadata": {},
   "source": [
    "Vemos que el dataset cuenta con casi 300 millones de registro y un total de 7 columnas."
   ]
  },
  {
   "cell_type": "code",
   "execution_count": 56,
   "metadata": {},
   "outputs": [
    {
     "name": "stdout",
     "output_type": "stream",
     "text": [
      "<class 'pandas.core.frame.DataFrame'>\n",
      "RangeIndex: 295246830 entries, 0 to 295246829\n",
      "Data columns (total 7 columns):\n",
      " #   Column        Dtype \n",
      "---  ------        ----- \n",
      " 0   id            int64 \n",
      " 1   block1        object\n",
      " 2   block2        object\n",
      " 3   block3        object\n",
      " 4   molecule      object\n",
      " 5   protein_name  object\n",
      " 6   binds         int64 \n",
      "dtypes: int64(2), object(5)\n",
      "memory usage: 15.4+ GB\n"
     ]
    }
   ],
   "source": [
    "datos.info()"
   ]
  },
  {
   "cell_type": "markdown",
   "metadata": {},
   "source": [
    "Cada una de las variables se presentan como categoricas, menos las variables de la *id* y *bins* que es la variable que contiene la clasificación binaria de si se dió o no la unión. \n",
    "El resto de variables tienen la notación SMILE de cada uno de los bloques de construcción y la molecula completa."
   ]
  },
  {
   "cell_type": "code",
   "execution_count": 3,
   "metadata": {},
   "outputs": [],
   "source": [
    "datos.columns=[\"id\",\"block1\",\"block2\", \"block3\", \"molecule\",\"protein_name\",\"binds\"]"
   ]
  },
  {
   "cell_type": "code",
   "execution_count": 4,
   "metadata": {},
   "outputs": [
    {
     "data": {
      "text/plain": [
       "Index(['id', 'block1', 'block2', 'block3', 'molecule', 'protein_name',\n",
       "       'binds'],\n",
       "      dtype='object')"
      ]
     },
     "execution_count": 4,
     "metadata": {},
     "output_type": "execute_result"
    }
   ],
   "source": [
    "datos.columns"
   ]
  },
  {
   "cell_type": "markdown",
   "metadata": {},
   "source": [
    "**Bloque 1**"
   ]
  },
  {
   "cell_type": "code",
   "execution_count": 12,
   "metadata": {},
   "outputs": [
    {
     "name": "stdout",
     "output_type": "stream",
     "text": [
      "Valores unicos 271\n",
      "Cantidad de datos faltantes 0\n"
     ]
    }
   ],
   "source": [
    "print('Valores unicos',len(datos[\"block1\"].unique()))\n",
    "print('Cantidad de datos faltantes',datos[\"block1\"].isna().sum())"
   ]
  },
  {
   "cell_type": "markdown",
   "metadata": {},
   "source": [
    "**Bloque 2**"
   ]
  },
  {
   "cell_type": "code",
   "execution_count": 11,
   "metadata": {},
   "outputs": [
    {
     "name": "stdout",
     "output_type": "stream",
     "text": [
      "Valores unicos 693\n",
      "Cantidad de datos faltantes 0\n"
     ]
    }
   ],
   "source": [
    "print('Valores unicos',len(datos[\"block2\"].unique()))\n",
    "print('Cantidad de datos faltantes',datos[\"block2\"].isna().sum())"
   ]
  },
  {
   "cell_type": "markdown",
   "metadata": {},
   "source": [
    "**Bloque 3**"
   ]
  },
  {
   "cell_type": "code",
   "execution_count": 13,
   "metadata": {},
   "outputs": [
    {
     "name": "stdout",
     "output_type": "stream",
     "text": [
      "Valores unicos 872\n",
      "Cantidad de datos faltantes 0\n"
     ]
    }
   ],
   "source": [
    "print('Valores unicos',len(datos[\"block3\"].unique()))\n",
    "print('Cantidad de datos faltantes',datos[\"block3\"].isna().sum())"
   ]
  },
  {
   "cell_type": "markdown",
   "metadata": {},
   "source": [
    "Con los análisis anteriores tenemos información importante, ninguno de los 3 bloques de construcción contiene datos faltantes y además vemos que el bloque uni tienen un total de 271 registros únicos, el bloque 2 tiene 693 registros únicos y el bloque 3 tiene 872 registros únicos. Esto podría traernos un poco de complicaciones mas adelante al momento de codificar nuestras variables para el modelo."
   ]
  },
  {
   "cell_type": "markdown",
   "metadata": {},
   "source": [
    "**Moleculas**"
   ]
  },
  {
   "cell_type": "code",
   "execution_count": 14,
   "metadata": {},
   "outputs": [
    {
     "name": "stdout",
     "output_type": "stream",
     "text": [
      "Valores unicos 98415610\n",
      "Cantidad de datos faltantes 0\n"
     ]
    }
   ],
   "source": [
    "print('Valores unicos',len(datos[\"molecule\"].unique()))\n",
    "print('Cantidad de datos faltantes',datos[\"molecule\"].isna().sum())"
   ]
  },
  {
   "cell_type": "markdown",
   "metadata": {},
   "source": [
    "En el caso de la variable \"Molecule\", en la cual se tienen registro de las estructuras moleculares, se tienen un total de 98'415.610 de registros únicos y 0 datos faltantes, se tiene una gran cantidad valores únicos en el conjunto de train."
   ]
  },
  {
   "cell_type": "code",
   "execution_count": 15,
   "metadata": {},
   "outputs": [
    {
     "data": {
      "text/plain": [
       "molecule\n",
       "C#CCOc1ccc(CNc2nc(NCC3CCCN3c3cccnn3)nc(N[C@@H](CC#C)CC(=O)N[Dy])n2)cc1                       3\n",
       "O=C1CSC(Nc2nc(Nc3cnc(Cl)cc3Cl)nc(Nc3ccc(C(F)(F)F)cc3C(=O)N[Dy])n2)=N1                        3\n",
       "O=C1CSC(Nc2nc(Nc3ccc(C(F)(F)F)cc3C(=O)N[Dy])nc(Nc3n[nH]c4cc(Cl)ccc34)n2)=N1                  3\n",
       "O=C1CSC(Nc2nc(Nc3ccc(C(F)(F)F)cc3C(=O)N[Dy])nc(Nc3n[nH]c4c(F)c(F)ccc34)n2)=N1                3\n",
       "O=C1CSC(Nc2nc(Nc3ccc(C(F)(F)F)cc3C(=O)N[Dy])nc(Nc3n[nH]c4c(Cl)cc([N+](=O)[O-])cc34)n2)=N1    3\n",
       "                                                                                            ..\n",
       "Cc1cc(Nc2nc(NCc3nnn(C)c3C(F)F)nc(N[C@@H](Cc3ccc(F)cc3)C(=O)N[Dy])n2)ccn1                     3\n",
       "Cc1cc(Nc2nc(Nc3ccc(=O)n(C)c3)nc(N[C@@H](Cc3ccc(F)cc3)C(=O)N[Dy])n2)ccn1                      3\n",
       "Cc1cc(Nc2nc(NCc3cn(C)nc3Br)nc(N[C@@H](Cc3ccc(F)cc3)C(=O)N[Dy])n2)ccn1                        3\n",
       "Cc1cc(Nc2nc(NCc3cn(C)c(=O)[nH]c3=O)nc(N[C@@H](Cc3ccc(F)cc3)C(=O)N[Dy])n2)ccn1                3\n",
       "[N-]=[N+]=NCCC[C@H](Nc1nc(Nc2noc3ccc(F)cc23)nc(Nc2noc3ccc(F)cc23)n1)C(=O)N[Dy]               3\n",
       "Name: count, Length: 98415610, dtype: int64"
      ]
     },
     "execution_count": 15,
     "metadata": {},
     "output_type": "execute_result"
    }
   ],
   "source": [
    "datos[\"molecule\"].value_counts()"
   ]
  },
  {
   "cell_type": "markdown",
   "metadata": {},
   "source": [
    "Los resultados anteriores nos dejan ver que cada uno de los registros únicos se repiten 3 veces dentro del dataset, esto pues se tienen registro de cada una de las moleculas con cada una de las 3 proteinas para saber si con alguna de las 3 proteinas se obtuvo una reacción o no, es por esta razón que el dataset tienen como tamaño, el triple de los registros únicos de moleculas."
   ]
  },
  {
   "cell_type": "markdown",
   "metadata": {},
   "source": [
    "**Bins**"
   ]
  },
  {
   "cell_type": "markdown",
   "metadata": {},
   "source": [
    "Podemos hacer un análisis para ver como se comporta la proporción de nuestra variable de clasificación binaria, la variable objetivo *bins*."
   ]
  },
  {
   "cell_type": "code",
   "execution_count": 11,
   "metadata": {},
   "outputs": [
    {
     "data": {
      "text/plain": [
       "binds\n",
       "0    293656924\n",
       "1      1589906\n",
       "Name: count, dtype: int64"
      ]
     },
     "execution_count": 11,
     "metadata": {},
     "output_type": "execute_result"
    }
   ],
   "source": [
    "datos[\"binds\"].value_counts()"
   ]
  },
  {
   "cell_type": "code",
   "execution_count": 14,
   "metadata": {},
   "outputs": [
    {
     "data": {
      "text/plain": [
       "0.5385006165857903"
      ]
     },
     "execution_count": 14,
     "metadata": {},
     "output_type": "execute_result"
    }
   ],
   "source": [
    "(1589906/len(datos))*100"
   ]
  },
  {
   "cell_type": "markdown",
   "metadata": {},
   "source": [
    "EL comprtamiento de nuestra variable respuesta es un poco preocupante puesto que existe un gran desequilibrio en el DataFrame, el 99% de los registros en la variable binaria responden a la categoría 0 y solo un 0.54% responden a la categoría 1, esto es un factor importante al momento de entrenar, validar y testear cualquier modelo."
   ]
  },
  {
   "cell_type": "markdown",
   "metadata": {},
   "source": [
    "***NOTA:***\n",
    "Es notable la gran dimensión de registros que se tienen en el dataset, para trabajar con esa cantidad de datos se necesitan unos recursos adecuados. En este análisis y por fines de reducir la complejidad de todos los códigos y la carga computacional que implica trabajar con millones de datos, se trabajará de manera independiente para cada proteina, es decir, se filtrará el data set por cada proteina y se tomará una muestra significativa en cada uno de ellos para crear los respetivos modelos de clasificación."
   ]
  },
  {
   "cell_type": "markdown",
   "metadata": {},
   "source": [
    "#### **Filtro por proteina**"
   ]
  },
  {
   "cell_type": "code",
   "execution_count": 5,
   "metadata": {},
   "outputs": [
    {
     "data": {
      "text/plain": [
       "array(['BRD4', 'HSA', 'sEH'], dtype=object)"
      ]
     },
     "execution_count": 5,
     "metadata": {},
     "output_type": "execute_result"
    }
   ],
   "source": [
    "datos[\"protein_name\"].unique()"
   ]
  },
  {
   "cell_type": "code",
   "execution_count": 4,
   "metadata": {},
   "outputs": [],
   "source": [
    "brd4=datos[datos[\"protein_name\"]==\"BRD4\"]"
   ]
  },
  {
   "cell_type": "code",
   "execution_count": 7,
   "metadata": {},
   "outputs": [
    {
     "data": {
      "text/plain": [
       "binds\n",
       "0    97958646\n",
       "1      456964\n",
       "Name: count, dtype: int64"
      ]
     },
     "execution_count": 7,
     "metadata": {},
     "output_type": "execute_result"
    }
   ],
   "source": [
    "brd4[\"binds\"].value_counts()"
   ]
  },
  {
   "cell_type": "code",
   "execution_count": 12,
   "metadata": {},
   "outputs": [
    {
     "name": "stdout",
     "output_type": "stream",
     "text": [
      "Proporción de la categoría 0:  99.53567935005432\n",
      "Proporción de la categoría 1:  0.4643206499456743\n"
     ]
    }
   ],
   "source": [
    "ceros=(97958646/len(brd4))*100\n",
    "unos=(456964/len(brd4))*100\n",
    "\n",
    "print('Proporción de la categoría 0: ', ceros)\n",
    "print('Proporción de la categoría 1: ', unos)"
   ]
  },
  {
   "cell_type": "code",
   "execution_count": 4,
   "metadata": {},
   "outputs": [],
   "source": [
    "hsa=datos[datos[\"protein_name\"]==\"HSA\"]"
   ]
  },
  {
   "cell_type": "code",
   "execution_count": 9,
   "metadata": {},
   "outputs": [
    {
     "data": {
      "text/plain": [
       "binds\n",
       "0    98007200\n",
       "1      408410\n",
       "Name: count, dtype: int64"
      ]
     },
     "execution_count": 9,
     "metadata": {},
     "output_type": "execute_result"
    }
   ],
   "source": [
    "hsa[\"binds\"].value_counts()"
   ]
  },
  {
   "cell_type": "code",
   "execution_count": 15,
   "metadata": {},
   "outputs": [
    {
     "name": "stdout",
     "output_type": "stream",
     "text": [
      "Proporción de la categoría 0:  99.58501501946692\n",
      "Proporción de la categoría 1:  0.41498498053306787\n"
     ]
    }
   ],
   "source": [
    "ceros=(98007200/len(hsa))*100\n",
    "unos=(408410/len(hsa))*100\n",
    "\n",
    "print('Proporción de la categoría 0: ', ceros)\n",
    "print('Proporción de la categoría 1: ', unos)"
   ]
  },
  {
   "cell_type": "code",
   "execution_count": 7,
   "metadata": {},
   "outputs": [],
   "source": [
    "seh=datos[datos[\"protein_name\"]==\"sEH\"]"
   ]
  },
  {
   "cell_type": "code",
   "execution_count": 10,
   "metadata": {},
   "outputs": [
    {
     "data": {
      "text/plain": [
       "binds\n",
       "0    97691078\n",
       "1      724532\n",
       "Name: count, dtype: int64"
      ]
     },
     "execution_count": 10,
     "metadata": {},
     "output_type": "execute_result"
    }
   ],
   "source": [
    "seh[\"binds\"].value_counts()"
   ]
  },
  {
   "cell_type": "code",
   "execution_count": 16,
   "metadata": {},
   "outputs": [
    {
     "name": "stdout",
     "output_type": "stream",
     "text": [
      "Proporción de la categoría 0:  99.26380378072137\n",
      "Proporción de la categoría 1:  0.7361962192786287\n"
     ]
    }
   ],
   "source": [
    "ceros=(97691078/len(seh))*100\n",
    "unos=(724532/len(seh))*100\n",
    "\n",
    "print('Proporción de la categoría 0: ', ceros)\n",
    "print('Proporción de la categoría 1: ', unos)"
   ]
  },
  {
   "cell_type": "markdown",
   "metadata": {},
   "source": [
    "Al filtrar vemos que la diferencia entre las categorías se mantiene en los dataframe, nuestro objetivo de aquí en adelante es trabajar con estos 3 dataframe por separado, con el fin de lanzar modelos que puedan clasificar si se da o no la unión entre alguna de las 3 proteinas con distintas moleculas, es necesario tratar las variables de cada conjunto de datos para establecer cual será el conjunto X de entrenamiento en cada uno de los modelos."
   ]
  },
  {
   "cell_type": "markdown",
   "metadata": {},
   "source": [
    "#### ***SEH: Hidrolasa de Epóxido Soluble.***"
   ]
  },
  {
   "cell_type": "markdown",
   "metadata": {},
   "source": [
    "##### **Análisis inicial.**"
   ]
  },
  {
   "cell_type": "code",
   "execution_count": 17,
   "metadata": {},
   "outputs": [
    {
     "data": {
      "text/plain": [
       "(98415610, 7)"
      ]
     },
     "execution_count": 17,
     "metadata": {},
     "output_type": "execute_result"
    }
   ],
   "source": [
    "seh.shape"
   ]
  },
  {
   "cell_type": "markdown",
   "metadata": {},
   "source": [
    "Vemos que ahora nuetro dataframe cuenta con 98'415.610 registros, que es mucho menor que el anterior, pero aun así con nuestros recursos es muy dificil de procesar y modelar ese gran conjunto de datos es por eso que nos quedaremos solo con 100.000 registros elegidos al azar dentreo de los 98 millones."
   ]
  },
  {
   "cell_type": "code",
   "execution_count": 8,
   "metadata": {},
   "outputs": [],
   "source": [
    "seh_final, _ = train_test_split( seh, train_size = 100000,  stratify = seh['binds'], random_state=11)"
   ]
  },
  {
   "cell_type": "code",
   "execution_count": 10,
   "metadata": {},
   "outputs": [],
   "source": [
    "seh_final.to_csv('final_seh_',index=False)"
   ]
  },
  {
   "cell_type": "code",
   "execution_count": 13,
   "metadata": {},
   "outputs": [],
   "source": [
    "seh_final=pd.read_csv(\"C:/Users/fonta/OneDrive/Documentos/CDD/6. Sexto semestre/Machine learning/Primer parcial/Parcial_practico/final_seh_\")"
   ]
  },
  {
   "cell_type": "code",
   "execution_count": 25,
   "metadata": {},
   "outputs": [
    {
     "data": {
      "text/html": [
       "<div>\n",
       "<style scoped>\n",
       "    .dataframe tbody tr th:only-of-type {\n",
       "        vertical-align: middle;\n",
       "    }\n",
       "\n",
       "    .dataframe tbody tr th {\n",
       "        vertical-align: top;\n",
       "    }\n",
       "\n",
       "    .dataframe thead th {\n",
       "        text-align: right;\n",
       "    }\n",
       "</style>\n",
       "<table border=\"1\" class=\"dataframe\">\n",
       "  <thead>\n",
       "    <tr style=\"text-align: right;\">\n",
       "      <th></th>\n",
       "      <th>id</th>\n",
       "      <th>block1</th>\n",
       "      <th>block2</th>\n",
       "      <th>block3</th>\n",
       "      <th>molecule</th>\n",
       "      <th>protein_name</th>\n",
       "      <th>binds</th>\n",
       "    </tr>\n",
       "  </thead>\n",
       "  <tbody>\n",
       "    <tr>\n",
       "      <th>0</th>\n",
       "      <td>147239129</td>\n",
       "      <td>O=C(Nc1c(Cl)cccc1C(=O)O)OCC1c2ccccc2-c2ccccc21</td>\n",
       "      <td>CNC(=O)COCCN.Cl</td>\n",
       "      <td>CN(CCN)C1CCOCC1</td>\n",
       "      <td>CNC(=O)COCCNc1nc(NCCN(C)C2CCOCC2)nc(Nc2c(Cl)cc...</td>\n",
       "      <td>sEH</td>\n",
       "      <td>0</td>\n",
       "    </tr>\n",
       "    <tr>\n",
       "      <th>1</th>\n",
       "      <td>257990426</td>\n",
       "      <td>O=C(O)C[C@@H](NC(=O)OCC1c2ccccc2-c2ccccc21)c1c...</td>\n",
       "      <td>Nc1cc(N2CCNCC2)ccc1[N+](=O)[O-]</td>\n",
       "      <td>Cl.NCCN1CCCS1(=O)=O</td>\n",
       "      <td>O=C(C[C@@H](Nc1nc(NCCN2CCCS2(=O)=O)nc(Nc2cc(N3...</td>\n",
       "      <td>sEH</td>\n",
       "      <td>0</td>\n",
       "    </tr>\n",
       "    <tr>\n",
       "      <th>2</th>\n",
       "      <td>180571076</td>\n",
       "      <td>O=C(Nc1ccc(Br)c(C(=O)O)c1)OCC1c2ccccc2-c2ccccc21</td>\n",
       "      <td>NCc1ccc2[nH]ccc2c1</td>\n",
       "      <td>Cc1ccc(N)nn1</td>\n",
       "      <td>Cc1ccc(Nc2nc(NCc3ccc4[nH]ccc4c3)nc(Nc3ccc(Br)c...</td>\n",
       "      <td>sEH</td>\n",
       "      <td>0</td>\n",
       "    </tr>\n",
       "    <tr>\n",
       "      <th>3</th>\n",
       "      <td>186946937</td>\n",
       "      <td>O=C(Nc1ccc(C(=O)O)c([N+](=O)[O-])c1)OCC1c2cccc...</td>\n",
       "      <td>Cl.NCc1ccc(-c2c[nH]c(=O)[nH]c2=O)cc1</td>\n",
       "      <td>Nc1ccsc1.O=C(O)C(=O)O</td>\n",
       "      <td>O=C(N[Dy])c1ccc(Nc2nc(NCc3ccc(-c4c[nH]c(=O)[nH...</td>\n",
       "      <td>sEH</td>\n",
       "      <td>0</td>\n",
       "    </tr>\n",
       "    <tr>\n",
       "      <th>4</th>\n",
       "      <td>207543668</td>\n",
       "      <td>O=C(Nc1cccc(-c2cccc(C(=O)O)c2)c1O)OCC1c2ccccc2...</td>\n",
       "      <td>Cl.NCC(=O)N1CCCO1</td>\n",
       "      <td>Nc1c(O)ncnc1O</td>\n",
       "      <td>O=C(N[Dy])c1cccc(-c2cccc(Nc3nc(NCC(=O)N4CCCO4)...</td>\n",
       "      <td>sEH</td>\n",
       "      <td>0</td>\n",
       "    </tr>\n",
       "  </tbody>\n",
       "</table>\n",
       "</div>"
      ],
      "text/plain": [
       "          id                                             block1  \\\n",
       "0  147239129     O=C(Nc1c(Cl)cccc1C(=O)O)OCC1c2ccccc2-c2ccccc21   \n",
       "1  257990426  O=C(O)C[C@@H](NC(=O)OCC1c2ccccc2-c2ccccc21)c1c...   \n",
       "2  180571076   O=C(Nc1ccc(Br)c(C(=O)O)c1)OCC1c2ccccc2-c2ccccc21   \n",
       "3  186946937  O=C(Nc1ccc(C(=O)O)c([N+](=O)[O-])c1)OCC1c2cccc...   \n",
       "4  207543668  O=C(Nc1cccc(-c2cccc(C(=O)O)c2)c1O)OCC1c2ccccc2...   \n",
       "\n",
       "                                 block2                 block3  \\\n",
       "0                       CNC(=O)COCCN.Cl        CN(CCN)C1CCOCC1   \n",
       "1       Nc1cc(N2CCNCC2)ccc1[N+](=O)[O-]    Cl.NCCN1CCCS1(=O)=O   \n",
       "2                    NCc1ccc2[nH]ccc2c1           Cc1ccc(N)nn1   \n",
       "3  Cl.NCc1ccc(-c2c[nH]c(=O)[nH]c2=O)cc1  Nc1ccsc1.O=C(O)C(=O)O   \n",
       "4                     Cl.NCC(=O)N1CCCO1          Nc1c(O)ncnc1O   \n",
       "\n",
       "                                            molecule protein_name  binds  \n",
       "0  CNC(=O)COCCNc1nc(NCCN(C)C2CCOCC2)nc(Nc2c(Cl)cc...          sEH      0  \n",
       "1  O=C(C[C@@H](Nc1nc(NCCN2CCCS2(=O)=O)nc(Nc2cc(N3...          sEH      0  \n",
       "2  Cc1ccc(Nc2nc(NCc3ccc4[nH]ccc4c3)nc(Nc3ccc(Br)c...          sEH      0  \n",
       "3  O=C(N[Dy])c1ccc(Nc2nc(NCc3ccc(-c4c[nH]c(=O)[nH...          sEH      0  \n",
       "4  O=C(N[Dy])c1cccc(-c2cccc(Nc3nc(NCC(=O)N4CCCO4)...          sEH      0  "
      ]
     },
     "execution_count": 25,
     "metadata": {},
     "output_type": "execute_result"
    }
   ],
   "source": [
    "seh_final.head()"
   ]
  },
  {
   "cell_type": "code",
   "execution_count": 26,
   "metadata": {},
   "outputs": [
    {
     "data": {
      "text/plain": [
       "100000"
      ]
     },
     "execution_count": 26,
     "metadata": {},
     "output_type": "execute_result"
    }
   ],
   "source": [
    "len(seh_final['molecule'].unique())"
   ]
  },
  {
   "cell_type": "markdown",
   "metadata": {},
   "source": [
    "Luego de hacer la selección aleatoria estratificada para reducir la cantidad de registros en el dataset de SEH, vemos que la cantidad de moléculas únicas en la selección es igual a la cantidad de registros; es por tanto que podemos decir que todas las moléculas son únicas. Así podemos decir que la estructura de la molécula en notación SMILE cumple la función de un estilo de identificación de la unión de los bloques. Esta variable será retirada al momento de crear el dataframe final para el entrenamiento de los modelos, ya que es posible que al incluirla pueda crear sobre ajuste."
   ]
  },
  {
   "cell_type": "code",
   "execution_count": 27,
   "metadata": {},
   "outputs": [
    {
     "data": {
      "text/plain": [
       "binds\n",
       "0    99264\n",
       "1      736\n",
       "Name: count, dtype: int64"
      ]
     },
     "execution_count": 27,
     "metadata": {},
     "output_type": "execute_result"
    }
   ],
   "source": [
    "seh_final[\"binds\"].value_counts()"
   ]
  },
  {
   "cell_type": "code",
   "execution_count": 28,
   "metadata": {},
   "outputs": [
    {
     "name": "stdout",
     "output_type": "stream",
     "text": [
      "Proporción de la categoría 0:  99.264\n",
      "Proporción de la categoría 1:  0.736\n"
     ]
    }
   ],
   "source": [
    "ceros=(99264/len(seh_final))*100\n",
    "unos=(736/len(seh_final))*100\n",
    "\n",
    "print('Proporción de la categoría 0: ', ceros)\n",
    "print('Proporción de la categoría 1: ', unos)"
   ]
  },
  {
   "cell_type": "markdown",
   "metadata": {},
   "source": [
    "Luego de hacer el proceso de extraer 100.000 datos de la muestra orginal, vemos que las proporciones en la variable binearia, son similares al grupo de datos original, por tanto al cambiar el tamaño de los datos no hemos alterado la distribución de nuestra variable respuesta."
   ]
  },
  {
   "cell_type": "code",
   "execution_count": 29,
   "metadata": {},
   "outputs": [
    {
     "data": {
      "text/html": [
       "<div>\n",
       "<style scoped>\n",
       "    .dataframe tbody tr th:only-of-type {\n",
       "        vertical-align: middle;\n",
       "    }\n",
       "\n",
       "    .dataframe tbody tr th {\n",
       "        vertical-align: top;\n",
       "    }\n",
       "\n",
       "    .dataframe thead th {\n",
       "        text-align: right;\n",
       "    }\n",
       "</style>\n",
       "<table border=\"1\" class=\"dataframe\">\n",
       "  <thead>\n",
       "    <tr style=\"text-align: right;\">\n",
       "      <th></th>\n",
       "      <th>block1</th>\n",
       "      <th>block2</th>\n",
       "      <th>block3</th>\n",
       "      <th>molecule</th>\n",
       "      <th>protein_name</th>\n",
       "    </tr>\n",
       "  </thead>\n",
       "  <tbody>\n",
       "    <tr>\n",
       "      <th>count</th>\n",
       "      <td>100000</td>\n",
       "      <td>100000</td>\n",
       "      <td>100000</td>\n",
       "      <td>100000</td>\n",
       "      <td>100000</td>\n",
       "    </tr>\n",
       "    <tr>\n",
       "      <th>unique</th>\n",
       "      <td>271</td>\n",
       "      <td>693</td>\n",
       "      <td>867</td>\n",
       "      <td>100000</td>\n",
       "      <td>1</td>\n",
       "    </tr>\n",
       "    <tr>\n",
       "      <th>top</th>\n",
       "      <td>O=C(Nc1cc(C(=O)O)ccc1Br)OCC1c2ccccc2-c2ccccc21</td>\n",
       "      <td>CC1(CCCCN)OCCO1</td>\n",
       "      <td>CSc1nnc(CN)s1</td>\n",
       "      <td>CNC(=O)COCCNc1nc(NCCN(C)C2CCOCC2)nc(Nc2c(Cl)cc...</td>\n",
       "      <td>sEH</td>\n",
       "    </tr>\n",
       "    <tr>\n",
       "      <th>freq</th>\n",
       "      <td>418</td>\n",
       "      <td>261</td>\n",
       "      <td>226</td>\n",
       "      <td>1</td>\n",
       "      <td>100000</td>\n",
       "    </tr>\n",
       "  </tbody>\n",
       "</table>\n",
       "</div>"
      ],
      "text/plain": [
       "                                                block1           block2  \\\n",
       "count                                           100000           100000   \n",
       "unique                                             271              693   \n",
       "top     O=C(Nc1cc(C(=O)O)ccc1Br)OCC1c2ccccc2-c2ccccc21  CC1(CCCCN)OCCO1   \n",
       "freq                                               418              261   \n",
       "\n",
       "               block3                                           molecule  \\\n",
       "count          100000                                             100000   \n",
       "unique            867                                             100000   \n",
       "top     CSc1nnc(CN)s1  CNC(=O)COCCNc1nc(NCCN(C)C2CCOCC2)nc(Nc2c(Cl)cc...   \n",
       "freq              226                                                  1   \n",
       "\n",
       "       protein_name  \n",
       "count        100000  \n",
       "unique            1  \n",
       "top             sEH  \n",
       "freq         100000  "
      ]
     },
     "execution_count": 29,
     "metadata": {},
     "output_type": "execute_result"
    }
   ],
   "source": [
    "seh_final.describe(include=[object])"
   ]
  },
  {
   "cell_type": "markdown",
   "metadata": {},
   "source": [
    "Si recordamos al incio de este análisis, veíamos la cantidad de datos únicos que se tenían en el set de datos orginales, en este data set con menos registros se mantienen la misma cantidad de registros únicos en las variaables \"block1\", \"Block2\"y \"Block3\"."
   ]
  },
  {
   "cell_type": "markdown",
   "metadata": {},
   "source": [
    "##### **Codificación de las variables categoricas.**"
   ]
  },
  {
   "cell_type": "code",
   "execution_count": 14,
   "metadata": {},
   "outputs": [],
   "source": [
    "to_encode=seh_final.copy()\n",
    "to_encode=to_encode.reset_index()"
   ]
  },
  {
   "cell_type": "markdown",
   "metadata": {},
   "source": [
    "Se hará la codificación de cada una de los valores únicos en las variables categóricas de interés, esto con el fin de poder ser incluídas en los modelos que se implementaran mas adelante, para cumplur esta acción se hará uso de la función OneHotEncoder()."
   ]
  },
  {
   "cell_type": "code",
   "execution_count": 15,
   "metadata": {},
   "outputs": [],
   "source": [
    "categorical_columns = ['protein_name', 'block1', 'block2', 'block3']\n",
    "encoder = OneHotEncoder(sparse_output=False)\n",
    "one_hot_encoded = encoder.fit_transform(to_encode[categorical_columns])\n",
    "one_hot_df = pd.DataFrame(one_hot_encoded, columns=encoder.get_feature_names_out(categorical_columns))\n",
    "df_encoded = pd.concat([to_encode, one_hot_df], axis=1)\n",
    "df_encoded_seh = df_encoded.drop(categorical_columns, axis=1)\n"
   ]
  },
  {
   "cell_type": "code",
   "execution_count": 32,
   "metadata": {},
   "outputs": [
    {
     "data": {
      "text/html": [
       "<div>\n",
       "<style scoped>\n",
       "    .dataframe tbody tr th:only-of-type {\n",
       "        vertical-align: middle;\n",
       "    }\n",
       "\n",
       "    .dataframe tbody tr th {\n",
       "        vertical-align: top;\n",
       "    }\n",
       "\n",
       "    .dataframe thead th {\n",
       "        text-align: right;\n",
       "    }\n",
       "</style>\n",
       "<table border=\"1\" class=\"dataframe\">\n",
       "  <thead>\n",
       "    <tr style=\"text-align: right;\">\n",
       "      <th></th>\n",
       "      <th>index</th>\n",
       "      <th>id</th>\n",
       "      <th>molecule</th>\n",
       "      <th>binds</th>\n",
       "      <th>protein_name_sEH</th>\n",
       "      <th>block1_C#CC[C@@H](CC(=O)O)NC(=O)OCC1c2ccccc2-c2ccccc21</th>\n",
       "      <th>block1_C#CC[C@@H](NC(=O)OCC1c2ccccc2-c2ccccc21)C(=O)O</th>\n",
       "      <th>block1_C#CC[C@@](C)(NC(=O)OCC1c2ccccc2-c2ccccc21)C(=O)O</th>\n",
       "      <th>block1_C#CC[C@H](CC(=O)O)NC(=O)OCC1c2ccccc2-c2ccccc21</th>\n",
       "      <th>block1_C#CC[C@H](NC(=O)OCC1c2ccccc2-c2ccccc21)C(=O)O</th>\n",
       "      <th>...</th>\n",
       "      <th>block3_Nc1ncnc(=O)[nH]1</th>\n",
       "      <th>block3_Nc1ncnc(Cl)c1Cl</th>\n",
       "      <th>block3_Nc1ncnc2[nH]cnc12</th>\n",
       "      <th>block3_Nc1ncnc2[nH]ncc12</th>\n",
       "      <th>block3_Nc1ncnc2c1ncn2C1CCCCO1</th>\n",
       "      <th>block3_Nc1ncncc1Br</th>\n",
       "      <th>block3_Nc1nnc(S)s1</th>\n",
       "      <th>block3_Nc1nncs1</th>\n",
       "      <th>block3_Nc1nnn[nH]1</th>\n",
       "      <th>block3_Nc1noc2ccc(F)cc12</th>\n",
       "    </tr>\n",
       "  </thead>\n",
       "  <tbody>\n",
       "    <tr>\n",
       "      <th>0</th>\n",
       "      <td>0</td>\n",
       "      <td>147239129</td>\n",
       "      <td>CNC(=O)COCCNc1nc(NCCN(C)C2CCOCC2)nc(Nc2c(Cl)cc...</td>\n",
       "      <td>0</td>\n",
       "      <td>1.0</td>\n",
       "      <td>0.0</td>\n",
       "      <td>0.0</td>\n",
       "      <td>0.0</td>\n",
       "      <td>0.0</td>\n",
       "      <td>0.0</td>\n",
       "      <td>...</td>\n",
       "      <td>0.0</td>\n",
       "      <td>0.0</td>\n",
       "      <td>0.0</td>\n",
       "      <td>0.0</td>\n",
       "      <td>0.0</td>\n",
       "      <td>0.0</td>\n",
       "      <td>0.0</td>\n",
       "      <td>0.0</td>\n",
       "      <td>0.0</td>\n",
       "      <td>0.0</td>\n",
       "    </tr>\n",
       "    <tr>\n",
       "      <th>1</th>\n",
       "      <td>1</td>\n",
       "      <td>257990426</td>\n",
       "      <td>O=C(C[C@@H](Nc1nc(NCCN2CCCS2(=O)=O)nc(Nc2cc(N3...</td>\n",
       "      <td>0</td>\n",
       "      <td>1.0</td>\n",
       "      <td>0.0</td>\n",
       "      <td>0.0</td>\n",
       "      <td>0.0</td>\n",
       "      <td>0.0</td>\n",
       "      <td>0.0</td>\n",
       "      <td>...</td>\n",
       "      <td>0.0</td>\n",
       "      <td>0.0</td>\n",
       "      <td>0.0</td>\n",
       "      <td>0.0</td>\n",
       "      <td>0.0</td>\n",
       "      <td>0.0</td>\n",
       "      <td>0.0</td>\n",
       "      <td>0.0</td>\n",
       "      <td>0.0</td>\n",
       "      <td>0.0</td>\n",
       "    </tr>\n",
       "    <tr>\n",
       "      <th>2</th>\n",
       "      <td>2</td>\n",
       "      <td>180571076</td>\n",
       "      <td>Cc1ccc(Nc2nc(NCc3ccc4[nH]ccc4c3)nc(Nc3ccc(Br)c...</td>\n",
       "      <td>0</td>\n",
       "      <td>1.0</td>\n",
       "      <td>0.0</td>\n",
       "      <td>0.0</td>\n",
       "      <td>0.0</td>\n",
       "      <td>0.0</td>\n",
       "      <td>0.0</td>\n",
       "      <td>...</td>\n",
       "      <td>0.0</td>\n",
       "      <td>0.0</td>\n",
       "      <td>0.0</td>\n",
       "      <td>0.0</td>\n",
       "      <td>0.0</td>\n",
       "      <td>0.0</td>\n",
       "      <td>0.0</td>\n",
       "      <td>0.0</td>\n",
       "      <td>0.0</td>\n",
       "      <td>0.0</td>\n",
       "    </tr>\n",
       "    <tr>\n",
       "      <th>3</th>\n",
       "      <td>3</td>\n",
       "      <td>186946937</td>\n",
       "      <td>O=C(N[Dy])c1ccc(Nc2nc(NCc3ccc(-c4c[nH]c(=O)[nH...</td>\n",
       "      <td>0</td>\n",
       "      <td>1.0</td>\n",
       "      <td>0.0</td>\n",
       "      <td>0.0</td>\n",
       "      <td>0.0</td>\n",
       "      <td>0.0</td>\n",
       "      <td>0.0</td>\n",
       "      <td>...</td>\n",
       "      <td>0.0</td>\n",
       "      <td>0.0</td>\n",
       "      <td>0.0</td>\n",
       "      <td>0.0</td>\n",
       "      <td>0.0</td>\n",
       "      <td>0.0</td>\n",
       "      <td>0.0</td>\n",
       "      <td>0.0</td>\n",
       "      <td>0.0</td>\n",
       "      <td>0.0</td>\n",
       "    </tr>\n",
       "    <tr>\n",
       "      <th>4</th>\n",
       "      <td>4</td>\n",
       "      <td>207543668</td>\n",
       "      <td>O=C(N[Dy])c1cccc(-c2cccc(Nc3nc(NCC(=O)N4CCCO4)...</td>\n",
       "      <td>0</td>\n",
       "      <td>1.0</td>\n",
       "      <td>0.0</td>\n",
       "      <td>0.0</td>\n",
       "      <td>0.0</td>\n",
       "      <td>0.0</td>\n",
       "      <td>0.0</td>\n",
       "      <td>...</td>\n",
       "      <td>0.0</td>\n",
       "      <td>0.0</td>\n",
       "      <td>0.0</td>\n",
       "      <td>0.0</td>\n",
       "      <td>0.0</td>\n",
       "      <td>0.0</td>\n",
       "      <td>0.0</td>\n",
       "      <td>0.0</td>\n",
       "      <td>0.0</td>\n",
       "      <td>0.0</td>\n",
       "    </tr>\n",
       "  </tbody>\n",
       "</table>\n",
       "<p>5 rows × 1836 columns</p>\n",
       "</div>"
      ],
      "text/plain": [
       "   index         id                                           molecule  binds  \\\n",
       "0      0  147239129  CNC(=O)COCCNc1nc(NCCN(C)C2CCOCC2)nc(Nc2c(Cl)cc...      0   \n",
       "1      1  257990426  O=C(C[C@@H](Nc1nc(NCCN2CCCS2(=O)=O)nc(Nc2cc(N3...      0   \n",
       "2      2  180571076  Cc1ccc(Nc2nc(NCc3ccc4[nH]ccc4c3)nc(Nc3ccc(Br)c...      0   \n",
       "3      3  186946937  O=C(N[Dy])c1ccc(Nc2nc(NCc3ccc(-c4c[nH]c(=O)[nH...      0   \n",
       "4      4  207543668  O=C(N[Dy])c1cccc(-c2cccc(Nc3nc(NCC(=O)N4CCCO4)...      0   \n",
       "\n",
       "   protein_name_sEH  block1_C#CC[C@@H](CC(=O)O)NC(=O)OCC1c2ccccc2-c2ccccc21  \\\n",
       "0               1.0                                                0.0        \n",
       "1               1.0                                                0.0        \n",
       "2               1.0                                                0.0        \n",
       "3               1.0                                                0.0        \n",
       "4               1.0                                                0.0        \n",
       "\n",
       "   block1_C#CC[C@@H](NC(=O)OCC1c2ccccc2-c2ccccc21)C(=O)O  \\\n",
       "0                                                0.0       \n",
       "1                                                0.0       \n",
       "2                                                0.0       \n",
       "3                                                0.0       \n",
       "4                                                0.0       \n",
       "\n",
       "   block1_C#CC[C@@](C)(NC(=O)OCC1c2ccccc2-c2ccccc21)C(=O)O  \\\n",
       "0                                                0.0         \n",
       "1                                                0.0         \n",
       "2                                                0.0         \n",
       "3                                                0.0         \n",
       "4                                                0.0         \n",
       "\n",
       "   block1_C#CC[C@H](CC(=O)O)NC(=O)OCC1c2ccccc2-c2ccccc21  \\\n",
       "0                                                0.0       \n",
       "1                                                0.0       \n",
       "2                                                0.0       \n",
       "3                                                0.0       \n",
       "4                                                0.0       \n",
       "\n",
       "   block1_C#CC[C@H](NC(=O)OCC1c2ccccc2-c2ccccc21)C(=O)O  ...  \\\n",
       "0                                                0.0     ...   \n",
       "1                                                0.0     ...   \n",
       "2                                                0.0     ...   \n",
       "3                                                0.0     ...   \n",
       "4                                                0.0     ...   \n",
       "\n",
       "   block3_Nc1ncnc(=O)[nH]1  block3_Nc1ncnc(Cl)c1Cl  block3_Nc1ncnc2[nH]cnc12  \\\n",
       "0                      0.0                     0.0                       0.0   \n",
       "1                      0.0                     0.0                       0.0   \n",
       "2                      0.0                     0.0                       0.0   \n",
       "3                      0.0                     0.0                       0.0   \n",
       "4                      0.0                     0.0                       0.0   \n",
       "\n",
       "   block3_Nc1ncnc2[nH]ncc12  block3_Nc1ncnc2c1ncn2C1CCCCO1  \\\n",
       "0                       0.0                            0.0   \n",
       "1                       0.0                            0.0   \n",
       "2                       0.0                            0.0   \n",
       "3                       0.0                            0.0   \n",
       "4                       0.0                            0.0   \n",
       "\n",
       "   block3_Nc1ncncc1Br  block3_Nc1nnc(S)s1  block3_Nc1nncs1  \\\n",
       "0                 0.0                 0.0              0.0   \n",
       "1                 0.0                 0.0              0.0   \n",
       "2                 0.0                 0.0              0.0   \n",
       "3                 0.0                 0.0              0.0   \n",
       "4                 0.0                 0.0              0.0   \n",
       "\n",
       "   block3_Nc1nnn[nH]1  block3_Nc1noc2ccc(F)cc12  \n",
       "0                 0.0                       0.0  \n",
       "1                 0.0                       0.0  \n",
       "2                 0.0                       0.0  \n",
       "3                 0.0                       0.0  \n",
       "4                 0.0                       0.0  \n",
       "\n",
       "[5 rows x 1836 columns]"
      ]
     },
     "execution_count": 32,
     "metadata": {},
     "output_type": "execute_result"
    }
   ],
   "source": [
    "df_encoded_seh.head()"
   ]
  },
  {
   "cell_type": "markdown",
   "metadata": {},
   "source": [
    "Como mencionamos anteriormente, la variable \"molecule\" y la variable \"id\" serán retiradas del dataframe, puesto que no aportan en nada al modelo al ser solo información de identificación."
   ]
  },
  {
   "cell_type": "code",
   "execution_count": 16,
   "metadata": {},
   "outputs": [],
   "source": [
    "df_encoded_seh.drop(columns=['id','molecule'], inplace=True)"
   ]
  },
  {
   "cell_type": "code",
   "execution_count": 17,
   "metadata": {},
   "outputs": [
    {
     "data": {
      "text/html": [
       "<div>\n",
       "<style scoped>\n",
       "    .dataframe tbody tr th:only-of-type {\n",
       "        vertical-align: middle;\n",
       "    }\n",
       "\n",
       "    .dataframe tbody tr th {\n",
       "        vertical-align: top;\n",
       "    }\n",
       "\n",
       "    .dataframe thead th {\n",
       "        text-align: right;\n",
       "    }\n",
       "</style>\n",
       "<table border=\"1\" class=\"dataframe\">\n",
       "  <thead>\n",
       "    <tr style=\"text-align: right;\">\n",
       "      <th></th>\n",
       "      <th>index</th>\n",
       "      <th>binds</th>\n",
       "      <th>protein_name_sEH</th>\n",
       "      <th>block1_C#CC[C@@H](CC(=O)O)NC(=O)OCC1c2ccccc2-c2ccccc21</th>\n",
       "      <th>block1_C#CC[C@@H](NC(=O)OCC1c2ccccc2-c2ccccc21)C(=O)O</th>\n",
       "      <th>block1_C#CC[C@@](C)(NC(=O)OCC1c2ccccc2-c2ccccc21)C(=O)O</th>\n",
       "      <th>block1_C#CC[C@H](CC(=O)O)NC(=O)OCC1c2ccccc2-c2ccccc21</th>\n",
       "      <th>block1_C#CC[C@H](NC(=O)OCC1c2ccccc2-c2ccccc21)C(=O)O</th>\n",
       "      <th>block1_C=CCC(CC=C)(NC(=O)OCC1c2ccccc2-c2ccccc21)C(=O)O</th>\n",
       "      <th>block1_C=CCC(NC(=O)OCC1c2ccccc2-c2ccccc21)C(=O)O</th>\n",
       "      <th>...</th>\n",
       "      <th>block3_Nc1ncnc(=O)[nH]1</th>\n",
       "      <th>block3_Nc1ncnc(Cl)c1Cl</th>\n",
       "      <th>block3_Nc1ncnc2[nH]cnc12</th>\n",
       "      <th>block3_Nc1ncnc2[nH]ncc12</th>\n",
       "      <th>block3_Nc1ncnc2c1ncn2C1CCCCO1</th>\n",
       "      <th>block3_Nc1ncncc1Br</th>\n",
       "      <th>block3_Nc1nnc(S)s1</th>\n",
       "      <th>block3_Nc1nncs1</th>\n",
       "      <th>block3_Nc1nnn[nH]1</th>\n",
       "      <th>block3_Nc1noc2ccc(F)cc12</th>\n",
       "    </tr>\n",
       "  </thead>\n",
       "  <tbody>\n",
       "    <tr>\n",
       "      <th>0</th>\n",
       "      <td>0</td>\n",
       "      <td>0</td>\n",
       "      <td>1.0</td>\n",
       "      <td>0.0</td>\n",
       "      <td>0.0</td>\n",
       "      <td>0.0</td>\n",
       "      <td>0.0</td>\n",
       "      <td>0.0</td>\n",
       "      <td>0.0</td>\n",
       "      <td>0.0</td>\n",
       "      <td>...</td>\n",
       "      <td>0.0</td>\n",
       "      <td>0.0</td>\n",
       "      <td>0.0</td>\n",
       "      <td>0.0</td>\n",
       "      <td>0.0</td>\n",
       "      <td>0.0</td>\n",
       "      <td>0.0</td>\n",
       "      <td>0.0</td>\n",
       "      <td>0.0</td>\n",
       "      <td>0.0</td>\n",
       "    </tr>\n",
       "    <tr>\n",
       "      <th>1</th>\n",
       "      <td>1</td>\n",
       "      <td>0</td>\n",
       "      <td>1.0</td>\n",
       "      <td>0.0</td>\n",
       "      <td>0.0</td>\n",
       "      <td>0.0</td>\n",
       "      <td>0.0</td>\n",
       "      <td>0.0</td>\n",
       "      <td>0.0</td>\n",
       "      <td>0.0</td>\n",
       "      <td>...</td>\n",
       "      <td>0.0</td>\n",
       "      <td>0.0</td>\n",
       "      <td>0.0</td>\n",
       "      <td>0.0</td>\n",
       "      <td>0.0</td>\n",
       "      <td>0.0</td>\n",
       "      <td>0.0</td>\n",
       "      <td>0.0</td>\n",
       "      <td>0.0</td>\n",
       "      <td>0.0</td>\n",
       "    </tr>\n",
       "    <tr>\n",
       "      <th>2</th>\n",
       "      <td>2</td>\n",
       "      <td>0</td>\n",
       "      <td>1.0</td>\n",
       "      <td>0.0</td>\n",
       "      <td>0.0</td>\n",
       "      <td>0.0</td>\n",
       "      <td>0.0</td>\n",
       "      <td>0.0</td>\n",
       "      <td>0.0</td>\n",
       "      <td>0.0</td>\n",
       "      <td>...</td>\n",
       "      <td>0.0</td>\n",
       "      <td>0.0</td>\n",
       "      <td>0.0</td>\n",
       "      <td>0.0</td>\n",
       "      <td>0.0</td>\n",
       "      <td>0.0</td>\n",
       "      <td>0.0</td>\n",
       "      <td>0.0</td>\n",
       "      <td>0.0</td>\n",
       "      <td>0.0</td>\n",
       "    </tr>\n",
       "    <tr>\n",
       "      <th>3</th>\n",
       "      <td>3</td>\n",
       "      <td>0</td>\n",
       "      <td>1.0</td>\n",
       "      <td>0.0</td>\n",
       "      <td>0.0</td>\n",
       "      <td>0.0</td>\n",
       "      <td>0.0</td>\n",
       "      <td>0.0</td>\n",
       "      <td>0.0</td>\n",
       "      <td>0.0</td>\n",
       "      <td>...</td>\n",
       "      <td>0.0</td>\n",
       "      <td>0.0</td>\n",
       "      <td>0.0</td>\n",
       "      <td>0.0</td>\n",
       "      <td>0.0</td>\n",
       "      <td>0.0</td>\n",
       "      <td>0.0</td>\n",
       "      <td>0.0</td>\n",
       "      <td>0.0</td>\n",
       "      <td>0.0</td>\n",
       "    </tr>\n",
       "    <tr>\n",
       "      <th>4</th>\n",
       "      <td>4</td>\n",
       "      <td>0</td>\n",
       "      <td>1.0</td>\n",
       "      <td>0.0</td>\n",
       "      <td>0.0</td>\n",
       "      <td>0.0</td>\n",
       "      <td>0.0</td>\n",
       "      <td>0.0</td>\n",
       "      <td>0.0</td>\n",
       "      <td>0.0</td>\n",
       "      <td>...</td>\n",
       "      <td>0.0</td>\n",
       "      <td>0.0</td>\n",
       "      <td>0.0</td>\n",
       "      <td>0.0</td>\n",
       "      <td>0.0</td>\n",
       "      <td>0.0</td>\n",
       "      <td>0.0</td>\n",
       "      <td>0.0</td>\n",
       "      <td>0.0</td>\n",
       "      <td>0.0</td>\n",
       "    </tr>\n",
       "  </tbody>\n",
       "</table>\n",
       "<p>5 rows × 1834 columns</p>\n",
       "</div>"
      ],
      "text/plain": [
       "   index  binds  protein_name_sEH  \\\n",
       "0      0      0               1.0   \n",
       "1      1      0               1.0   \n",
       "2      2      0               1.0   \n",
       "3      3      0               1.0   \n",
       "4      4      0               1.0   \n",
       "\n",
       "   block1_C#CC[C@@H](CC(=O)O)NC(=O)OCC1c2ccccc2-c2ccccc21  \\\n",
       "0                                                0.0        \n",
       "1                                                0.0        \n",
       "2                                                0.0        \n",
       "3                                                0.0        \n",
       "4                                                0.0        \n",
       "\n",
       "   block1_C#CC[C@@H](NC(=O)OCC1c2ccccc2-c2ccccc21)C(=O)O  \\\n",
       "0                                                0.0       \n",
       "1                                                0.0       \n",
       "2                                                0.0       \n",
       "3                                                0.0       \n",
       "4                                                0.0       \n",
       "\n",
       "   block1_C#CC[C@@](C)(NC(=O)OCC1c2ccccc2-c2ccccc21)C(=O)O  \\\n",
       "0                                                0.0         \n",
       "1                                                0.0         \n",
       "2                                                0.0         \n",
       "3                                                0.0         \n",
       "4                                                0.0         \n",
       "\n",
       "   block1_C#CC[C@H](CC(=O)O)NC(=O)OCC1c2ccccc2-c2ccccc21  \\\n",
       "0                                                0.0       \n",
       "1                                                0.0       \n",
       "2                                                0.0       \n",
       "3                                                0.0       \n",
       "4                                                0.0       \n",
       "\n",
       "   block1_C#CC[C@H](NC(=O)OCC1c2ccccc2-c2ccccc21)C(=O)O  \\\n",
       "0                                                0.0      \n",
       "1                                                0.0      \n",
       "2                                                0.0      \n",
       "3                                                0.0      \n",
       "4                                                0.0      \n",
       "\n",
       "   block1_C=CCC(CC=C)(NC(=O)OCC1c2ccccc2-c2ccccc21)C(=O)O  \\\n",
       "0                                                0.0        \n",
       "1                                                0.0        \n",
       "2                                                0.0        \n",
       "3                                                0.0        \n",
       "4                                                0.0        \n",
       "\n",
       "   block1_C=CCC(NC(=O)OCC1c2ccccc2-c2ccccc21)C(=O)O  ...  \\\n",
       "0                                               0.0  ...   \n",
       "1                                               0.0  ...   \n",
       "2                                               0.0  ...   \n",
       "3                                               0.0  ...   \n",
       "4                                               0.0  ...   \n",
       "\n",
       "   block3_Nc1ncnc(=O)[nH]1  block3_Nc1ncnc(Cl)c1Cl  block3_Nc1ncnc2[nH]cnc12  \\\n",
       "0                      0.0                     0.0                       0.0   \n",
       "1                      0.0                     0.0                       0.0   \n",
       "2                      0.0                     0.0                       0.0   \n",
       "3                      0.0                     0.0                       0.0   \n",
       "4                      0.0                     0.0                       0.0   \n",
       "\n",
       "   block3_Nc1ncnc2[nH]ncc12  block3_Nc1ncnc2c1ncn2C1CCCCO1  \\\n",
       "0                       0.0                            0.0   \n",
       "1                       0.0                            0.0   \n",
       "2                       0.0                            0.0   \n",
       "3                       0.0                            0.0   \n",
       "4                       0.0                            0.0   \n",
       "\n",
       "   block3_Nc1ncncc1Br  block3_Nc1nnc(S)s1  block3_Nc1nncs1  \\\n",
       "0                 0.0                 0.0              0.0   \n",
       "1                 0.0                 0.0              0.0   \n",
       "2                 0.0                 0.0              0.0   \n",
       "3                 0.0                 0.0              0.0   \n",
       "4                 0.0                 0.0              0.0   \n",
       "\n",
       "   block3_Nc1nnn[nH]1  block3_Nc1noc2ccc(F)cc12  \n",
       "0                 0.0                       0.0  \n",
       "1                 0.0                       0.0  \n",
       "2                 0.0                       0.0  \n",
       "3                 0.0                       0.0  \n",
       "4                 0.0                       0.0  \n",
       "\n",
       "[5 rows x 1834 columns]"
      ]
     },
     "execution_count": 17,
     "metadata": {},
     "output_type": "execute_result"
    }
   ],
   "source": [
    "df_encoded_seh.head()"
   ]
  },
  {
   "cell_type": "markdown",
   "metadata": {},
   "source": [
    "Con este dataset final procederemos a utilizar la función de **chi2** y **SelectKBest** del paquete de **scikit-learn**, con el fin de escoger 100 de las variables codificadas, de tal manera que las mismas expliquen de mejor manera la variable objetivo **Bins**."
   ]
  },
  {
   "cell_type": "markdown",
   "metadata": {},
   "source": [
    "##### **Reducción de multicolinialidad.**"
   ]
  },
  {
   "cell_type": "code",
   "execution_count": 18,
   "metadata": {},
   "outputs": [],
   "source": [
    "y_train_seh = df_encoded_seh['binds']\n",
    "\n",
    "# Aplicar SelectKBest con chi2 para seleccionar las mejores características\n",
    "k_best1 = SelectKBest(score_func = chi2, k = 100)  # Se quieren conservar k = 100 mejores características\n",
    "X_new1 = k_best1.fit_transform(df_encoded_seh, y_train_seh)\n",
    "\n",
    "selected_features = k_best1.get_support(indices=True)  # Obtener los índices de las características seleccionadas\n",
    "x_train_seh = df_encoded_seh.iloc[:, selected_features]"
   ]
  },
  {
   "cell_type": "markdown",
   "metadata": {},
   "source": [
    "Con lo anterior tenemos como resultado nuestra matriz X de entrenamiento para la proteina seh y nuestro *y* de entrenamiento, se muestran a continuación."
   ]
  },
  {
   "cell_type": "code",
   "execution_count": 19,
   "metadata": {},
   "outputs": [
    {
     "data": {
      "text/html": [
       "<div>\n",
       "<style scoped>\n",
       "    .dataframe tbody tr th:only-of-type {\n",
       "        vertical-align: middle;\n",
       "    }\n",
       "\n",
       "    .dataframe tbody tr th {\n",
       "        vertical-align: top;\n",
       "    }\n",
       "\n",
       "    .dataframe thead th {\n",
       "        text-align: right;\n",
       "    }\n",
       "</style>\n",
       "<table border=\"1\" class=\"dataframe\">\n",
       "  <thead>\n",
       "    <tr style=\"text-align: right;\">\n",
       "      <th></th>\n",
       "      <th>index</th>\n",
       "      <th>binds</th>\n",
       "      <th>block1_O=C(NC(Cc1ccccc1)C(=O)O)OCC1c2ccccc2-c2ccccc21</th>\n",
       "      <th>block1_O=C(NCC1CCC(C(=O)O)CC1)OCC1c2ccccc2-c2ccccc21</th>\n",
       "      <th>block1_O=C(NC[C@H]1CC[C@H](C(=O)O)CC1)OCC1c2ccccc2-c2ccccc21</th>\n",
       "      <th>block1_O=C(N[C@@H](Cc1cccnc1)C(=O)O)OCC1c2ccccc2-c2ccccc21</th>\n",
       "      <th>block1_O=C(N[C@H](Cc1ccc(F)c(F)c1)C(=O)O)OCC1c2ccccc2-c2ccccc21</th>\n",
       "      <th>block1_O=C(Nc1ccc(C(=O)O)cc1)OCC1c2ccccc2-c2ccccc21</th>\n",
       "      <th>block1_O=C(Nc1ccc(C(=O)O)cc1O)OCC1c2ccccc2-c2ccccc21</th>\n",
       "      <th>block1_O=C(Nc1ccc(C(=O)O)nc1)OCC1c2ccccc2-c2ccccc21</th>\n",
       "      <th>...</th>\n",
       "      <th>block3_Nc1c2c(cc3c1CCC3)CCC2</th>\n",
       "      <th>block3_Nc1cc(C(F)(F)F)cc(C(F)(F)F)c1</th>\n",
       "      <th>block3_Nc1cc(Cl)ccc1F</th>\n",
       "      <th>block3_Nc1cc(F)c(F)cc1[N+](=O)[O-]</th>\n",
       "      <th>block3_Nc1ccc2c(c1)CNCC2</th>\n",
       "      <th>block3_Nc1cccc2ocnc12</th>\n",
       "      <th>block3_Nc1cncc(F)c1</th>\n",
       "      <th>block3_Nc1n[nH]c2ccc([N+](=O)[O-])cc12</th>\n",
       "      <th>block3_Nc1nc(NCc2ccc(F)cc2)ccc1[N+](=O)[O-]</th>\n",
       "      <th>block3_Nc1ncco1</th>\n",
       "    </tr>\n",
       "  </thead>\n",
       "  <tbody>\n",
       "    <tr>\n",
       "      <th>0</th>\n",
       "      <td>0</td>\n",
       "      <td>0</td>\n",
       "      <td>0.0</td>\n",
       "      <td>0.0</td>\n",
       "      <td>0.0</td>\n",
       "      <td>0.0</td>\n",
       "      <td>0.0</td>\n",
       "      <td>0.0</td>\n",
       "      <td>0.0</td>\n",
       "      <td>0.0</td>\n",
       "      <td>...</td>\n",
       "      <td>0.0</td>\n",
       "      <td>0.0</td>\n",
       "      <td>0.0</td>\n",
       "      <td>0.0</td>\n",
       "      <td>0.0</td>\n",
       "      <td>0.0</td>\n",
       "      <td>0.0</td>\n",
       "      <td>0.0</td>\n",
       "      <td>0.0</td>\n",
       "      <td>0.0</td>\n",
       "    </tr>\n",
       "    <tr>\n",
       "      <th>1</th>\n",
       "      <td>1</td>\n",
       "      <td>0</td>\n",
       "      <td>0.0</td>\n",
       "      <td>0.0</td>\n",
       "      <td>0.0</td>\n",
       "      <td>0.0</td>\n",
       "      <td>0.0</td>\n",
       "      <td>0.0</td>\n",
       "      <td>0.0</td>\n",
       "      <td>0.0</td>\n",
       "      <td>...</td>\n",
       "      <td>0.0</td>\n",
       "      <td>0.0</td>\n",
       "      <td>0.0</td>\n",
       "      <td>0.0</td>\n",
       "      <td>0.0</td>\n",
       "      <td>0.0</td>\n",
       "      <td>0.0</td>\n",
       "      <td>0.0</td>\n",
       "      <td>0.0</td>\n",
       "      <td>0.0</td>\n",
       "    </tr>\n",
       "    <tr>\n",
       "      <th>2</th>\n",
       "      <td>2</td>\n",
       "      <td>0</td>\n",
       "      <td>0.0</td>\n",
       "      <td>0.0</td>\n",
       "      <td>0.0</td>\n",
       "      <td>0.0</td>\n",
       "      <td>0.0</td>\n",
       "      <td>0.0</td>\n",
       "      <td>0.0</td>\n",
       "      <td>0.0</td>\n",
       "      <td>...</td>\n",
       "      <td>0.0</td>\n",
       "      <td>0.0</td>\n",
       "      <td>0.0</td>\n",
       "      <td>0.0</td>\n",
       "      <td>0.0</td>\n",
       "      <td>0.0</td>\n",
       "      <td>0.0</td>\n",
       "      <td>0.0</td>\n",
       "      <td>0.0</td>\n",
       "      <td>0.0</td>\n",
       "    </tr>\n",
       "    <tr>\n",
       "      <th>3</th>\n",
       "      <td>3</td>\n",
       "      <td>0</td>\n",
       "      <td>0.0</td>\n",
       "      <td>0.0</td>\n",
       "      <td>0.0</td>\n",
       "      <td>0.0</td>\n",
       "      <td>0.0</td>\n",
       "      <td>0.0</td>\n",
       "      <td>0.0</td>\n",
       "      <td>0.0</td>\n",
       "      <td>...</td>\n",
       "      <td>0.0</td>\n",
       "      <td>0.0</td>\n",
       "      <td>0.0</td>\n",
       "      <td>0.0</td>\n",
       "      <td>0.0</td>\n",
       "      <td>0.0</td>\n",
       "      <td>0.0</td>\n",
       "      <td>0.0</td>\n",
       "      <td>0.0</td>\n",
       "      <td>0.0</td>\n",
       "    </tr>\n",
       "    <tr>\n",
       "      <th>4</th>\n",
       "      <td>4</td>\n",
       "      <td>0</td>\n",
       "      <td>0.0</td>\n",
       "      <td>0.0</td>\n",
       "      <td>0.0</td>\n",
       "      <td>0.0</td>\n",
       "      <td>0.0</td>\n",
       "      <td>0.0</td>\n",
       "      <td>0.0</td>\n",
       "      <td>0.0</td>\n",
       "      <td>...</td>\n",
       "      <td>0.0</td>\n",
       "      <td>0.0</td>\n",
       "      <td>0.0</td>\n",
       "      <td>0.0</td>\n",
       "      <td>0.0</td>\n",
       "      <td>0.0</td>\n",
       "      <td>0.0</td>\n",
       "      <td>0.0</td>\n",
       "      <td>0.0</td>\n",
       "      <td>0.0</td>\n",
       "    </tr>\n",
       "  </tbody>\n",
       "</table>\n",
       "<p>5 rows × 100 columns</p>\n",
       "</div>"
      ],
      "text/plain": [
       "   index  binds  block1_O=C(NC(Cc1ccccc1)C(=O)O)OCC1c2ccccc2-c2ccccc21  \\\n",
       "0      0      0                                                0.0       \n",
       "1      1      0                                                0.0       \n",
       "2      2      0                                                0.0       \n",
       "3      3      0                                                0.0       \n",
       "4      4      0                                                0.0       \n",
       "\n",
       "   block1_O=C(NCC1CCC(C(=O)O)CC1)OCC1c2ccccc2-c2ccccc21  \\\n",
       "0                                                0.0      \n",
       "1                                                0.0      \n",
       "2                                                0.0      \n",
       "3                                                0.0      \n",
       "4                                                0.0      \n",
       "\n",
       "   block1_O=C(NC[C@H]1CC[C@H](C(=O)O)CC1)OCC1c2ccccc2-c2ccccc21  \\\n",
       "0                                                0.0              \n",
       "1                                                0.0              \n",
       "2                                                0.0              \n",
       "3                                                0.0              \n",
       "4                                                0.0              \n",
       "\n",
       "   block1_O=C(N[C@@H](Cc1cccnc1)C(=O)O)OCC1c2ccccc2-c2ccccc21  \\\n",
       "0                                                0.0            \n",
       "1                                                0.0            \n",
       "2                                                0.0            \n",
       "3                                                0.0            \n",
       "4                                                0.0            \n",
       "\n",
       "   block1_O=C(N[C@H](Cc1ccc(F)c(F)c1)C(=O)O)OCC1c2ccccc2-c2ccccc21  \\\n",
       "0                                                0.0                 \n",
       "1                                                0.0                 \n",
       "2                                                0.0                 \n",
       "3                                                0.0                 \n",
       "4                                                0.0                 \n",
       "\n",
       "   block1_O=C(Nc1ccc(C(=O)O)cc1)OCC1c2ccccc2-c2ccccc21  \\\n",
       "0                                                0.0     \n",
       "1                                                0.0     \n",
       "2                                                0.0     \n",
       "3                                                0.0     \n",
       "4                                                0.0     \n",
       "\n",
       "   block1_O=C(Nc1ccc(C(=O)O)cc1O)OCC1c2ccccc2-c2ccccc21  \\\n",
       "0                                                0.0      \n",
       "1                                                0.0      \n",
       "2                                                0.0      \n",
       "3                                                0.0      \n",
       "4                                                0.0      \n",
       "\n",
       "   block1_O=C(Nc1ccc(C(=O)O)nc1)OCC1c2ccccc2-c2ccccc21  ...  \\\n",
       "0                                                0.0    ...   \n",
       "1                                                0.0    ...   \n",
       "2                                                0.0    ...   \n",
       "3                                                0.0    ...   \n",
       "4                                                0.0    ...   \n",
       "\n",
       "   block3_Nc1c2c(cc3c1CCC3)CCC2  block3_Nc1cc(C(F)(F)F)cc(C(F)(F)F)c1  \\\n",
       "0                           0.0                                   0.0   \n",
       "1                           0.0                                   0.0   \n",
       "2                           0.0                                   0.0   \n",
       "3                           0.0                                   0.0   \n",
       "4                           0.0                                   0.0   \n",
       "\n",
       "   block3_Nc1cc(Cl)ccc1F  block3_Nc1cc(F)c(F)cc1[N+](=O)[O-]  \\\n",
       "0                    0.0                                 0.0   \n",
       "1                    0.0                                 0.0   \n",
       "2                    0.0                                 0.0   \n",
       "3                    0.0                                 0.0   \n",
       "4                    0.0                                 0.0   \n",
       "\n",
       "   block3_Nc1ccc2c(c1)CNCC2  block3_Nc1cccc2ocnc12  block3_Nc1cncc(F)c1  \\\n",
       "0                       0.0                    0.0                  0.0   \n",
       "1                       0.0                    0.0                  0.0   \n",
       "2                       0.0                    0.0                  0.0   \n",
       "3                       0.0                    0.0                  0.0   \n",
       "4                       0.0                    0.0                  0.0   \n",
       "\n",
       "   block3_Nc1n[nH]c2ccc([N+](=O)[O-])cc12  \\\n",
       "0                                     0.0   \n",
       "1                                     0.0   \n",
       "2                                     0.0   \n",
       "3                                     0.0   \n",
       "4                                     0.0   \n",
       "\n",
       "   block3_Nc1nc(NCc2ccc(F)cc2)ccc1[N+](=O)[O-]  block3_Nc1ncco1  \n",
       "0                                          0.0              0.0  \n",
       "1                                          0.0              0.0  \n",
       "2                                          0.0              0.0  \n",
       "3                                          0.0              0.0  \n",
       "4                                          0.0              0.0  \n",
       "\n",
       "[5 rows x 100 columns]"
      ]
     },
     "execution_count": 19,
     "metadata": {},
     "output_type": "execute_result"
    }
   ],
   "source": [
    "x_train_seh.head()"
   ]
  },
  {
   "cell_type": "code",
   "execution_count": 20,
   "metadata": {},
   "outputs": [
    {
     "data": {
      "text/plain": [
       "0        0\n",
       "1        0\n",
       "2        0\n",
       "3        0\n",
       "4        0\n",
       "        ..\n",
       "99995    0\n",
       "99996    0\n",
       "99997    0\n",
       "99998    0\n",
       "99999    0\n",
       "Name: binds, Length: 100000, dtype: int64"
      ]
     },
     "execution_count": 20,
     "metadata": {},
     "output_type": "execute_result"
    }
   ],
   "source": [
    "y_train_seh"
   ]
  },
  {
   "cell_type": "markdown",
   "metadata": {},
   "source": [
    "#### ***HSA: Soluble Epoxide Hydrolase 2.***"
   ]
  },
  {
   "cell_type": "markdown",
   "metadata": {},
   "source": [
    "##### **Análisis inicial.**"
   ]
  },
  {
   "cell_type": "markdown",
   "metadata": {},
   "source": [
    "De igual manera como se hizo con la proteina **SEH**, tomaremos una muestra aleatoria estratificada del conjunto de datos filtrados de la base de datos original, se realiza esta acción puesto que es casi imposible con los recursos que se tienen en este momento trabajar con esa gran cantidad de datos, así que hacemos este ejercicio con el proposito de que algún día podamos lograr estos retos y mas."
   ]
  },
  {
   "cell_type": "code",
   "execution_count": 6,
   "metadata": {},
   "outputs": [],
   "source": [
    "hsa_final, _ = train_test_split( hsa, train_size = 100000,  stratify = hsa['binds'], random_state=11)"
   ]
  },
  {
   "cell_type": "code",
   "execution_count": 7,
   "metadata": {},
   "outputs": [],
   "source": [
    "hsa_final.to_csv('final_hsa_',index=False)"
   ]
  },
  {
   "cell_type": "code",
   "execution_count": 21,
   "metadata": {},
   "outputs": [],
   "source": [
    "hsa_final=pd.read_csv(\"C:/Users/fonta/OneDrive/Documentos/CDD/6. Sexto semestre/Machine learning/Primer parcial/Parcial_practico/final_hsa_\")"
   ]
  },
  {
   "cell_type": "code",
   "execution_count": 9,
   "metadata": {},
   "outputs": [
    {
     "data": {
      "text/html": [
       "<div>\n",
       "<style scoped>\n",
       "    .dataframe tbody tr th:only-of-type {\n",
       "        vertical-align: middle;\n",
       "    }\n",
       "\n",
       "    .dataframe tbody tr th {\n",
       "        vertical-align: top;\n",
       "    }\n",
       "\n",
       "    .dataframe thead th {\n",
       "        text-align: right;\n",
       "    }\n",
       "</style>\n",
       "<table border=\"1\" class=\"dataframe\">\n",
       "  <thead>\n",
       "    <tr style=\"text-align: right;\">\n",
       "      <th></th>\n",
       "      <th>id</th>\n",
       "      <th>block1</th>\n",
       "      <th>block2</th>\n",
       "      <th>block3</th>\n",
       "      <th>molecule</th>\n",
       "      <th>protein_name</th>\n",
       "      <th>binds</th>\n",
       "    </tr>\n",
       "  </thead>\n",
       "  <tbody>\n",
       "    <tr>\n",
       "      <th>0</th>\n",
       "      <td>79451005</td>\n",
       "      <td>O=C(NC1(C(=O)O)CCCCC1)OCC1c2ccccc2-c2ccccc21</td>\n",
       "      <td>Nc1ccnc(Cl)c1</td>\n",
       "      <td>N#Cc1cccc(N)n1</td>\n",
       "      <td>N#Cc1cccc(Nc2nc(Nc3ccnc(Cl)c3)nc(NC3(C(=O)N[Dy...</td>\n",
       "      <td>HSA</td>\n",
       "      <td>0</td>\n",
       "    </tr>\n",
       "    <tr>\n",
       "      <th>1</th>\n",
       "      <td>251510695</td>\n",
       "      <td>O=C(O)C[C@@H](Cc1ccc([N+](=O)[O-])cc1)NC(=O)OC...</td>\n",
       "      <td>Nc1ccc(O)cn1</td>\n",
       "      <td>Cn1ncc2cc(N)ccc21</td>\n",
       "      <td>Cn1ncc2cc(Nc3nc(Nc4ccc(O)cn4)nc(N[C@@H](CC(=O)...</td>\n",
       "      <td>HSA</td>\n",
       "      <td>0</td>\n",
       "    </tr>\n",
       "    <tr>\n",
       "      <th>2</th>\n",
       "      <td>50733376</td>\n",
       "      <td>Cc1cc(C(=O)O)ccc1NC(=O)OCC1c2ccccc2-c2ccccc21</td>\n",
       "      <td>Cl.NCCOC1CCS(=O)(=O)C1</td>\n",
       "      <td>Cn1nnc(N)n1</td>\n",
       "      <td>Cc1cc(C(=O)N[Dy])ccc1Nc1nc(NCCOC2CCS(=O)(=O)C2...</td>\n",
       "      <td>HSA</td>\n",
       "      <td>0</td>\n",
       "    </tr>\n",
       "    <tr>\n",
       "      <th>3</th>\n",
       "      <td>62661181</td>\n",
       "      <td>Cn1cc(C[C@@H](NC(=O)OCC2c3ccccc3-c3ccccc32)C(=...</td>\n",
       "      <td>Cl.NCC1CC(C(N)=O)=NO1</td>\n",
       "      <td>Nc1ccc(F)c(C(F)(F)F)c1</td>\n",
       "      <td>Cn1cc(C[C@@H](Nc2nc(NCC3CC(C(N)=O)=NO3)nc(Nc3c...</td>\n",
       "      <td>HSA</td>\n",
       "      <td>0</td>\n",
       "    </tr>\n",
       "    <tr>\n",
       "      <th>4</th>\n",
       "      <td>266507149</td>\n",
       "      <td>O=C(O)C[C@H](Cc1ccc(C(F)(F)F)cc1)NC(=O)OCC1c2c...</td>\n",
       "      <td>Cl.Nc1ccc(O)cc1Cl</td>\n",
       "      <td>Cc1ccnc(N)c1</td>\n",
       "      <td>Cc1ccnc(Nc2nc(Nc3ccc(O)cc3Cl)nc(N[C@H](CC(=O)N...</td>\n",
       "      <td>HSA</td>\n",
       "      <td>0</td>\n",
       "    </tr>\n",
       "  </tbody>\n",
       "</table>\n",
       "</div>"
      ],
      "text/plain": [
       "          id                                             block1  \\\n",
       "0   79451005       O=C(NC1(C(=O)O)CCCCC1)OCC1c2ccccc2-c2ccccc21   \n",
       "1  251510695  O=C(O)C[C@@H](Cc1ccc([N+](=O)[O-])cc1)NC(=O)OC...   \n",
       "2   50733376      Cc1cc(C(=O)O)ccc1NC(=O)OCC1c2ccccc2-c2ccccc21   \n",
       "3   62661181  Cn1cc(C[C@@H](NC(=O)OCC2c3ccccc3-c3ccccc32)C(=...   \n",
       "4  266507149  O=C(O)C[C@H](Cc1ccc(C(F)(F)F)cc1)NC(=O)OCC1c2c...   \n",
       "\n",
       "                   block2                  block3  \\\n",
       "0           Nc1ccnc(Cl)c1          N#Cc1cccc(N)n1   \n",
       "1            Nc1ccc(O)cn1       Cn1ncc2cc(N)ccc21   \n",
       "2  Cl.NCCOC1CCS(=O)(=O)C1             Cn1nnc(N)n1   \n",
       "3   Cl.NCC1CC(C(N)=O)=NO1  Nc1ccc(F)c(C(F)(F)F)c1   \n",
       "4       Cl.Nc1ccc(O)cc1Cl            Cc1ccnc(N)c1   \n",
       "\n",
       "                                            molecule protein_name  binds  \n",
       "0  N#Cc1cccc(Nc2nc(Nc3ccnc(Cl)c3)nc(NC3(C(=O)N[Dy...          HSA      0  \n",
       "1  Cn1ncc2cc(Nc3nc(Nc4ccc(O)cn4)nc(N[C@@H](CC(=O)...          HSA      0  \n",
       "2  Cc1cc(C(=O)N[Dy])ccc1Nc1nc(NCCOC2CCS(=O)(=O)C2...          HSA      0  \n",
       "3  Cn1cc(C[C@@H](Nc2nc(NCC3CC(C(N)=O)=NO3)nc(Nc3c...          HSA      0  \n",
       "4  Cc1ccnc(Nc2nc(Nc3ccc(O)cc3Cl)nc(N[C@H](CC(=O)N...          HSA      0  "
      ]
     },
     "execution_count": 9,
     "metadata": {},
     "output_type": "execute_result"
    }
   ],
   "source": [
    "hsa_final.head()"
   ]
  },
  {
   "cell_type": "code",
   "execution_count": 11,
   "metadata": {},
   "outputs": [
    {
     "data": {
      "text/plain": [
       "binds\n",
       "0    99585\n",
       "1      415\n",
       "Name: count, dtype: int64"
      ]
     },
     "execution_count": 11,
     "metadata": {},
     "output_type": "execute_result"
    }
   ],
   "source": [
    "hsa_final[\"binds\"].value_counts()"
   ]
  },
  {
   "cell_type": "code",
   "execution_count": 12,
   "metadata": {},
   "outputs": [
    {
     "name": "stdout",
     "output_type": "stream",
     "text": [
      "Proporción de la categoría 0:  99.58500000000001\n",
      "Proporción de la categoría 1:  0.415\n"
     ]
    }
   ],
   "source": [
    "ceros=(99585/len(hsa_final))*100\n",
    "unos=(415/len(hsa_final))*100\n",
    "\n",
    "print('Proporción de la categoría 0: ', ceros)\n",
    "print('Proporción de la categoría 1: ', unos)"
   ]
  },
  {
   "cell_type": "markdown",
   "metadata": {},
   "source": [
    "Es importante notar que la proporción de las categorías de la variable respuesta se mantiene similar a las proporciones en los dataframes originales."
   ]
  },
  {
   "cell_type": "code",
   "execution_count": 13,
   "metadata": {},
   "outputs": [
    {
     "data": {
      "text/html": [
       "<div>\n",
       "<style scoped>\n",
       "    .dataframe tbody tr th:only-of-type {\n",
       "        vertical-align: middle;\n",
       "    }\n",
       "\n",
       "    .dataframe tbody tr th {\n",
       "        vertical-align: top;\n",
       "    }\n",
       "\n",
       "    .dataframe thead th {\n",
       "        text-align: right;\n",
       "    }\n",
       "</style>\n",
       "<table border=\"1\" class=\"dataframe\">\n",
       "  <thead>\n",
       "    <tr style=\"text-align: right;\">\n",
       "      <th></th>\n",
       "      <th>block1</th>\n",
       "      <th>block2</th>\n",
       "      <th>block3</th>\n",
       "      <th>molecule</th>\n",
       "      <th>protein_name</th>\n",
       "    </tr>\n",
       "  </thead>\n",
       "  <tbody>\n",
       "    <tr>\n",
       "      <th>count</th>\n",
       "      <td>100000</td>\n",
       "      <td>100000</td>\n",
       "      <td>100000</td>\n",
       "      <td>100000</td>\n",
       "      <td>100000</td>\n",
       "    </tr>\n",
       "    <tr>\n",
       "      <th>unique</th>\n",
       "      <td>271</td>\n",
       "      <td>693</td>\n",
       "      <td>871</td>\n",
       "      <td>100000</td>\n",
       "      <td>1</td>\n",
       "    </tr>\n",
       "    <tr>\n",
       "      <th>top</th>\n",
       "      <td>O=C(Nc1cc(Br)cc(C(=O)O)c1)OCC1c2ccccc2-c2ccccc21</td>\n",
       "      <td>NCc1c(F)cccc1N1CCCC1</td>\n",
       "      <td>Cc1nc(Cl)c(N)c(Cl)n1</td>\n",
       "      <td>N#Cc1cccc(Nc2nc(Nc3ccnc(Cl)c3)nc(NC3(C(=O)N[Dy...</td>\n",
       "      <td>HSA</td>\n",
       "    </tr>\n",
       "    <tr>\n",
       "      <th>freq</th>\n",
       "      <td>435</td>\n",
       "      <td>281</td>\n",
       "      <td>224</td>\n",
       "      <td>1</td>\n",
       "      <td>100000</td>\n",
       "    </tr>\n",
       "  </tbody>\n",
       "</table>\n",
       "</div>"
      ],
      "text/plain": [
       "                                                  block1  \\\n",
       "count                                             100000   \n",
       "unique                                               271   \n",
       "top     O=C(Nc1cc(Br)cc(C(=O)O)c1)OCC1c2ccccc2-c2ccccc21   \n",
       "freq                                                 435   \n",
       "\n",
       "                      block2                block3  \\\n",
       "count                 100000                100000   \n",
       "unique                   693                   871   \n",
       "top     NCc1c(F)cccc1N1CCCC1  Cc1nc(Cl)c(N)c(Cl)n1   \n",
       "freq                     281                   224   \n",
       "\n",
       "                                                 molecule protein_name  \n",
       "count                                              100000       100000  \n",
       "unique                                             100000            1  \n",
       "top     N#Cc1cccc(Nc2nc(Nc3ccnc(Cl)c3)nc(NC3(C(=O)N[Dy...          HSA  \n",
       "freq                                                    1       100000  "
      ]
     },
     "execution_count": 13,
     "metadata": {},
     "output_type": "execute_result"
    }
   ],
   "source": [
    "hsa_final.describe(include=[object])"
   ]
  },
  {
   "cell_type": "markdown",
   "metadata": {},
   "source": [
    "No hay registros nuevos en las demas variables como lo muestra la describción, se tienen 271 valores únicos en Block1, 693 en Block2 y 871 en Block3."
   ]
  },
  {
   "cell_type": "markdown",
   "metadata": {},
   "source": [
    "##### **Codificacíon de las variables categóricas.**"
   ]
  },
  {
   "cell_type": "code",
   "execution_count": 22,
   "metadata": {},
   "outputs": [],
   "source": [
    "to_encode=hsa_final.copy()\n",
    "to_encode=to_encode.reset_index()"
   ]
  },
  {
   "cell_type": "markdown",
   "metadata": {},
   "source": [
    "Se seguirán los mismos pasos de codificación usado en la proteina SEH, esta vez para la proteina HSA. "
   ]
  },
  {
   "cell_type": "code",
   "execution_count": 23,
   "metadata": {},
   "outputs": [],
   "source": [
    "categorical_columns = ['protein_name', 'block1', 'block2', 'block3']\n",
    "encoder = OneHotEncoder(sparse_output=False)\n",
    "one_hot_encoded = encoder.fit_transform(to_encode[categorical_columns])\n",
    "one_hot_df = pd.DataFrame(one_hot_encoded, columns=encoder.get_feature_names_out(categorical_columns))\n",
    "df_encoded_hsa = pd.concat([to_encode, one_hot_df], axis=1)\n",
    "df_encoded_hsa = df_encoded_hsa.drop(categorical_columns, axis=1)"
   ]
  },
  {
   "cell_type": "code",
   "execution_count": 24,
   "metadata": {},
   "outputs": [
    {
     "data": {
      "text/html": [
       "<div>\n",
       "<style scoped>\n",
       "    .dataframe tbody tr th:only-of-type {\n",
       "        vertical-align: middle;\n",
       "    }\n",
       "\n",
       "    .dataframe tbody tr th {\n",
       "        vertical-align: top;\n",
       "    }\n",
       "\n",
       "    .dataframe thead th {\n",
       "        text-align: right;\n",
       "    }\n",
       "</style>\n",
       "<table border=\"1\" class=\"dataframe\">\n",
       "  <thead>\n",
       "    <tr style=\"text-align: right;\">\n",
       "      <th></th>\n",
       "      <th>index</th>\n",
       "      <th>id</th>\n",
       "      <th>molecule</th>\n",
       "      <th>binds</th>\n",
       "      <th>protein_name_HSA</th>\n",
       "      <th>block1_C#CC[C@@H](CC(=O)O)NC(=O)OCC1c2ccccc2-c2ccccc21</th>\n",
       "      <th>block1_C#CC[C@@H](NC(=O)OCC1c2ccccc2-c2ccccc21)C(=O)O</th>\n",
       "      <th>block1_C#CC[C@@](C)(NC(=O)OCC1c2ccccc2-c2ccccc21)C(=O)O</th>\n",
       "      <th>block1_C#CC[C@H](CC(=O)O)NC(=O)OCC1c2ccccc2-c2ccccc21</th>\n",
       "      <th>block1_C#CC[C@H](NC(=O)OCC1c2ccccc2-c2ccccc21)C(=O)O</th>\n",
       "      <th>...</th>\n",
       "      <th>block3_Nc1ncnc(=O)[nH]1</th>\n",
       "      <th>block3_Nc1ncnc(Cl)c1Cl</th>\n",
       "      <th>block3_Nc1ncnc2[nH]cnc12</th>\n",
       "      <th>block3_Nc1ncnc2[nH]ncc12</th>\n",
       "      <th>block3_Nc1ncnc2c1ncn2C1CCCCO1</th>\n",
       "      <th>block3_Nc1ncncc1Br</th>\n",
       "      <th>block3_Nc1nnc(S)s1</th>\n",
       "      <th>block3_Nc1nncs1</th>\n",
       "      <th>block3_Nc1nnn[nH]1</th>\n",
       "      <th>block3_Nc1noc2ccc(F)cc12</th>\n",
       "    </tr>\n",
       "  </thead>\n",
       "  <tbody>\n",
       "    <tr>\n",
       "      <th>0</th>\n",
       "      <td>0</td>\n",
       "      <td>79451005</td>\n",
       "      <td>N#Cc1cccc(Nc2nc(Nc3ccnc(Cl)c3)nc(NC3(C(=O)N[Dy...</td>\n",
       "      <td>0</td>\n",
       "      <td>1.0</td>\n",
       "      <td>0.0</td>\n",
       "      <td>0.0</td>\n",
       "      <td>0.0</td>\n",
       "      <td>0.0</td>\n",
       "      <td>0.0</td>\n",
       "      <td>...</td>\n",
       "      <td>0.0</td>\n",
       "      <td>0.0</td>\n",
       "      <td>0.0</td>\n",
       "      <td>0.0</td>\n",
       "      <td>0.0</td>\n",
       "      <td>0.0</td>\n",
       "      <td>0.0</td>\n",
       "      <td>0.0</td>\n",
       "      <td>0.0</td>\n",
       "      <td>0.0</td>\n",
       "    </tr>\n",
       "    <tr>\n",
       "      <th>1</th>\n",
       "      <td>1</td>\n",
       "      <td>251510695</td>\n",
       "      <td>Cn1ncc2cc(Nc3nc(Nc4ccc(O)cn4)nc(N[C@@H](CC(=O)...</td>\n",
       "      <td>0</td>\n",
       "      <td>1.0</td>\n",
       "      <td>0.0</td>\n",
       "      <td>0.0</td>\n",
       "      <td>0.0</td>\n",
       "      <td>0.0</td>\n",
       "      <td>0.0</td>\n",
       "      <td>...</td>\n",
       "      <td>0.0</td>\n",
       "      <td>0.0</td>\n",
       "      <td>0.0</td>\n",
       "      <td>0.0</td>\n",
       "      <td>0.0</td>\n",
       "      <td>0.0</td>\n",
       "      <td>0.0</td>\n",
       "      <td>0.0</td>\n",
       "      <td>0.0</td>\n",
       "      <td>0.0</td>\n",
       "    </tr>\n",
       "    <tr>\n",
       "      <th>2</th>\n",
       "      <td>2</td>\n",
       "      <td>50733376</td>\n",
       "      <td>Cc1cc(C(=O)N[Dy])ccc1Nc1nc(NCCOC2CCS(=O)(=O)C2...</td>\n",
       "      <td>0</td>\n",
       "      <td>1.0</td>\n",
       "      <td>0.0</td>\n",
       "      <td>0.0</td>\n",
       "      <td>0.0</td>\n",
       "      <td>0.0</td>\n",
       "      <td>0.0</td>\n",
       "      <td>...</td>\n",
       "      <td>0.0</td>\n",
       "      <td>0.0</td>\n",
       "      <td>0.0</td>\n",
       "      <td>0.0</td>\n",
       "      <td>0.0</td>\n",
       "      <td>0.0</td>\n",
       "      <td>0.0</td>\n",
       "      <td>0.0</td>\n",
       "      <td>0.0</td>\n",
       "      <td>0.0</td>\n",
       "    </tr>\n",
       "    <tr>\n",
       "      <th>3</th>\n",
       "      <td>3</td>\n",
       "      <td>62661181</td>\n",
       "      <td>Cn1cc(C[C@@H](Nc2nc(NCC3CC(C(N)=O)=NO3)nc(Nc3c...</td>\n",
       "      <td>0</td>\n",
       "      <td>1.0</td>\n",
       "      <td>0.0</td>\n",
       "      <td>0.0</td>\n",
       "      <td>0.0</td>\n",
       "      <td>0.0</td>\n",
       "      <td>0.0</td>\n",
       "      <td>...</td>\n",
       "      <td>0.0</td>\n",
       "      <td>0.0</td>\n",
       "      <td>0.0</td>\n",
       "      <td>0.0</td>\n",
       "      <td>0.0</td>\n",
       "      <td>0.0</td>\n",
       "      <td>0.0</td>\n",
       "      <td>0.0</td>\n",
       "      <td>0.0</td>\n",
       "      <td>0.0</td>\n",
       "    </tr>\n",
       "    <tr>\n",
       "      <th>4</th>\n",
       "      <td>4</td>\n",
       "      <td>266507149</td>\n",
       "      <td>Cc1ccnc(Nc2nc(Nc3ccc(O)cc3Cl)nc(N[C@H](CC(=O)N...</td>\n",
       "      <td>0</td>\n",
       "      <td>1.0</td>\n",
       "      <td>0.0</td>\n",
       "      <td>0.0</td>\n",
       "      <td>0.0</td>\n",
       "      <td>0.0</td>\n",
       "      <td>0.0</td>\n",
       "      <td>...</td>\n",
       "      <td>0.0</td>\n",
       "      <td>0.0</td>\n",
       "      <td>0.0</td>\n",
       "      <td>0.0</td>\n",
       "      <td>0.0</td>\n",
       "      <td>0.0</td>\n",
       "      <td>0.0</td>\n",
       "      <td>0.0</td>\n",
       "      <td>0.0</td>\n",
       "      <td>0.0</td>\n",
       "    </tr>\n",
       "  </tbody>\n",
       "</table>\n",
       "<p>5 rows × 1840 columns</p>\n",
       "</div>"
      ],
      "text/plain": [
       "   index         id                                           molecule  binds  \\\n",
       "0      0   79451005  N#Cc1cccc(Nc2nc(Nc3ccnc(Cl)c3)nc(NC3(C(=O)N[Dy...      0   \n",
       "1      1  251510695  Cn1ncc2cc(Nc3nc(Nc4ccc(O)cn4)nc(N[C@@H](CC(=O)...      0   \n",
       "2      2   50733376  Cc1cc(C(=O)N[Dy])ccc1Nc1nc(NCCOC2CCS(=O)(=O)C2...      0   \n",
       "3      3   62661181  Cn1cc(C[C@@H](Nc2nc(NCC3CC(C(N)=O)=NO3)nc(Nc3c...      0   \n",
       "4      4  266507149  Cc1ccnc(Nc2nc(Nc3ccc(O)cc3Cl)nc(N[C@H](CC(=O)N...      0   \n",
       "\n",
       "   protein_name_HSA  block1_C#CC[C@@H](CC(=O)O)NC(=O)OCC1c2ccccc2-c2ccccc21  \\\n",
       "0               1.0                                                0.0        \n",
       "1               1.0                                                0.0        \n",
       "2               1.0                                                0.0        \n",
       "3               1.0                                                0.0        \n",
       "4               1.0                                                0.0        \n",
       "\n",
       "   block1_C#CC[C@@H](NC(=O)OCC1c2ccccc2-c2ccccc21)C(=O)O  \\\n",
       "0                                                0.0       \n",
       "1                                                0.0       \n",
       "2                                                0.0       \n",
       "3                                                0.0       \n",
       "4                                                0.0       \n",
       "\n",
       "   block1_C#CC[C@@](C)(NC(=O)OCC1c2ccccc2-c2ccccc21)C(=O)O  \\\n",
       "0                                                0.0         \n",
       "1                                                0.0         \n",
       "2                                                0.0         \n",
       "3                                                0.0         \n",
       "4                                                0.0         \n",
       "\n",
       "   block1_C#CC[C@H](CC(=O)O)NC(=O)OCC1c2ccccc2-c2ccccc21  \\\n",
       "0                                                0.0       \n",
       "1                                                0.0       \n",
       "2                                                0.0       \n",
       "3                                                0.0       \n",
       "4                                                0.0       \n",
       "\n",
       "   block1_C#CC[C@H](NC(=O)OCC1c2ccccc2-c2ccccc21)C(=O)O  ...  \\\n",
       "0                                                0.0     ...   \n",
       "1                                                0.0     ...   \n",
       "2                                                0.0     ...   \n",
       "3                                                0.0     ...   \n",
       "4                                                0.0     ...   \n",
       "\n",
       "   block3_Nc1ncnc(=O)[nH]1  block3_Nc1ncnc(Cl)c1Cl  block3_Nc1ncnc2[nH]cnc12  \\\n",
       "0                      0.0                     0.0                       0.0   \n",
       "1                      0.0                     0.0                       0.0   \n",
       "2                      0.0                     0.0                       0.0   \n",
       "3                      0.0                     0.0                       0.0   \n",
       "4                      0.0                     0.0                       0.0   \n",
       "\n",
       "   block3_Nc1ncnc2[nH]ncc12  block3_Nc1ncnc2c1ncn2C1CCCCO1  \\\n",
       "0                       0.0                            0.0   \n",
       "1                       0.0                            0.0   \n",
       "2                       0.0                            0.0   \n",
       "3                       0.0                            0.0   \n",
       "4                       0.0                            0.0   \n",
       "\n",
       "   block3_Nc1ncncc1Br  block3_Nc1nnc(S)s1  block3_Nc1nncs1  \\\n",
       "0                 0.0                 0.0              0.0   \n",
       "1                 0.0                 0.0              0.0   \n",
       "2                 0.0                 0.0              0.0   \n",
       "3                 0.0                 0.0              0.0   \n",
       "4                 0.0                 0.0              0.0   \n",
       "\n",
       "   block3_Nc1nnn[nH]1  block3_Nc1noc2ccc(F)cc12  \n",
       "0                 0.0                       0.0  \n",
       "1                 0.0                       0.0  \n",
       "2                 0.0                       0.0  \n",
       "3                 0.0                       0.0  \n",
       "4                 0.0                       0.0  \n",
       "\n",
       "[5 rows x 1840 columns]"
      ]
     },
     "execution_count": 24,
     "metadata": {},
     "output_type": "execute_result"
    }
   ],
   "source": [
    "df_encoded_hsa.head()"
   ]
  },
  {
   "cell_type": "markdown",
   "metadata": {},
   "source": [
    "De igual forma eliminamos las columnas \"id\" y \"molecule\"."
   ]
  },
  {
   "cell_type": "code",
   "execution_count": 25,
   "metadata": {},
   "outputs": [],
   "source": [
    "df_encoded_hsa.drop(columns=['id','molecule'], inplace=True)"
   ]
  },
  {
   "cell_type": "code",
   "execution_count": 26,
   "metadata": {},
   "outputs": [
    {
     "data": {
      "text/html": [
       "<div>\n",
       "<style scoped>\n",
       "    .dataframe tbody tr th:only-of-type {\n",
       "        vertical-align: middle;\n",
       "    }\n",
       "\n",
       "    .dataframe tbody tr th {\n",
       "        vertical-align: top;\n",
       "    }\n",
       "\n",
       "    .dataframe thead th {\n",
       "        text-align: right;\n",
       "    }\n",
       "</style>\n",
       "<table border=\"1\" class=\"dataframe\">\n",
       "  <thead>\n",
       "    <tr style=\"text-align: right;\">\n",
       "      <th></th>\n",
       "      <th>index</th>\n",
       "      <th>binds</th>\n",
       "      <th>protein_name_HSA</th>\n",
       "      <th>block1_C#CC[C@@H](CC(=O)O)NC(=O)OCC1c2ccccc2-c2ccccc21</th>\n",
       "      <th>block1_C#CC[C@@H](NC(=O)OCC1c2ccccc2-c2ccccc21)C(=O)O</th>\n",
       "      <th>block1_C#CC[C@@](C)(NC(=O)OCC1c2ccccc2-c2ccccc21)C(=O)O</th>\n",
       "      <th>block1_C#CC[C@H](CC(=O)O)NC(=O)OCC1c2ccccc2-c2ccccc21</th>\n",
       "      <th>block1_C#CC[C@H](NC(=O)OCC1c2ccccc2-c2ccccc21)C(=O)O</th>\n",
       "      <th>block1_C=CCC(CC=C)(NC(=O)OCC1c2ccccc2-c2ccccc21)C(=O)O</th>\n",
       "      <th>block1_C=CCC(NC(=O)OCC1c2ccccc2-c2ccccc21)C(=O)O</th>\n",
       "      <th>...</th>\n",
       "      <th>block3_Nc1ncnc(=O)[nH]1</th>\n",
       "      <th>block3_Nc1ncnc(Cl)c1Cl</th>\n",
       "      <th>block3_Nc1ncnc2[nH]cnc12</th>\n",
       "      <th>block3_Nc1ncnc2[nH]ncc12</th>\n",
       "      <th>block3_Nc1ncnc2c1ncn2C1CCCCO1</th>\n",
       "      <th>block3_Nc1ncncc1Br</th>\n",
       "      <th>block3_Nc1nnc(S)s1</th>\n",
       "      <th>block3_Nc1nncs1</th>\n",
       "      <th>block3_Nc1nnn[nH]1</th>\n",
       "      <th>block3_Nc1noc2ccc(F)cc12</th>\n",
       "    </tr>\n",
       "  </thead>\n",
       "  <tbody>\n",
       "    <tr>\n",
       "      <th>0</th>\n",
       "      <td>0</td>\n",
       "      <td>0</td>\n",
       "      <td>1.0</td>\n",
       "      <td>0.0</td>\n",
       "      <td>0.0</td>\n",
       "      <td>0.0</td>\n",
       "      <td>0.0</td>\n",
       "      <td>0.0</td>\n",
       "      <td>0.0</td>\n",
       "      <td>0.0</td>\n",
       "      <td>...</td>\n",
       "      <td>0.0</td>\n",
       "      <td>0.0</td>\n",
       "      <td>0.0</td>\n",
       "      <td>0.0</td>\n",
       "      <td>0.0</td>\n",
       "      <td>0.0</td>\n",
       "      <td>0.0</td>\n",
       "      <td>0.0</td>\n",
       "      <td>0.0</td>\n",
       "      <td>0.0</td>\n",
       "    </tr>\n",
       "    <tr>\n",
       "      <th>1</th>\n",
       "      <td>1</td>\n",
       "      <td>0</td>\n",
       "      <td>1.0</td>\n",
       "      <td>0.0</td>\n",
       "      <td>0.0</td>\n",
       "      <td>0.0</td>\n",
       "      <td>0.0</td>\n",
       "      <td>0.0</td>\n",
       "      <td>0.0</td>\n",
       "      <td>0.0</td>\n",
       "      <td>...</td>\n",
       "      <td>0.0</td>\n",
       "      <td>0.0</td>\n",
       "      <td>0.0</td>\n",
       "      <td>0.0</td>\n",
       "      <td>0.0</td>\n",
       "      <td>0.0</td>\n",
       "      <td>0.0</td>\n",
       "      <td>0.0</td>\n",
       "      <td>0.0</td>\n",
       "      <td>0.0</td>\n",
       "    </tr>\n",
       "    <tr>\n",
       "      <th>2</th>\n",
       "      <td>2</td>\n",
       "      <td>0</td>\n",
       "      <td>1.0</td>\n",
       "      <td>0.0</td>\n",
       "      <td>0.0</td>\n",
       "      <td>0.0</td>\n",
       "      <td>0.0</td>\n",
       "      <td>0.0</td>\n",
       "      <td>0.0</td>\n",
       "      <td>0.0</td>\n",
       "      <td>...</td>\n",
       "      <td>0.0</td>\n",
       "      <td>0.0</td>\n",
       "      <td>0.0</td>\n",
       "      <td>0.0</td>\n",
       "      <td>0.0</td>\n",
       "      <td>0.0</td>\n",
       "      <td>0.0</td>\n",
       "      <td>0.0</td>\n",
       "      <td>0.0</td>\n",
       "      <td>0.0</td>\n",
       "    </tr>\n",
       "    <tr>\n",
       "      <th>3</th>\n",
       "      <td>3</td>\n",
       "      <td>0</td>\n",
       "      <td>1.0</td>\n",
       "      <td>0.0</td>\n",
       "      <td>0.0</td>\n",
       "      <td>0.0</td>\n",
       "      <td>0.0</td>\n",
       "      <td>0.0</td>\n",
       "      <td>0.0</td>\n",
       "      <td>0.0</td>\n",
       "      <td>...</td>\n",
       "      <td>0.0</td>\n",
       "      <td>0.0</td>\n",
       "      <td>0.0</td>\n",
       "      <td>0.0</td>\n",
       "      <td>0.0</td>\n",
       "      <td>0.0</td>\n",
       "      <td>0.0</td>\n",
       "      <td>0.0</td>\n",
       "      <td>0.0</td>\n",
       "      <td>0.0</td>\n",
       "    </tr>\n",
       "    <tr>\n",
       "      <th>4</th>\n",
       "      <td>4</td>\n",
       "      <td>0</td>\n",
       "      <td>1.0</td>\n",
       "      <td>0.0</td>\n",
       "      <td>0.0</td>\n",
       "      <td>0.0</td>\n",
       "      <td>0.0</td>\n",
       "      <td>0.0</td>\n",
       "      <td>0.0</td>\n",
       "      <td>0.0</td>\n",
       "      <td>...</td>\n",
       "      <td>0.0</td>\n",
       "      <td>0.0</td>\n",
       "      <td>0.0</td>\n",
       "      <td>0.0</td>\n",
       "      <td>0.0</td>\n",
       "      <td>0.0</td>\n",
       "      <td>0.0</td>\n",
       "      <td>0.0</td>\n",
       "      <td>0.0</td>\n",
       "      <td>0.0</td>\n",
       "    </tr>\n",
       "  </tbody>\n",
       "</table>\n",
       "<p>5 rows × 1838 columns</p>\n",
       "</div>"
      ],
      "text/plain": [
       "   index  binds  protein_name_HSA  \\\n",
       "0      0      0               1.0   \n",
       "1      1      0               1.0   \n",
       "2      2      0               1.0   \n",
       "3      3      0               1.0   \n",
       "4      4      0               1.0   \n",
       "\n",
       "   block1_C#CC[C@@H](CC(=O)O)NC(=O)OCC1c2ccccc2-c2ccccc21  \\\n",
       "0                                                0.0        \n",
       "1                                                0.0        \n",
       "2                                                0.0        \n",
       "3                                                0.0        \n",
       "4                                                0.0        \n",
       "\n",
       "   block1_C#CC[C@@H](NC(=O)OCC1c2ccccc2-c2ccccc21)C(=O)O  \\\n",
       "0                                                0.0       \n",
       "1                                                0.0       \n",
       "2                                                0.0       \n",
       "3                                                0.0       \n",
       "4                                                0.0       \n",
       "\n",
       "   block1_C#CC[C@@](C)(NC(=O)OCC1c2ccccc2-c2ccccc21)C(=O)O  \\\n",
       "0                                                0.0         \n",
       "1                                                0.0         \n",
       "2                                                0.0         \n",
       "3                                                0.0         \n",
       "4                                                0.0         \n",
       "\n",
       "   block1_C#CC[C@H](CC(=O)O)NC(=O)OCC1c2ccccc2-c2ccccc21  \\\n",
       "0                                                0.0       \n",
       "1                                                0.0       \n",
       "2                                                0.0       \n",
       "3                                                0.0       \n",
       "4                                                0.0       \n",
       "\n",
       "   block1_C#CC[C@H](NC(=O)OCC1c2ccccc2-c2ccccc21)C(=O)O  \\\n",
       "0                                                0.0      \n",
       "1                                                0.0      \n",
       "2                                                0.0      \n",
       "3                                                0.0      \n",
       "4                                                0.0      \n",
       "\n",
       "   block1_C=CCC(CC=C)(NC(=O)OCC1c2ccccc2-c2ccccc21)C(=O)O  \\\n",
       "0                                                0.0        \n",
       "1                                                0.0        \n",
       "2                                                0.0        \n",
       "3                                                0.0        \n",
       "4                                                0.0        \n",
       "\n",
       "   block1_C=CCC(NC(=O)OCC1c2ccccc2-c2ccccc21)C(=O)O  ...  \\\n",
       "0                                               0.0  ...   \n",
       "1                                               0.0  ...   \n",
       "2                                               0.0  ...   \n",
       "3                                               0.0  ...   \n",
       "4                                               0.0  ...   \n",
       "\n",
       "   block3_Nc1ncnc(=O)[nH]1  block3_Nc1ncnc(Cl)c1Cl  block3_Nc1ncnc2[nH]cnc12  \\\n",
       "0                      0.0                     0.0                       0.0   \n",
       "1                      0.0                     0.0                       0.0   \n",
       "2                      0.0                     0.0                       0.0   \n",
       "3                      0.0                     0.0                       0.0   \n",
       "4                      0.0                     0.0                       0.0   \n",
       "\n",
       "   block3_Nc1ncnc2[nH]ncc12  block3_Nc1ncnc2c1ncn2C1CCCCO1  \\\n",
       "0                       0.0                            0.0   \n",
       "1                       0.0                            0.0   \n",
       "2                       0.0                            0.0   \n",
       "3                       0.0                            0.0   \n",
       "4                       0.0                            0.0   \n",
       "\n",
       "   block3_Nc1ncncc1Br  block3_Nc1nnc(S)s1  block3_Nc1nncs1  \\\n",
       "0                 0.0                 0.0              0.0   \n",
       "1                 0.0                 0.0              0.0   \n",
       "2                 0.0                 0.0              0.0   \n",
       "3                 0.0                 0.0              0.0   \n",
       "4                 0.0                 0.0              0.0   \n",
       "\n",
       "   block3_Nc1nnn[nH]1  block3_Nc1noc2ccc(F)cc12  \n",
       "0                 0.0                       0.0  \n",
       "1                 0.0                       0.0  \n",
       "2                 0.0                       0.0  \n",
       "3                 0.0                       0.0  \n",
       "4                 0.0                       0.0  \n",
       "\n",
       "[5 rows x 1838 columns]"
      ]
     },
     "execution_count": 26,
     "metadata": {},
     "output_type": "execute_result"
    }
   ],
   "source": [
    "df_encoded_hsa.head()"
   ]
  },
  {
   "cell_type": "markdown",
   "metadata": {},
   "source": [
    "Pasamos ahora a reducir la multicolinialidad entre nuestras variables."
   ]
  },
  {
   "cell_type": "markdown",
   "metadata": {},
   "source": [
    "##### **Reducción de multicolinialidad.**"
   ]
  },
  {
   "cell_type": "code",
   "execution_count": 27,
   "metadata": {},
   "outputs": [],
   "source": [
    "y_train_hsa = df_encoded_hsa['binds']\n",
    "k_best = SelectKBest(score_func=chi2, k=100)\n",
    "X_new = k_best.fit_transform(df_encoded_hsa, y_train_hsa)\n",
    "\n",
    "selected_features = k_best.get_support(indices=True)\n",
    "hsa_train = df_encoded_hsa.iloc[:, selected_features]"
   ]
  },
  {
   "cell_type": "code",
   "execution_count": 28,
   "metadata": {},
   "outputs": [
    {
     "data": {
      "text/html": [
       "<div>\n",
       "<style scoped>\n",
       "    .dataframe tbody tr th:only-of-type {\n",
       "        vertical-align: middle;\n",
       "    }\n",
       "\n",
       "    .dataframe tbody tr th {\n",
       "        vertical-align: top;\n",
       "    }\n",
       "\n",
       "    .dataframe thead th {\n",
       "        text-align: right;\n",
       "    }\n",
       "</style>\n",
       "<table border=\"1\" class=\"dataframe\">\n",
       "  <thead>\n",
       "    <tr style=\"text-align: right;\">\n",
       "      <th></th>\n",
       "      <th>index</th>\n",
       "      <th>binds</th>\n",
       "      <th>block1_CC(OC(C)(C)C)C(NC(=O)OCC1c2ccccc2-c2ccccc21)C(=O)O</th>\n",
       "      <th>block1_Cc1cc(Cl)cc(C(=O)O)c1NC(=O)OCC1c2ccccc2-c2ccccc21</th>\n",
       "      <th>block1_Cc1ccc(C(=O)O)cc1NC(=O)OCC1c2ccccc2-c2ccccc21</th>\n",
       "      <th>block1_O=C(NC(CC1CCCCC1)C(=O)O)OCC1c2ccccc2-c2ccccc21</th>\n",
       "      <th>block1_O=C(NC(Cc1ccccc1)C(=O)O)OCC1c2ccccc2-c2ccccc21</th>\n",
       "      <th>block1_O=C(N[C@@H](Cc1cccnc1)C(=O)O)OCC1c2ccccc2-c2ccccc21</th>\n",
       "      <th>block1_O=C(N[C@H](Cc1ccc(-c2ccccc2)cc1)C(=O)O)OCC1c2ccccc2-c2ccccc21</th>\n",
       "      <th>block1_O=C(Nc1cc(C(=O)O)cc(C(=O)O)c1)OCC1c2ccccc2-c2ccccc21</th>\n",
       "      <th>...</th>\n",
       "      <th>block3_Nc1cccc2ocnc12</th>\n",
       "      <th>block3_Nc1cn[nH]c1</th>\n",
       "      <th>block3_Nc1cncc(F)c1</th>\n",
       "      <th>block3_Nc1n[nH]c2cc(F)ccc12</th>\n",
       "      <th>block3_Nc1nc(Cl)c2[nH]cnc2n1</th>\n",
       "      <th>block3_Nc1nc2c(s1)CN(C(=O)OCc1ccccc1)CC2</th>\n",
       "      <th>block3_Nc1nc[nH]n1</th>\n",
       "      <th>block3_Nc1ncnc(Cl)c1Cl</th>\n",
       "      <th>block3_Nc1nncs1</th>\n",
       "      <th>block3_Nc1nnn[nH]1</th>\n",
       "    </tr>\n",
       "  </thead>\n",
       "  <tbody>\n",
       "    <tr>\n",
       "      <th>0</th>\n",
       "      <td>0</td>\n",
       "      <td>0</td>\n",
       "      <td>0.0</td>\n",
       "      <td>0.0</td>\n",
       "      <td>0.0</td>\n",
       "      <td>0.0</td>\n",
       "      <td>0.0</td>\n",
       "      <td>0.0</td>\n",
       "      <td>0.0</td>\n",
       "      <td>0.0</td>\n",
       "      <td>...</td>\n",
       "      <td>0.0</td>\n",
       "      <td>0.0</td>\n",
       "      <td>0.0</td>\n",
       "      <td>0.0</td>\n",
       "      <td>0.0</td>\n",
       "      <td>0.0</td>\n",
       "      <td>0.0</td>\n",
       "      <td>0.0</td>\n",
       "      <td>0.0</td>\n",
       "      <td>0.0</td>\n",
       "    </tr>\n",
       "    <tr>\n",
       "      <th>1</th>\n",
       "      <td>1</td>\n",
       "      <td>0</td>\n",
       "      <td>0.0</td>\n",
       "      <td>0.0</td>\n",
       "      <td>0.0</td>\n",
       "      <td>0.0</td>\n",
       "      <td>0.0</td>\n",
       "      <td>0.0</td>\n",
       "      <td>0.0</td>\n",
       "      <td>0.0</td>\n",
       "      <td>...</td>\n",
       "      <td>0.0</td>\n",
       "      <td>0.0</td>\n",
       "      <td>0.0</td>\n",
       "      <td>0.0</td>\n",
       "      <td>0.0</td>\n",
       "      <td>0.0</td>\n",
       "      <td>0.0</td>\n",
       "      <td>0.0</td>\n",
       "      <td>0.0</td>\n",
       "      <td>0.0</td>\n",
       "    </tr>\n",
       "    <tr>\n",
       "      <th>2</th>\n",
       "      <td>2</td>\n",
       "      <td>0</td>\n",
       "      <td>0.0</td>\n",
       "      <td>0.0</td>\n",
       "      <td>0.0</td>\n",
       "      <td>0.0</td>\n",
       "      <td>0.0</td>\n",
       "      <td>0.0</td>\n",
       "      <td>0.0</td>\n",
       "      <td>0.0</td>\n",
       "      <td>...</td>\n",
       "      <td>0.0</td>\n",
       "      <td>0.0</td>\n",
       "      <td>0.0</td>\n",
       "      <td>0.0</td>\n",
       "      <td>0.0</td>\n",
       "      <td>0.0</td>\n",
       "      <td>0.0</td>\n",
       "      <td>0.0</td>\n",
       "      <td>0.0</td>\n",
       "      <td>0.0</td>\n",
       "    </tr>\n",
       "    <tr>\n",
       "      <th>3</th>\n",
       "      <td>3</td>\n",
       "      <td>0</td>\n",
       "      <td>0.0</td>\n",
       "      <td>0.0</td>\n",
       "      <td>0.0</td>\n",
       "      <td>0.0</td>\n",
       "      <td>0.0</td>\n",
       "      <td>0.0</td>\n",
       "      <td>0.0</td>\n",
       "      <td>0.0</td>\n",
       "      <td>...</td>\n",
       "      <td>0.0</td>\n",
       "      <td>0.0</td>\n",
       "      <td>0.0</td>\n",
       "      <td>0.0</td>\n",
       "      <td>0.0</td>\n",
       "      <td>0.0</td>\n",
       "      <td>0.0</td>\n",
       "      <td>0.0</td>\n",
       "      <td>0.0</td>\n",
       "      <td>0.0</td>\n",
       "    </tr>\n",
       "    <tr>\n",
       "      <th>4</th>\n",
       "      <td>4</td>\n",
       "      <td>0</td>\n",
       "      <td>0.0</td>\n",
       "      <td>0.0</td>\n",
       "      <td>0.0</td>\n",
       "      <td>0.0</td>\n",
       "      <td>0.0</td>\n",
       "      <td>0.0</td>\n",
       "      <td>0.0</td>\n",
       "      <td>0.0</td>\n",
       "      <td>...</td>\n",
       "      <td>0.0</td>\n",
       "      <td>0.0</td>\n",
       "      <td>0.0</td>\n",
       "      <td>0.0</td>\n",
       "      <td>0.0</td>\n",
       "      <td>0.0</td>\n",
       "      <td>0.0</td>\n",
       "      <td>0.0</td>\n",
       "      <td>0.0</td>\n",
       "      <td>0.0</td>\n",
       "    </tr>\n",
       "  </tbody>\n",
       "</table>\n",
       "<p>5 rows × 100 columns</p>\n",
       "</div>"
      ],
      "text/plain": [
       "   index  binds  block1_CC(OC(C)(C)C)C(NC(=O)OCC1c2ccccc2-c2ccccc21)C(=O)O  \\\n",
       "0      0      0                                                0.0           \n",
       "1      1      0                                                0.0           \n",
       "2      2      0                                                0.0           \n",
       "3      3      0                                                0.0           \n",
       "4      4      0                                                0.0           \n",
       "\n",
       "   block1_Cc1cc(Cl)cc(C(=O)O)c1NC(=O)OCC1c2ccccc2-c2ccccc21  \\\n",
       "0                                                0.0          \n",
       "1                                                0.0          \n",
       "2                                                0.0          \n",
       "3                                                0.0          \n",
       "4                                                0.0          \n",
       "\n",
       "   block1_Cc1ccc(C(=O)O)cc1NC(=O)OCC1c2ccccc2-c2ccccc21  \\\n",
       "0                                                0.0      \n",
       "1                                                0.0      \n",
       "2                                                0.0      \n",
       "3                                                0.0      \n",
       "4                                                0.0      \n",
       "\n",
       "   block1_O=C(NC(CC1CCCCC1)C(=O)O)OCC1c2ccccc2-c2ccccc21  \\\n",
       "0                                                0.0       \n",
       "1                                                0.0       \n",
       "2                                                0.0       \n",
       "3                                                0.0       \n",
       "4                                                0.0       \n",
       "\n",
       "   block1_O=C(NC(Cc1ccccc1)C(=O)O)OCC1c2ccccc2-c2ccccc21  \\\n",
       "0                                                0.0       \n",
       "1                                                0.0       \n",
       "2                                                0.0       \n",
       "3                                                0.0       \n",
       "4                                                0.0       \n",
       "\n",
       "   block1_O=C(N[C@@H](Cc1cccnc1)C(=O)O)OCC1c2ccccc2-c2ccccc21  \\\n",
       "0                                                0.0            \n",
       "1                                                0.0            \n",
       "2                                                0.0            \n",
       "3                                                0.0            \n",
       "4                                                0.0            \n",
       "\n",
       "   block1_O=C(N[C@H](Cc1ccc(-c2ccccc2)cc1)C(=O)O)OCC1c2ccccc2-c2ccccc21  \\\n",
       "0                                                0.0                      \n",
       "1                                                0.0                      \n",
       "2                                                0.0                      \n",
       "3                                                0.0                      \n",
       "4                                                0.0                      \n",
       "\n",
       "   block1_O=C(Nc1cc(C(=O)O)cc(C(=O)O)c1)OCC1c2ccccc2-c2ccccc21  ...  \\\n",
       "0                                                0.0            ...   \n",
       "1                                                0.0            ...   \n",
       "2                                                0.0            ...   \n",
       "3                                                0.0            ...   \n",
       "4                                                0.0            ...   \n",
       "\n",
       "   block3_Nc1cccc2ocnc12  block3_Nc1cn[nH]c1  block3_Nc1cncc(F)c1  \\\n",
       "0                    0.0                 0.0                  0.0   \n",
       "1                    0.0                 0.0                  0.0   \n",
       "2                    0.0                 0.0                  0.0   \n",
       "3                    0.0                 0.0                  0.0   \n",
       "4                    0.0                 0.0                  0.0   \n",
       "\n",
       "   block3_Nc1n[nH]c2cc(F)ccc12  block3_Nc1nc(Cl)c2[nH]cnc2n1  \\\n",
       "0                          0.0                           0.0   \n",
       "1                          0.0                           0.0   \n",
       "2                          0.0                           0.0   \n",
       "3                          0.0                           0.0   \n",
       "4                          0.0                           0.0   \n",
       "\n",
       "   block3_Nc1nc2c(s1)CN(C(=O)OCc1ccccc1)CC2  block3_Nc1nc[nH]n1  \\\n",
       "0                                       0.0                 0.0   \n",
       "1                                       0.0                 0.0   \n",
       "2                                       0.0                 0.0   \n",
       "3                                       0.0                 0.0   \n",
       "4                                       0.0                 0.0   \n",
       "\n",
       "   block3_Nc1ncnc(Cl)c1Cl  block3_Nc1nncs1  block3_Nc1nnn[nH]1  \n",
       "0                     0.0              0.0                 0.0  \n",
       "1                     0.0              0.0                 0.0  \n",
       "2                     0.0              0.0                 0.0  \n",
       "3                     0.0              0.0                 0.0  \n",
       "4                     0.0              0.0                 0.0  \n",
       "\n",
       "[5 rows x 100 columns]"
      ]
     },
     "execution_count": 28,
     "metadata": {},
     "output_type": "execute_result"
    }
   ],
   "source": [
    "hsa_train.head()"
   ]
  },
  {
   "cell_type": "markdown",
   "metadata": {},
   "source": [
    "Siendo así el dataframe anterior nuestro conjunto de entrenamiento para los modelos de la proteina HSA, y se mantiene nuestra variable respuesta \"bins\"."
   ]
  },
  {
   "cell_type": "code",
   "execution_count": 29,
   "metadata": {},
   "outputs": [
    {
     "data": {
      "text/plain": [
       "0        0\n",
       "1        0\n",
       "2        0\n",
       "3        0\n",
       "4        0\n",
       "        ..\n",
       "99995    0\n",
       "99996    0\n",
       "99997    0\n",
       "99998    0\n",
       "99999    0\n",
       "Name: binds, Length: 100000, dtype: int64"
      ]
     },
     "execution_count": 29,
     "metadata": {},
     "output_type": "execute_result"
    }
   ],
   "source": [
    "y_train_hsa"
   ]
  },
  {
   "cell_type": "markdown",
   "metadata": {},
   "source": [
    "#### ***BRD4: Bromodomain-containing protein 4***"
   ]
  },
  {
   "cell_type": "markdown",
   "metadata": {},
   "source": [
    "##### **Análisis inicial.**"
   ]
  },
  {
   "cell_type": "code",
   "execution_count": 5,
   "metadata": {},
   "outputs": [],
   "source": [
    "brd4_final, _ = train_test_split( brd4, train_size = 100000,  stratify = brd4['binds'], random_state=11)"
   ]
  },
  {
   "cell_type": "code",
   "execution_count": 6,
   "metadata": {},
   "outputs": [],
   "source": [
    "brd4_final.to_csv('final_brd4_',index=False)"
   ]
  },
  {
   "cell_type": "code",
   "execution_count": 30,
   "metadata": {},
   "outputs": [],
   "source": [
    "brd4_final=pd.read_csv(\"C:/Users/fonta/OneDrive/Documentos/CDD/6. Sexto semestre/Machine learning/Primer parcial/Parcial_practico/final_brd4_\")"
   ]
  },
  {
   "cell_type": "code",
   "execution_count": 95,
   "metadata": {},
   "outputs": [
    {
     "data": {
      "text/html": [
       "<div>\n",
       "<style scoped>\n",
       "    .dataframe tbody tr th:only-of-type {\n",
       "        vertical-align: middle;\n",
       "    }\n",
       "\n",
       "    .dataframe tbody tr th {\n",
       "        vertical-align: top;\n",
       "    }\n",
       "\n",
       "    .dataframe thead th {\n",
       "        text-align: right;\n",
       "    }\n",
       "</style>\n",
       "<table border=\"1\" class=\"dataframe\">\n",
       "  <thead>\n",
       "    <tr style=\"text-align: right;\">\n",
       "      <th></th>\n",
       "      <th>id</th>\n",
       "      <th>block1</th>\n",
       "      <th>block2</th>\n",
       "      <th>block3</th>\n",
       "      <th>molecule</th>\n",
       "      <th>protein_name</th>\n",
       "      <th>binds</th>\n",
       "    </tr>\n",
       "  </thead>\n",
       "  <tbody>\n",
       "    <tr>\n",
       "      <th>0</th>\n",
       "      <td>100174431</td>\n",
       "      <td>O=C(N[C@@H](Cc1ccc(F)cc1F)C(=O)O)OCC1c2ccccc2-...</td>\n",
       "      <td>Nc1nc(-c2cccnc2)cs1</td>\n",
       "      <td>Cc1nnsc1CN</td>\n",
       "      <td>Cc1nnsc1CNc1nc(Nc2nc(-c3cccnc3)cs2)nc(N[C@@H](...</td>\n",
       "      <td>BRD4</td>\n",
       "      <td>0</td>\n",
       "    </tr>\n",
       "    <tr>\n",
       "      <th>1</th>\n",
       "      <td>288634638</td>\n",
       "      <td>O=C(O)[C@H]1CC2CCCCC2N1C(=O)OCC1c2ccccc2-c2ccc...</td>\n",
       "      <td>Nc1ccncc1[N+](=O)[O-]</td>\n",
       "      <td>Nc1nc2nc[nH]c2c(=O)[nH]1</td>\n",
       "      <td>O=C(N[Dy])[C@H]1CC2CCCCC2N1c1nc(Nc2nc3nc[nH]c3...</td>\n",
       "      <td>BRD4</td>\n",
       "      <td>0</td>\n",
       "    </tr>\n",
       "    <tr>\n",
       "      <th>2</th>\n",
       "      <td>43808760</td>\n",
       "      <td>C[C@@H](OCc1ccccc1)[C@H](NC(=O)OCC1c2ccccc2-c2...</td>\n",
       "      <td>COc1c(F)cc(N)cc1F</td>\n",
       "      <td>Nc1ccc(F)cc1CO</td>\n",
       "      <td>COc1c(F)cc(Nc2nc(Nc3ccc(F)cc3CO)nc(N[C@H](C(=O...</td>\n",
       "      <td>BRD4</td>\n",
       "      <td>0</td>\n",
       "    </tr>\n",
       "    <tr>\n",
       "      <th>3</th>\n",
       "      <td>91037118</td>\n",
       "      <td>O=C(N[C@@H](Cc1c(F)c(F)c(F)c(F)c1F)C(=O)O)OCC1...</td>\n",
       "      <td>Cl.NCCOC1CCS(=O)(=O)C1</td>\n",
       "      <td>Cl.Cl.NCCc1nnc2c(=O)[nH]ccn12</td>\n",
       "      <td>O=C(N[Dy])[C@H](Cc1c(F)c(F)c(F)c(F)c1F)Nc1nc(N...</td>\n",
       "      <td>BRD4</td>\n",
       "      <td>0</td>\n",
       "    </tr>\n",
       "    <tr>\n",
       "      <th>4</th>\n",
       "      <td>3471777</td>\n",
       "      <td>C#CC[C@H](CC(=O)O)NC(=O)OCC1c2ccccc2-c2ccccc21</td>\n",
       "      <td>COC(=O)c1scnc1N</td>\n",
       "      <td>NCC1CSCCN1Cc1ccccc1</td>\n",
       "      <td>C#CC[C@H](CC(=O)N[Dy])Nc1nc(NCC2CSCCN2Cc2ccccc...</td>\n",
       "      <td>BRD4</td>\n",
       "      <td>0</td>\n",
       "    </tr>\n",
       "  </tbody>\n",
       "</table>\n",
       "</div>"
      ],
      "text/plain": [
       "          id                                             block1  \\\n",
       "0  100174431  O=C(N[C@@H](Cc1ccc(F)cc1F)C(=O)O)OCC1c2ccccc2-...   \n",
       "1  288634638  O=C(O)[C@H]1CC2CCCCC2N1C(=O)OCC1c2ccccc2-c2ccc...   \n",
       "2   43808760  C[C@@H](OCc1ccccc1)[C@H](NC(=O)OCC1c2ccccc2-c2...   \n",
       "3   91037118  O=C(N[C@@H](Cc1c(F)c(F)c(F)c(F)c1F)C(=O)O)OCC1...   \n",
       "4    3471777     C#CC[C@H](CC(=O)O)NC(=O)OCC1c2ccccc2-c2ccccc21   \n",
       "\n",
       "                   block2                         block3  \\\n",
       "0     Nc1nc(-c2cccnc2)cs1                     Cc1nnsc1CN   \n",
       "1   Nc1ccncc1[N+](=O)[O-]       Nc1nc2nc[nH]c2c(=O)[nH]1   \n",
       "2       COc1c(F)cc(N)cc1F                 Nc1ccc(F)cc1CO   \n",
       "3  Cl.NCCOC1CCS(=O)(=O)C1  Cl.Cl.NCCc1nnc2c(=O)[nH]ccn12   \n",
       "4         COC(=O)c1scnc1N            NCC1CSCCN1Cc1ccccc1   \n",
       "\n",
       "                                            molecule protein_name  binds  \n",
       "0  Cc1nnsc1CNc1nc(Nc2nc(-c3cccnc3)cs2)nc(N[C@@H](...         BRD4      0  \n",
       "1  O=C(N[Dy])[C@H]1CC2CCCCC2N1c1nc(Nc2nc3nc[nH]c3...         BRD4      0  \n",
       "2  COc1c(F)cc(Nc2nc(Nc3ccc(F)cc3CO)nc(N[C@H](C(=O...         BRD4      0  \n",
       "3  O=C(N[Dy])[C@H](Cc1c(F)c(F)c(F)c(F)c1F)Nc1nc(N...         BRD4      0  \n",
       "4  C#CC[C@H](CC(=O)N[Dy])Nc1nc(NCC2CSCCN2Cc2ccccc...         BRD4      0  "
      ]
     },
     "execution_count": 95,
     "metadata": {},
     "output_type": "execute_result"
    }
   ],
   "source": [
    "brd4_final.head()"
   ]
  },
  {
   "cell_type": "code",
   "execution_count": 9,
   "metadata": {},
   "outputs": [
    {
     "data": {
      "text/plain": [
       "100000"
      ]
     },
     "execution_count": 9,
     "metadata": {},
     "output_type": "execute_result"
    }
   ],
   "source": [
    "len(brd4_final['molecule'].unique())"
   ]
  },
  {
   "cell_type": "code",
   "execution_count": 10,
   "metadata": {},
   "outputs": [
    {
     "data": {
      "text/plain": [
       "binds\n",
       "0    99536\n",
       "1      464\n",
       "Name: count, dtype: int64"
      ]
     },
     "execution_count": 10,
     "metadata": {},
     "output_type": "execute_result"
    }
   ],
   "source": [
    "brd4_final[\"binds\"].value_counts()"
   ]
  },
  {
   "cell_type": "code",
   "execution_count": 11,
   "metadata": {},
   "outputs": [
    {
     "name": "stdout",
     "output_type": "stream",
     "text": [
      "Proporción de la categoría 0:  99.536\n",
      "Proporción de la categoría 1:  0.464\n"
     ]
    }
   ],
   "source": [
    "ceros=(99536/len(brd4_final))*100\n",
    "unos=(464/len(brd4_final))*100\n",
    "\n",
    "print('Proporción de la categoría 0: ', ceros)\n",
    "print('Proporción de la categoría 1: ', unos)"
   ]
  },
  {
   "cell_type": "code",
   "execution_count": 12,
   "metadata": {},
   "outputs": [
    {
     "data": {
      "text/html": [
       "<div>\n",
       "<style scoped>\n",
       "    .dataframe tbody tr th:only-of-type {\n",
       "        vertical-align: middle;\n",
       "    }\n",
       "\n",
       "    .dataframe tbody tr th {\n",
       "        vertical-align: top;\n",
       "    }\n",
       "\n",
       "    .dataframe thead th {\n",
       "        text-align: right;\n",
       "    }\n",
       "</style>\n",
       "<table border=\"1\" class=\"dataframe\">\n",
       "  <thead>\n",
       "    <tr style=\"text-align: right;\">\n",
       "      <th></th>\n",
       "      <th>block1</th>\n",
       "      <th>block2</th>\n",
       "      <th>block3</th>\n",
       "      <th>molecule</th>\n",
       "      <th>protein_name</th>\n",
       "    </tr>\n",
       "  </thead>\n",
       "  <tbody>\n",
       "    <tr>\n",
       "      <th>count</th>\n",
       "      <td>100000</td>\n",
       "      <td>100000</td>\n",
       "      <td>100000</td>\n",
       "      <td>100000</td>\n",
       "      <td>100000</td>\n",
       "    </tr>\n",
       "    <tr>\n",
       "      <th>unique</th>\n",
       "      <td>271</td>\n",
       "      <td>693</td>\n",
       "      <td>871</td>\n",
       "      <td>100000</td>\n",
       "      <td>1</td>\n",
       "    </tr>\n",
       "    <tr>\n",
       "      <th>top</th>\n",
       "      <td>O=C(N[C@@H](Cc1cc(F)c(F)c(F)c1)C(=O)O)OCC1c2cc...</td>\n",
       "      <td>NCCC(=O)NC1CCCC1</td>\n",
       "      <td>Cc1cc2cc(CN)ccc2[nH]1</td>\n",
       "      <td>Cc1nnsc1CNc1nc(Nc2nc(-c3cccnc3)cs2)nc(N[C@@H](...</td>\n",
       "      <td>BRD4</td>\n",
       "    </tr>\n",
       "    <tr>\n",
       "      <th>freq</th>\n",
       "      <td>436</td>\n",
       "      <td>272</td>\n",
       "      <td>233</td>\n",
       "      <td>1</td>\n",
       "      <td>100000</td>\n",
       "    </tr>\n",
       "  </tbody>\n",
       "</table>\n",
       "</div>"
      ],
      "text/plain": [
       "                                                   block1            block2  \\\n",
       "count                                              100000            100000   \n",
       "unique                                                271               693   \n",
       "top     O=C(N[C@@H](Cc1cc(F)c(F)c(F)c1)C(=O)O)OCC1c2cc...  NCCC(=O)NC1CCCC1   \n",
       "freq                                                  436               272   \n",
       "\n",
       "                       block3  \\\n",
       "count                  100000   \n",
       "unique                    871   \n",
       "top     Cc1cc2cc(CN)ccc2[nH]1   \n",
       "freq                      233   \n",
       "\n",
       "                                                 molecule protein_name  \n",
       "count                                              100000       100000  \n",
       "unique                                             100000            1  \n",
       "top     Cc1nnsc1CNc1nc(Nc2nc(-c3cccnc3)cs2)nc(N[C@@H](...         BRD4  \n",
       "freq                                                    1       100000  "
      ]
     },
     "execution_count": 12,
     "metadata": {},
     "output_type": "execute_result"
    }
   ],
   "source": [
    "brd4_final.describe(include=[object])"
   ]
  },
  {
   "cell_type": "markdown",
   "metadata": {},
   "source": [
    "Con estos análisis iniciales, se nota que este conjunto de datos de la proteina brd4 tiene el mismo comportamiento de los otros dos, lo cual es importante al momento de modelar."
   ]
  },
  {
   "cell_type": "markdown",
   "metadata": {},
   "source": [
    "##### **Codificación de las variables categóricas.**"
   ]
  },
  {
   "cell_type": "code",
   "execution_count": 31,
   "metadata": {},
   "outputs": [],
   "source": [
    "to_encode=brd4_final.copy()\n",
    "to_encode=to_encode.reset_index()"
   ]
  },
  {
   "cell_type": "code",
   "execution_count": 32,
   "metadata": {},
   "outputs": [],
   "source": [
    "categorical_columns = ['protein_name', 'block1', 'block2', 'block3']\n",
    "encoder = OneHotEncoder(sparse_output=False)\n",
    "one_hot_encoded = encoder.fit_transform(to_encode[categorical_columns])\n",
    "one_hot_df = pd.DataFrame(one_hot_encoded, columns=encoder.get_feature_names_out(categorical_columns))\n",
    "df_encoded_brd4 = pd.concat([to_encode, one_hot_df], axis=1)\n",
    "df_encoded_brd4 = df_encoded_brd4.drop(categorical_columns, axis=1)"
   ]
  },
  {
   "cell_type": "code",
   "execution_count": 33,
   "metadata": {},
   "outputs": [],
   "source": [
    "df_encoded_brd4.drop(columns=['id','molecule'], inplace=True)"
   ]
  },
  {
   "cell_type": "code",
   "execution_count": 99,
   "metadata": {},
   "outputs": [
    {
     "data": {
      "text/html": [
       "<div>\n",
       "<style scoped>\n",
       "    .dataframe tbody tr th:only-of-type {\n",
       "        vertical-align: middle;\n",
       "    }\n",
       "\n",
       "    .dataframe tbody tr th {\n",
       "        vertical-align: top;\n",
       "    }\n",
       "\n",
       "    .dataframe thead th {\n",
       "        text-align: right;\n",
       "    }\n",
       "</style>\n",
       "<table border=\"1\" class=\"dataframe\">\n",
       "  <thead>\n",
       "    <tr style=\"text-align: right;\">\n",
       "      <th></th>\n",
       "      <th>index</th>\n",
       "      <th>binds</th>\n",
       "      <th>protein_name_BRD4</th>\n",
       "      <th>block1_C#CC[C@@H](CC(=O)O)NC(=O)OCC1c2ccccc2-c2ccccc21</th>\n",
       "      <th>block1_C#CC[C@@H](NC(=O)OCC1c2ccccc2-c2ccccc21)C(=O)O</th>\n",
       "      <th>block1_C#CC[C@@](C)(NC(=O)OCC1c2ccccc2-c2ccccc21)C(=O)O</th>\n",
       "      <th>block1_C#CC[C@H](CC(=O)O)NC(=O)OCC1c2ccccc2-c2ccccc21</th>\n",
       "      <th>block1_C#CC[C@H](NC(=O)OCC1c2ccccc2-c2ccccc21)C(=O)O</th>\n",
       "      <th>block1_C=CCC(CC=C)(NC(=O)OCC1c2ccccc2-c2ccccc21)C(=O)O</th>\n",
       "      <th>block1_C=CCC(NC(=O)OCC1c2ccccc2-c2ccccc21)C(=O)O</th>\n",
       "      <th>...</th>\n",
       "      <th>block3_Nc1ncnc(=O)[nH]1</th>\n",
       "      <th>block3_Nc1ncnc(Cl)c1Cl</th>\n",
       "      <th>block3_Nc1ncnc2[nH]cnc12</th>\n",
       "      <th>block3_Nc1ncnc2[nH]ncc12</th>\n",
       "      <th>block3_Nc1ncnc2c1ncn2C1CCCCO1</th>\n",
       "      <th>block3_Nc1ncncc1Br</th>\n",
       "      <th>block3_Nc1nnc(S)s1</th>\n",
       "      <th>block3_Nc1nncs1</th>\n",
       "      <th>block3_Nc1nnn[nH]1</th>\n",
       "      <th>block3_Nc1noc2ccc(F)cc12</th>\n",
       "    </tr>\n",
       "  </thead>\n",
       "  <tbody>\n",
       "    <tr>\n",
       "      <th>0</th>\n",
       "      <td>0</td>\n",
       "      <td>0</td>\n",
       "      <td>1.0</td>\n",
       "      <td>0.0</td>\n",
       "      <td>0.0</td>\n",
       "      <td>0.0</td>\n",
       "      <td>0.0</td>\n",
       "      <td>0.0</td>\n",
       "      <td>0.0</td>\n",
       "      <td>0.0</td>\n",
       "      <td>...</td>\n",
       "      <td>0.0</td>\n",
       "      <td>0.0</td>\n",
       "      <td>0.0</td>\n",
       "      <td>0.0</td>\n",
       "      <td>0.0</td>\n",
       "      <td>0.0</td>\n",
       "      <td>0.0</td>\n",
       "      <td>0.0</td>\n",
       "      <td>0.0</td>\n",
       "      <td>0.0</td>\n",
       "    </tr>\n",
       "    <tr>\n",
       "      <th>1</th>\n",
       "      <td>1</td>\n",
       "      <td>0</td>\n",
       "      <td>1.0</td>\n",
       "      <td>0.0</td>\n",
       "      <td>0.0</td>\n",
       "      <td>0.0</td>\n",
       "      <td>0.0</td>\n",
       "      <td>0.0</td>\n",
       "      <td>0.0</td>\n",
       "      <td>0.0</td>\n",
       "      <td>...</td>\n",
       "      <td>0.0</td>\n",
       "      <td>0.0</td>\n",
       "      <td>0.0</td>\n",
       "      <td>0.0</td>\n",
       "      <td>0.0</td>\n",
       "      <td>0.0</td>\n",
       "      <td>0.0</td>\n",
       "      <td>0.0</td>\n",
       "      <td>0.0</td>\n",
       "      <td>0.0</td>\n",
       "    </tr>\n",
       "    <tr>\n",
       "      <th>2</th>\n",
       "      <td>2</td>\n",
       "      <td>0</td>\n",
       "      <td>1.0</td>\n",
       "      <td>0.0</td>\n",
       "      <td>0.0</td>\n",
       "      <td>0.0</td>\n",
       "      <td>0.0</td>\n",
       "      <td>0.0</td>\n",
       "      <td>0.0</td>\n",
       "      <td>0.0</td>\n",
       "      <td>...</td>\n",
       "      <td>0.0</td>\n",
       "      <td>0.0</td>\n",
       "      <td>0.0</td>\n",
       "      <td>0.0</td>\n",
       "      <td>0.0</td>\n",
       "      <td>0.0</td>\n",
       "      <td>0.0</td>\n",
       "      <td>0.0</td>\n",
       "      <td>0.0</td>\n",
       "      <td>0.0</td>\n",
       "    </tr>\n",
       "    <tr>\n",
       "      <th>3</th>\n",
       "      <td>3</td>\n",
       "      <td>0</td>\n",
       "      <td>1.0</td>\n",
       "      <td>0.0</td>\n",
       "      <td>0.0</td>\n",
       "      <td>0.0</td>\n",
       "      <td>0.0</td>\n",
       "      <td>0.0</td>\n",
       "      <td>0.0</td>\n",
       "      <td>0.0</td>\n",
       "      <td>...</td>\n",
       "      <td>0.0</td>\n",
       "      <td>0.0</td>\n",
       "      <td>0.0</td>\n",
       "      <td>0.0</td>\n",
       "      <td>0.0</td>\n",
       "      <td>0.0</td>\n",
       "      <td>0.0</td>\n",
       "      <td>0.0</td>\n",
       "      <td>0.0</td>\n",
       "      <td>0.0</td>\n",
       "    </tr>\n",
       "    <tr>\n",
       "      <th>4</th>\n",
       "      <td>4</td>\n",
       "      <td>0</td>\n",
       "      <td>1.0</td>\n",
       "      <td>0.0</td>\n",
       "      <td>0.0</td>\n",
       "      <td>0.0</td>\n",
       "      <td>1.0</td>\n",
       "      <td>0.0</td>\n",
       "      <td>0.0</td>\n",
       "      <td>0.0</td>\n",
       "      <td>...</td>\n",
       "      <td>0.0</td>\n",
       "      <td>0.0</td>\n",
       "      <td>0.0</td>\n",
       "      <td>0.0</td>\n",
       "      <td>0.0</td>\n",
       "      <td>0.0</td>\n",
       "      <td>0.0</td>\n",
       "      <td>0.0</td>\n",
       "      <td>0.0</td>\n",
       "      <td>0.0</td>\n",
       "    </tr>\n",
       "  </tbody>\n",
       "</table>\n",
       "<p>5 rows × 1838 columns</p>\n",
       "</div>"
      ],
      "text/plain": [
       "   index  binds  protein_name_BRD4  \\\n",
       "0      0      0                1.0   \n",
       "1      1      0                1.0   \n",
       "2      2      0                1.0   \n",
       "3      3      0                1.0   \n",
       "4      4      0                1.0   \n",
       "\n",
       "   block1_C#CC[C@@H](CC(=O)O)NC(=O)OCC1c2ccccc2-c2ccccc21  \\\n",
       "0                                                0.0        \n",
       "1                                                0.0        \n",
       "2                                                0.0        \n",
       "3                                                0.0        \n",
       "4                                                0.0        \n",
       "\n",
       "   block1_C#CC[C@@H](NC(=O)OCC1c2ccccc2-c2ccccc21)C(=O)O  \\\n",
       "0                                                0.0       \n",
       "1                                                0.0       \n",
       "2                                                0.0       \n",
       "3                                                0.0       \n",
       "4                                                0.0       \n",
       "\n",
       "   block1_C#CC[C@@](C)(NC(=O)OCC1c2ccccc2-c2ccccc21)C(=O)O  \\\n",
       "0                                                0.0         \n",
       "1                                                0.0         \n",
       "2                                                0.0         \n",
       "3                                                0.0         \n",
       "4                                                0.0         \n",
       "\n",
       "   block1_C#CC[C@H](CC(=O)O)NC(=O)OCC1c2ccccc2-c2ccccc21  \\\n",
       "0                                                0.0       \n",
       "1                                                0.0       \n",
       "2                                                0.0       \n",
       "3                                                0.0       \n",
       "4                                                1.0       \n",
       "\n",
       "   block1_C#CC[C@H](NC(=O)OCC1c2ccccc2-c2ccccc21)C(=O)O  \\\n",
       "0                                                0.0      \n",
       "1                                                0.0      \n",
       "2                                                0.0      \n",
       "3                                                0.0      \n",
       "4                                                0.0      \n",
       "\n",
       "   block1_C=CCC(CC=C)(NC(=O)OCC1c2ccccc2-c2ccccc21)C(=O)O  \\\n",
       "0                                                0.0        \n",
       "1                                                0.0        \n",
       "2                                                0.0        \n",
       "3                                                0.0        \n",
       "4                                                0.0        \n",
       "\n",
       "   block1_C=CCC(NC(=O)OCC1c2ccccc2-c2ccccc21)C(=O)O  ...  \\\n",
       "0                                               0.0  ...   \n",
       "1                                               0.0  ...   \n",
       "2                                               0.0  ...   \n",
       "3                                               0.0  ...   \n",
       "4                                               0.0  ...   \n",
       "\n",
       "   block3_Nc1ncnc(=O)[nH]1  block3_Nc1ncnc(Cl)c1Cl  block3_Nc1ncnc2[nH]cnc12  \\\n",
       "0                      0.0                     0.0                       0.0   \n",
       "1                      0.0                     0.0                       0.0   \n",
       "2                      0.0                     0.0                       0.0   \n",
       "3                      0.0                     0.0                       0.0   \n",
       "4                      0.0                     0.0                       0.0   \n",
       "\n",
       "   block3_Nc1ncnc2[nH]ncc12  block3_Nc1ncnc2c1ncn2C1CCCCO1  \\\n",
       "0                       0.0                            0.0   \n",
       "1                       0.0                            0.0   \n",
       "2                       0.0                            0.0   \n",
       "3                       0.0                            0.0   \n",
       "4                       0.0                            0.0   \n",
       "\n",
       "   block3_Nc1ncncc1Br  block3_Nc1nnc(S)s1  block3_Nc1nncs1  \\\n",
       "0                 0.0                 0.0              0.0   \n",
       "1                 0.0                 0.0              0.0   \n",
       "2                 0.0                 0.0              0.0   \n",
       "3                 0.0                 0.0              0.0   \n",
       "4                 0.0                 0.0              0.0   \n",
       "\n",
       "   block3_Nc1nnn[nH]1  block3_Nc1noc2ccc(F)cc12  \n",
       "0                 0.0                       0.0  \n",
       "1                 0.0                       0.0  \n",
       "2                 0.0                       0.0  \n",
       "3                 0.0                       0.0  \n",
       "4                 0.0                       0.0  \n",
       "\n",
       "[5 rows x 1838 columns]"
      ]
     },
     "execution_count": 99,
     "metadata": {},
     "output_type": "execute_result"
    }
   ],
   "source": [
    "df_encoded_brd4.head()"
   ]
  },
  {
   "cell_type": "markdown",
   "metadata": {},
   "source": [
    "Vemos que se ha completado la codificación del conjunto de datos de la proteina \"BRD4\". Pasamos al ultimo paso que es reducir la dimensión del df, quedandonos con las 100 mejores caracteristicas que explican la variable respuesta \"bins\"."
   ]
  },
  {
   "cell_type": "markdown",
   "metadata": {},
   "source": [
    "##### **Reducción de multicolinialidad**"
   ]
  },
  {
   "cell_type": "code",
   "execution_count": 34,
   "metadata": {},
   "outputs": [],
   "source": [
    "y_train_brd4 = df_encoded_brd4['binds']\n",
    "k_best = SelectKBest(score_func=chi2, k=100)\n",
    "X_new = k_best.fit_transform(df_encoded_brd4, y_train_brd4)\n",
    "\n",
    "selected_features = k_best.get_support(indices=True)\n",
    "brd4_train = df_encoded_brd4.iloc[:, selected_features]"
   ]
  },
  {
   "cell_type": "code",
   "execution_count": 35,
   "metadata": {},
   "outputs": [
    {
     "data": {
      "text/html": [
       "<div>\n",
       "<style scoped>\n",
       "    .dataframe tbody tr th:only-of-type {\n",
       "        vertical-align: middle;\n",
       "    }\n",
       "\n",
       "    .dataframe tbody tr th {\n",
       "        vertical-align: top;\n",
       "    }\n",
       "\n",
       "    .dataframe thead th {\n",
       "        text-align: right;\n",
       "    }\n",
       "</style>\n",
       "<table border=\"1\" class=\"dataframe\">\n",
       "  <thead>\n",
       "    <tr style=\"text-align: right;\">\n",
       "      <th></th>\n",
       "      <th>index</th>\n",
       "      <th>binds</th>\n",
       "      <th>block1_CC(C)(C)OC(=O)CCC(NC(=O)OCC1c2ccccc2-c2ccccc21)C(=O)O</th>\n",
       "      <th>block1_CC(C)(C)OCC(NC(=O)OCC1c2ccccc2-c2ccccc21)C(=O)O</th>\n",
       "      <th>block1_CC(C)CC(NC(=O)OCC1c2ccccc2-c2ccccc21)C(=O)O</th>\n",
       "      <th>block1_CC(OC(C)(C)C)C(NC(=O)OCC1c2ccccc2-c2ccccc21)C(=O)O</th>\n",
       "      <th>block1_N#Cc1ccc(C[C@@H](NC(=O)OCC2c3ccccc3-c3ccccc32)C(=O)O)cc1</th>\n",
       "      <th>block1_O=C(NC(CC1CCCCC1)C(=O)O)OCC1c2ccccc2-c2ccccc21</th>\n",
       "      <th>block1_O=C(NC(CCc1ccccc1)C(=O)O)OCC1c2ccccc2-c2ccccc21</th>\n",
       "      <th>block1_O=C(NC(Cc1ccccc1)C(=O)O)OCC1c2ccccc2-c2ccccc21</th>\n",
       "      <th>...</th>\n",
       "      <th>block3_Nc1cc(Cl)c(O)c(Cl)c1</th>\n",
       "      <th>block3_Nc1cc(N2CCNCC2)ccc1[N+](=O)[O-]</th>\n",
       "      <th>block3_Nc1ccc2[nH]ncc2c1</th>\n",
       "      <th>block3_Nc1ccc2c(c1)CCC2=O</th>\n",
       "      <th>block3_Nc1ccc2c(c1)CNC2=O</th>\n",
       "      <th>block3_Nc1ccc2c(c1)COC2=O</th>\n",
       "      <th>block3_Nc1cccnc1F</th>\n",
       "      <th>block3_Nc1nc2ccccc2s1</th>\n",
       "      <th>block3_Nc1nc2nc[nH]c2c(=O)[nH]1</th>\n",
       "      <th>block3_Nc1nccs1</th>\n",
       "    </tr>\n",
       "  </thead>\n",
       "  <tbody>\n",
       "    <tr>\n",
       "      <th>0</th>\n",
       "      <td>0</td>\n",
       "      <td>0</td>\n",
       "      <td>0.0</td>\n",
       "      <td>0.0</td>\n",
       "      <td>0.0</td>\n",
       "      <td>0.0</td>\n",
       "      <td>0.0</td>\n",
       "      <td>0.0</td>\n",
       "      <td>0.0</td>\n",
       "      <td>0.0</td>\n",
       "      <td>...</td>\n",
       "      <td>0.0</td>\n",
       "      <td>0.0</td>\n",
       "      <td>0.0</td>\n",
       "      <td>0.0</td>\n",
       "      <td>0.0</td>\n",
       "      <td>0.0</td>\n",
       "      <td>0.0</td>\n",
       "      <td>0.0</td>\n",
       "      <td>0.0</td>\n",
       "      <td>0.0</td>\n",
       "    </tr>\n",
       "    <tr>\n",
       "      <th>1</th>\n",
       "      <td>1</td>\n",
       "      <td>0</td>\n",
       "      <td>0.0</td>\n",
       "      <td>0.0</td>\n",
       "      <td>0.0</td>\n",
       "      <td>0.0</td>\n",
       "      <td>0.0</td>\n",
       "      <td>0.0</td>\n",
       "      <td>0.0</td>\n",
       "      <td>0.0</td>\n",
       "      <td>...</td>\n",
       "      <td>0.0</td>\n",
       "      <td>0.0</td>\n",
       "      <td>0.0</td>\n",
       "      <td>0.0</td>\n",
       "      <td>0.0</td>\n",
       "      <td>0.0</td>\n",
       "      <td>0.0</td>\n",
       "      <td>0.0</td>\n",
       "      <td>1.0</td>\n",
       "      <td>0.0</td>\n",
       "    </tr>\n",
       "    <tr>\n",
       "      <th>2</th>\n",
       "      <td>2</td>\n",
       "      <td>0</td>\n",
       "      <td>0.0</td>\n",
       "      <td>0.0</td>\n",
       "      <td>0.0</td>\n",
       "      <td>0.0</td>\n",
       "      <td>0.0</td>\n",
       "      <td>0.0</td>\n",
       "      <td>0.0</td>\n",
       "      <td>0.0</td>\n",
       "      <td>...</td>\n",
       "      <td>0.0</td>\n",
       "      <td>0.0</td>\n",
       "      <td>0.0</td>\n",
       "      <td>0.0</td>\n",
       "      <td>0.0</td>\n",
       "      <td>0.0</td>\n",
       "      <td>0.0</td>\n",
       "      <td>0.0</td>\n",
       "      <td>0.0</td>\n",
       "      <td>0.0</td>\n",
       "    </tr>\n",
       "    <tr>\n",
       "      <th>3</th>\n",
       "      <td>3</td>\n",
       "      <td>0</td>\n",
       "      <td>0.0</td>\n",
       "      <td>0.0</td>\n",
       "      <td>0.0</td>\n",
       "      <td>0.0</td>\n",
       "      <td>0.0</td>\n",
       "      <td>0.0</td>\n",
       "      <td>0.0</td>\n",
       "      <td>0.0</td>\n",
       "      <td>...</td>\n",
       "      <td>0.0</td>\n",
       "      <td>0.0</td>\n",
       "      <td>0.0</td>\n",
       "      <td>0.0</td>\n",
       "      <td>0.0</td>\n",
       "      <td>0.0</td>\n",
       "      <td>0.0</td>\n",
       "      <td>0.0</td>\n",
       "      <td>0.0</td>\n",
       "      <td>0.0</td>\n",
       "    </tr>\n",
       "    <tr>\n",
       "      <th>4</th>\n",
       "      <td>4</td>\n",
       "      <td>0</td>\n",
       "      <td>0.0</td>\n",
       "      <td>0.0</td>\n",
       "      <td>0.0</td>\n",
       "      <td>0.0</td>\n",
       "      <td>0.0</td>\n",
       "      <td>0.0</td>\n",
       "      <td>0.0</td>\n",
       "      <td>0.0</td>\n",
       "      <td>...</td>\n",
       "      <td>0.0</td>\n",
       "      <td>0.0</td>\n",
       "      <td>0.0</td>\n",
       "      <td>0.0</td>\n",
       "      <td>0.0</td>\n",
       "      <td>0.0</td>\n",
       "      <td>0.0</td>\n",
       "      <td>0.0</td>\n",
       "      <td>0.0</td>\n",
       "      <td>0.0</td>\n",
       "    </tr>\n",
       "  </tbody>\n",
       "</table>\n",
       "<p>5 rows × 100 columns</p>\n",
       "</div>"
      ],
      "text/plain": [
       "   index  binds  block1_CC(C)(C)OC(=O)CCC(NC(=O)OCC1c2ccccc2-c2ccccc21)C(=O)O  \\\n",
       "0      0      0                                                0.0              \n",
       "1      1      0                                                0.0              \n",
       "2      2      0                                                0.0              \n",
       "3      3      0                                                0.0              \n",
       "4      4      0                                                0.0              \n",
       "\n",
       "   block1_CC(C)(C)OCC(NC(=O)OCC1c2ccccc2-c2ccccc21)C(=O)O  \\\n",
       "0                                                0.0        \n",
       "1                                                0.0        \n",
       "2                                                0.0        \n",
       "3                                                0.0        \n",
       "4                                                0.0        \n",
       "\n",
       "   block1_CC(C)CC(NC(=O)OCC1c2ccccc2-c2ccccc21)C(=O)O  \\\n",
       "0                                                0.0    \n",
       "1                                                0.0    \n",
       "2                                                0.0    \n",
       "3                                                0.0    \n",
       "4                                                0.0    \n",
       "\n",
       "   block1_CC(OC(C)(C)C)C(NC(=O)OCC1c2ccccc2-c2ccccc21)C(=O)O  \\\n",
       "0                                                0.0           \n",
       "1                                                0.0           \n",
       "2                                                0.0           \n",
       "3                                                0.0           \n",
       "4                                                0.0           \n",
       "\n",
       "   block1_N#Cc1ccc(C[C@@H](NC(=O)OCC2c3ccccc3-c3ccccc32)C(=O)O)cc1  \\\n",
       "0                                                0.0                 \n",
       "1                                                0.0                 \n",
       "2                                                0.0                 \n",
       "3                                                0.0                 \n",
       "4                                                0.0                 \n",
       "\n",
       "   block1_O=C(NC(CC1CCCCC1)C(=O)O)OCC1c2ccccc2-c2ccccc21  \\\n",
       "0                                                0.0       \n",
       "1                                                0.0       \n",
       "2                                                0.0       \n",
       "3                                                0.0       \n",
       "4                                                0.0       \n",
       "\n",
       "   block1_O=C(NC(CCc1ccccc1)C(=O)O)OCC1c2ccccc2-c2ccccc21  \\\n",
       "0                                                0.0        \n",
       "1                                                0.0        \n",
       "2                                                0.0        \n",
       "3                                                0.0        \n",
       "4                                                0.0        \n",
       "\n",
       "   block1_O=C(NC(Cc1ccccc1)C(=O)O)OCC1c2ccccc2-c2ccccc21  ...  \\\n",
       "0                                                0.0      ...   \n",
       "1                                                0.0      ...   \n",
       "2                                                0.0      ...   \n",
       "3                                                0.0      ...   \n",
       "4                                                0.0      ...   \n",
       "\n",
       "   block3_Nc1cc(Cl)c(O)c(Cl)c1  block3_Nc1cc(N2CCNCC2)ccc1[N+](=O)[O-]  \\\n",
       "0                          0.0                                     0.0   \n",
       "1                          0.0                                     0.0   \n",
       "2                          0.0                                     0.0   \n",
       "3                          0.0                                     0.0   \n",
       "4                          0.0                                     0.0   \n",
       "\n",
       "   block3_Nc1ccc2[nH]ncc2c1  block3_Nc1ccc2c(c1)CCC2=O  \\\n",
       "0                       0.0                        0.0   \n",
       "1                       0.0                        0.0   \n",
       "2                       0.0                        0.0   \n",
       "3                       0.0                        0.0   \n",
       "4                       0.0                        0.0   \n",
       "\n",
       "   block3_Nc1ccc2c(c1)CNC2=O  block3_Nc1ccc2c(c1)COC2=O  block3_Nc1cccnc1F  \\\n",
       "0                        0.0                        0.0                0.0   \n",
       "1                        0.0                        0.0                0.0   \n",
       "2                        0.0                        0.0                0.0   \n",
       "3                        0.0                        0.0                0.0   \n",
       "4                        0.0                        0.0                0.0   \n",
       "\n",
       "   block3_Nc1nc2ccccc2s1  block3_Nc1nc2nc[nH]c2c(=O)[nH]1  block3_Nc1nccs1  \n",
       "0                    0.0                              0.0              0.0  \n",
       "1                    0.0                              1.0              0.0  \n",
       "2                    0.0                              0.0              0.0  \n",
       "3                    0.0                              0.0              0.0  \n",
       "4                    0.0                              0.0              0.0  \n",
       "\n",
       "[5 rows x 100 columns]"
      ]
     },
     "execution_count": 35,
     "metadata": {},
     "output_type": "execute_result"
    }
   ],
   "source": [
    "brd4_train.head()"
   ]
  },
  {
   "cell_type": "markdown",
   "metadata": {},
   "source": [
    "El conjunto anterior será nuestro set de entrenamiento para los modelos de la proteina **BRD4** y así mismo su conjunto Y en el entrenamiento será \"bins\"."
   ]
  },
  {
   "cell_type": "code",
   "execution_count": 36,
   "metadata": {},
   "outputs": [
    {
     "data": {
      "text/plain": [
       "0        0\n",
       "1        0\n",
       "2        0\n",
       "3        0\n",
       "4        0\n",
       "        ..\n",
       "99995    0\n",
       "99996    0\n",
       "99997    0\n",
       "99998    0\n",
       "99999    0\n",
       "Name: binds, Length: 100000, dtype: int64"
      ]
     },
     "execution_count": 36,
     "metadata": {},
     "output_type": "execute_result"
    }
   ],
   "source": [
    "y_train_brd4"
   ]
  },
  {
   "cell_type": "markdown",
   "metadata": {},
   "source": [
    "# **Modelación: Punto 3**"
   ]
  },
  {
   "cell_type": "markdown",
   "metadata": {},
   "source": [
    "Como se explicó anteriormente, en esta sección se implementaran 3 modelos, uno por cada proteína objetivo con el fin de predecir si dada unos bloques de construcción de una molécula se da la unión con una de las 3 proteínas, se implementarán modelos de clasificación vistos en clase esta vez serán K-NN y regresión logística."
   ]
  },
  {
   "cell_type": "markdown",
   "metadata": {},
   "source": [
    "### ***SEH***"
   ]
  },
  {
   "cell_type": "code",
   "execution_count": 37,
   "metadata": {},
   "outputs": [],
   "source": [
    "X=x_train_seh.drop(columns=['binds'])\n",
    "y=y_train_seh"
   ]
  },
  {
   "cell_type": "code",
   "execution_count": 38,
   "metadata": {},
   "outputs": [],
   "source": [
    "X_trainval, X_test, y_trainval, y_test = train_test_split(X, y,stratify=y, random_state=11)"
   ]
  },
  {
   "cell_type": "markdown",
   "metadata": {},
   "source": [
    "#### **K-NN**"
   ]
  },
  {
   "cell_type": "code",
   "execution_count": 39,
   "metadata": {},
   "outputs": [
    {
     "name": "stdout",
     "output_type": "stream",
     "text": [
      "Mejores parámetros:  {'knn__n_neighbors': 14, 'knn__weights': 'distance'}\n",
      "Mejor score de entrenamiento:  0.8168980398319349\n",
      "Score en el conjunto de test:  0.8146045109396463\n"
     ]
    }
   ],
   "source": [
    "pipeline = Pipeline([('scaler',StandardScaler()),('knn', KNeighborsClassifier())])\n",
    "\n",
    "param_grid = [{\n",
    "    'knn__n_neighbors':range(3,15),\n",
    "    'knn__weights': ['uniform', 'distance']  \n",
    "}]\n",
    "\n",
    "k_fold = StratifiedKFold(n_splits=5, shuffle=True, random_state=11)\n",
    "\n",
    "grid_search_k = GridSearchCV(pipeline, param_grid, cv=k_fold, scoring='roc_auc', n_jobs=-1)\n",
    "\n",
    "grid_search_k.fit(X_trainval, y_trainval)\n",
    "\n",
    "best_parameters = grid_search_k.best_params_\n",
    "best_score = grid_search_k.best_score_\n",
    "\n",
    "model_pred_knn = grid_search_k.predict(X_test)\n",
    "prob_knn = grid_search_k.predict_proba(X_test)[:, 1]\n",
    "\n",
    "print(\"Mejores parámetros: \", best_parameters)\n",
    "print(\"Mejor score de entrenamiento: \", best_score)\n",
    "print('Score en el conjunto de test: ',roc_auc_score(y_test, prob_knn))"
   ]
  },
  {
   "cell_type": "markdown",
   "metadata": {},
   "source": [
    "Al hacer el respectivo GridSearch con Validación Cruzada nos arroja que el mejor parámetro para le modelo de K-NN es de K=14 vecinos más cercanos, con este parámetro se obtiene una métrica de ROC_AUC de 0.82 aproximadamente, teniendo en cuenta que esta métrica mide la capacidad que tiene el modelo de distinguir entre clases tiene todo el sentido que el modelo obtenga un buen AUC, puesto que el 99% de las clases de la variable respuesta es la 0, habría que revisar que pasa con las demás métricas. Vemos además que el score obtenido en el test, no es muy diferente, por tanto, no existe un sobre ajuste."
   ]
  },
  {
   "cell_type": "markdown",
   "metadata": {},
   "source": [
    "#### **Regresión logistica**"
   ]
  },
  {
   "cell_type": "code",
   "execution_count": 40,
   "metadata": {},
   "outputs": [
    {
     "name": "stdout",
     "output_type": "stream",
     "text": [
      "Mejores parámetros:  {'logreg__C': 0.01}\n",
      "Mejor score de entrenamiento:  0.9459628169486717\n",
      "Score en el conjunto de test:  0.9460246983012361\n"
     ]
    }
   ],
   "source": [
    "pipeline = Pipeline([('scaler', StandardScaler()), ('logreg', LogisticRegression(max_iter=1000))])\n",
    "\n",
    "param_grid = [{\n",
    "    'logreg__C': [0.01, 0.1, 1, 10, 100] \n",
    "}]\n",
    "\n",
    "k_fold = StratifiedKFold(n_splits=5, shuffle=True, random_state=11)\n",
    "\n",
    "grid_search_lr = GridSearchCV(pipeline, param_grid, cv=k_fold, scoring='roc_auc', n_jobs=-1)\n",
    "\n",
    "grid_search_lr.fit(X_trainval, y_trainval)\n",
    "\n",
    "best_parameters = grid_search_lr.best_params_\n",
    "best_score = grid_search_lr.best_score_\n",
    "\n",
    "model_pred_lr = grid_search_lr.predict(X_test)\n",
    "prob_lr = grid_search_lr.predict_proba(X_test)[:, 1]\n",
    "\n",
    "print(\"Mejores parámetros: \", best_parameters)\n",
    "print(\"Mejor score de entrenamiento: \", best_score)\n",
    "print('Score en el conjunto de test: ',roc_auc_score(y_test, prob_lr))"
   ]
  },
  {
   "cell_type": "markdown",
   "metadata": {},
   "source": [
    "En el modelo de regresión logística para la proteína SEH con mayor score AUC es de 0.94 con el mejor parámetro c=0.01, vemos que el score del modelo de regresión logística es mayor que en modelo de K-NN, lo que quiere decir que el modelo que mejor diferencia las clases es la regresión logística. Este mejor modelo se obtiene con el parámetro c =0.01 lo que indica que el modelo está regularizado y su complejidad no es tan alta, de igual forma no existe sobre ajuste, no hay diferencia significativa entre los scores de entrenamiento y test."
   ]
  },
  {
   "cell_type": "markdown",
   "metadata": {},
   "source": [
    "#### **Métricas**"
   ]
  },
  {
   "cell_type": "code",
   "execution_count": 41,
   "metadata": {},
   "outputs": [
    {
     "data": {
      "text/html": [
       "<div>\n",
       "<style scoped>\n",
       "    .dataframe tbody tr th:only-of-type {\n",
       "        vertical-align: middle;\n",
       "    }\n",
       "\n",
       "    .dataframe tbody tr th {\n",
       "        vertical-align: top;\n",
       "    }\n",
       "\n",
       "    .dataframe thead th {\n",
       "        text-align: right;\n",
       "    }\n",
       "</style>\n",
       "<table border=\"1\" class=\"dataframe\">\n",
       "  <thead>\n",
       "    <tr style=\"text-align: right;\">\n",
       "      <th></th>\n",
       "      <th></th>\n",
       "      <th>Precisión</th>\n",
       "      <th>Recall</th>\n",
       "      <th>F1 Score</th>\n",
       "      <th>AUC</th>\n",
       "    </tr>\n",
       "  </thead>\n",
       "  <tbody>\n",
       "    <tr>\n",
       "      <th>0</th>\n",
       "      <td>K-NN</td>\n",
       "      <td>0.483871</td>\n",
       "      <td>0.244565</td>\n",
       "      <td>0.324910</td>\n",
       "      <td>0.814605</td>\n",
       "    </tr>\n",
       "    <tr>\n",
       "      <th>1</th>\n",
       "      <td>Regresión Logística</td>\n",
       "      <td>0.607843</td>\n",
       "      <td>0.336957</td>\n",
       "      <td>0.433566</td>\n",
       "      <td>0.946025</td>\n",
       "    </tr>\n",
       "  </tbody>\n",
       "</table>\n",
       "</div>"
      ],
      "text/plain": [
       "                        Precisión    Recall  F1 Score       AUC\n",
       "0                 K-NN   0.483871  0.244565  0.324910  0.814605\n",
       "1  Regresión Logística   0.607843  0.336957  0.433566  0.946025"
      ]
     },
     "execution_count": 41,
     "metadata": {},
     "output_type": "execute_result"
    }
   ],
   "source": [
    "\n",
    "model_pred_knn = grid_search_k.predict(X_test)\n",
    "model_pred_lr = grid_search_lr.predict(X_test)\n",
    "\n",
    "prob_knn = grid_search_k.predict_proba(X_test)[:, 1]\n",
    "prob_lr = grid_search_lr.predict_proba(X_test)[:, 1]\n",
    "\n",
    "tabla2 = {\n",
    "    '': ['K-NN', 'Regresión Logística'],\n",
    "    'Precisión': [\n",
    "        precision_score(y_test, model_pred_knn, average='binary'),\n",
    "        precision_score(y_test, model_pred_lr, average='binary')\n",
    "    ],\n",
    "    'Recall': [\n",
    "        recall_score(y_test, model_pred_knn, average='binary'),\n",
    "        recall_score(y_test, model_pred_lr, average='binary')\n",
    "    ],\n",
    "    'F1 Score': [\n",
    "        f1_score(y_test, model_pred_knn, average='binary'),\n",
    "        f1_score(y_test, model_pred_lr, average='binary')\n",
    "    ],\n",
    "    'AUC': [\n",
    "        roc_auc_score(y_test, prob_knn),  \n",
    "        roc_auc_score(y_test, prob_lr)  \n",
    "    ]\n",
    "}\n",
    "\n",
    "tabla = pd.DataFrame(tabla2)\n",
    "tabla\n"
   ]
  },
  {
   "cell_type": "markdown",
   "metadata": {},
   "source": [
    "Si no ponemos a pensar la \"La métrica de negocio\" para este estudio es reducir los falsos positivos,  ya que el interés  del estudio es predecir si la molécula y la proteína se unen o no, no es favorecedor tener falsos positivos. Con esto en mente debemos revisar la métrica **Precisión**, vemos que el mejor score en precisión se da en el modelo de regresión logística con un score de 0.61 aproximadamente, a diferencia del modelo K-NN que obtuvo un precisión de 0.48."
   ]
  },
  {
   "cell_type": "markdown",
   "metadata": {},
   "source": [
    "#### **Curvas ROC y matrices de confución**"
   ]
  },
  {
   "cell_type": "markdown",
   "metadata": {},
   "source": [
    "**Curvas ROC**"
   ]
  },
  {
   "cell_type": "code",
   "execution_count": 75,
   "metadata": {},
   "outputs": [
    {
     "data": {
      "image/png": "[encoded data removed]",
      "text/plain": [
       "<Figure size 640x480 with 1 Axes>"
      ]
     },
     "metadata": {},
     "output_type": "display_data"
    }
   ],
   "source": [
    "\n",
    "probs_knn = grid_search_k.predict_proba(X_test)[:, 1] \n",
    "probs_lr = grid_search_lr.predict_proba(X_test)[:, 1]\n",
    "\n",
    "fpr_knn, tpr_knn, _ = roc_curve(y_test, probs_knn)\n",
    "fpr_lr, tpr_lr, _ = roc_curve(y_test, probs_lr)\n",
    "\n",
    "roc_auc_knn = auc(fpr_knn, tpr_knn)\n",
    "roc_auc_lr = auc(fpr_lr, tpr_lr)\n",
    "\n",
    "plt.figure()\n",
    "plt.plot(fpr_knn, tpr_knn, color='blue', lw=2, label=f'K-NN (AUC = {roc_auc_knn:.2f})')\n",
    "plt.plot(fpr_lr, tpr_lr, color='red', lw=2, label=f'Regresión Logística (AUC = {roc_auc_lr:.2f})')\n",
    "plt.plot([0, 1], [0, 1], color='gray', linestyle='--')\n",
    "plt.xlabel('Tasa de Falsos Positivos (FPR)')\n",
    "plt.ylabel('Tasa de Verdaderos Positivos (TPR)')\n",
    "plt.title('Curvas ROC')\n",
    "plt.legend(loc='lower right')\n",
    "plt.grid(True)\n",
    "plt.show()\n"
   ]
  },
  {
   "cell_type": "markdown",
   "metadata": {},
   "source": [
    "Representación gráfica de lo dicho anteriormente, mostrando que la regresión logística está más cerca de la esquina superior izquierda, confirmando que el modelo de reg. logística tiene mejor distinción entre las clases."
   ]
  },
  {
   "cell_type": "markdown",
   "metadata": {},
   "source": [
    "**Matrices de confución**"
   ]
  },
  {
   "cell_type": "code",
   "execution_count": 84,
   "metadata": {},
   "outputs": [
    {
     "data": {
      "image/png": "[encoded data removed]",
      "text/plain": [
       "<Figure size 1200x500 with 4 Axes>"
      ]
     },
     "metadata": {},
     "output_type": "display_data"
    }
   ],
   "source": [
    "conf_matrix_knn = confusion_matrix(y_test, model_pred_knn)\n",
    "conf_matrix_lr = confusion_matrix(y_test, model_pred_lr)\n",
    "\n",
    "fig, ax = plt.subplots(1, 2, figsize=(12, 5))\n",
    "\n",
    "ConfusionMatrixDisplay(conf_matrix_knn, display_labels=['Clase Negativa', 'Clase Positiva']).plot(ax=ax[0], cmap='Blues')\n",
    "ax[0].set_title('Matriz de Confusión - K-NN')\n",
    "\n",
    "ConfusionMatrixDisplay(conf_matrix_lr, display_labels=['Clase Negativa', 'Clase Positiva']).plot(ax=ax[1], cmap='Blues')\n",
    "ax[1].set_title('Matriz de Confusión - Regresión Logística')\n",
    "\n",
    "plt.tight_layout()\n",
    "plt.show()"
   ]
  },
  {
   "cell_type": "markdown",
   "metadata": {},
   "source": [
    "Las matrices de confusión nos muestran claramente en que afecta tener un conjunto de entrenamiento tan desbalanceado, en ambos modelos se entrenó muy bien como predecir la clase negativa, esto por consecuencia de tener la clase negativa como mayoritaria en el conjunto de entrenamiento, así, si vemos la cantidad de predicciones negativas que en realidad eran positivas son proporcionales en ambos modelos, al igual que los falsos positivos."
   ]
  },
  {
   "cell_type": "markdown",
   "metadata": {},
   "source": [
    "### ***HSA***"
   ]
  },
  {
   "cell_type": "code",
   "execution_count": 42,
   "metadata": {},
   "outputs": [],
   "source": [
    "X=hsa_train.drop(columns=['binds'])\n",
    "y=y_train_hsa"
   ]
  },
  {
   "cell_type": "code",
   "execution_count": 43,
   "metadata": {},
   "outputs": [],
   "source": [
    "X_trainval, X_test, y_trainval, y_test = train_test_split(X, y,stratify=y, random_state=8)"
   ]
  },
  {
   "cell_type": "markdown",
   "metadata": {},
   "source": [
    "#### **K-NN**"
   ]
  },
  {
   "cell_type": "code",
   "execution_count": 44,
   "metadata": {},
   "outputs": [
    {
     "name": "stdout",
     "output_type": "stream",
     "text": [
      "Mejores parámetros:  {'knn__n_neighbors': 30, 'knn__weights': 'distance'}\n",
      "Mejor score de entrenamiento:  0.7269284811010341\n",
      "Score en el conjunto de test:  0.6988078097192011\n"
     ]
    }
   ],
   "source": [
    "pipeline = Pipeline([('scaler',StandardScaler()),('knn', KNeighborsClassifier())])\n",
    "\n",
    "param_grid = [{\n",
    "    'knn__n_neighbors':[10,15,25,30,],\n",
    "    'knn__weights': ['uniform', 'distance'] \n",
    "}]\n",
    "\n",
    "k_fold = StratifiedKFold(n_splits=5, shuffle=True, random_state=8)\n",
    "\n",
    "grid_search_k = GridSearchCV(pipeline, param_grid, cv=k_fold, scoring='roc_auc', n_jobs=-1)\n",
    "\n",
    "grid_search_k.fit(X_trainval, y_trainval)\n",
    "\n",
    "best_parameters = grid_search_k.best_params_\n",
    "best_score = grid_search_k.best_score_\n",
    "\n",
    "model_pred_knn = grid_search_k.predict(X_test)\n",
    "prob_knn = grid_search_k.predict_proba(X_test)[:, 1]\n",
    "roc_auc_score(y_test, prob_knn)\n",
    "\n",
    "print(\"Mejores parámetros: \", best_parameters)\n",
    "print(\"Mejor score de entrenamiento: \", best_score)\n",
    "print('Score en el conjunto de test: ',roc_auc_score(y_test, prob_knn))"
   ]
  },
  {
   "cell_type": "markdown",
   "metadata": {},
   "source": [
    "Para este primer modelo de la proteína HSA, luego de implementar la respectiva validación cruzada y GridSearch se escogió como mejor modelo a aquel con parámetro k = 30, con un score en el entrenamiento de 0.72, pero vemos que si comparamos este score con el score obtenido en el conjunto de test que es de 0.70 aproximadamente, se llega a la conclusión de que hay un pequeño sobre ajuste, se debería evaluar si la diferencia es significativa o no."
   ]
  },
  {
   "cell_type": "markdown",
   "metadata": {},
   "source": [
    "#### **Regresión logística.**"
   ]
  },
  {
   "cell_type": "code",
   "execution_count": 45,
   "metadata": {},
   "outputs": [
    {
     "name": "stdout",
     "output_type": "stream",
     "text": [
      "Mejores parámetros:  {'logreg__C': 0.1}\n",
      "Mejor score de entrenamiento:  0.8833895826752356\n",
      "Score en el conjunto de test:  0.9068030700019776\n"
     ]
    }
   ],
   "source": [
    "pipeline = Pipeline([('scaler', StandardScaler()), ('logreg', LogisticRegression(max_iter=1000))])\n",
    "\n",
    "param_grid = [{\n",
    "    'logreg__C': [0.01, 0.1, 1, 10, 100] \n",
    "}]\n",
    "\n",
    "k_fold = StratifiedKFold(n_splits=5, shuffle=True, random_state=11)\n",
    "\n",
    "grid_search_lr = GridSearchCV(pipeline, param_grid, cv=k_fold, scoring='roc_auc', n_jobs=-1)\n",
    "\n",
    "grid_search_lr.fit(X_trainval, y_trainval)\n",
    "\n",
    "best_parameters = grid_search_lr.best_params_\n",
    "best_score = grid_search_lr.best_score_\n",
    "\n",
    "model_pred_lr = grid_search_lr.predict(X_test)\n",
    "prob_lr = grid_search_lr.predict_proba(X_test)[:, 1]\n",
    "\n",
    "print(\"Mejores parámetros: \", best_parameters)\n",
    "print(\"Mejor score de entrenamiento: \", best_score)\n",
    "print('Score en el conjunto de test: ',roc_auc_score(y_test, prob_lr))"
   ]
  },
  {
   "cell_type": "markdown",
   "metadata": {},
   "source": [
    "Por parte del modelo de regresión logística, se obtiene que el mejor modelo es aquel con un parámetro c= 0.1 que si vemos es el mismo parámetro del modelo logístico de la primera proteína, el score de este modelo es de 0.88, además en el conjunto de test se obtuvo un buen score, siendo este de 0.90"
   ]
  },
  {
   "cell_type": "markdown",
   "metadata": {},
   "source": [
    "#### **Métricas.**"
   ]
  },
  {
   "cell_type": "code",
   "execution_count": 46,
   "metadata": {},
   "outputs": [
    {
     "data": {
      "text/html": [
       "<div>\n",
       "<style scoped>\n",
       "    .dataframe tbody tr th:only-of-type {\n",
       "        vertical-align: middle;\n",
       "    }\n",
       "\n",
       "    .dataframe tbody tr th {\n",
       "        vertical-align: top;\n",
       "    }\n",
       "\n",
       "    .dataframe thead th {\n",
       "        text-align: right;\n",
       "    }\n",
       "</style>\n",
       "<table border=\"1\" class=\"dataframe\">\n",
       "  <thead>\n",
       "    <tr style=\"text-align: right;\">\n",
       "      <th></th>\n",
       "      <th></th>\n",
       "      <th>Precisión</th>\n",
       "      <th>Recall</th>\n",
       "      <th>F1 Score</th>\n",
       "      <th>AUC</th>\n",
       "    </tr>\n",
       "  </thead>\n",
       "  <tbody>\n",
       "    <tr>\n",
       "      <th>0</th>\n",
       "      <td>K-NN</td>\n",
       "      <td>0.214286</td>\n",
       "      <td>0.028846</td>\n",
       "      <td>0.050847</td>\n",
       "      <td>0.698808</td>\n",
       "    </tr>\n",
       "    <tr>\n",
       "      <th>1</th>\n",
       "      <td>Regresión Logística</td>\n",
       "      <td>0.375000</td>\n",
       "      <td>0.057692</td>\n",
       "      <td>0.100000</td>\n",
       "      <td>0.906803</td>\n",
       "    </tr>\n",
       "  </tbody>\n",
       "</table>\n",
       "</div>"
      ],
      "text/plain": [
       "                        Precisión    Recall  F1 Score       AUC\n",
       "0                 K-NN   0.214286  0.028846  0.050847  0.698808\n",
       "1  Regresión Logística   0.375000  0.057692  0.100000  0.906803"
      ]
     },
     "execution_count": 46,
     "metadata": {},
     "output_type": "execute_result"
    }
   ],
   "source": [
    "model_pred_knn = grid_search_k.predict(X_test)\n",
    "model_pred_lr = grid_search_lr.predict(X_test)\n",
    "\n",
    "prob_knn = grid_search_k.predict_proba(X_test)[:, 1]\n",
    "prob_lr = grid_search_lr.predict_proba(X_test)[:, 1]\n",
    "\n",
    "tabla2 = {\n",
    "    '': ['K-NN', 'Regresión Logística'],\n",
    "    'Precisión': [\n",
    "        precision_score(y_test, model_pred_knn, average='binary'),\n",
    "        precision_score(y_test, model_pred_lr, average='binary')\n",
    "    ],\n",
    "    'Recall': [\n",
    "        recall_score(y_test, model_pred_knn, average='binary'),\n",
    "        recall_score(y_test, model_pred_lr, average='binary')\n",
    "    ],\n",
    "    'F1 Score': [\n",
    "        f1_score(y_test, model_pred_knn, average='binary'),\n",
    "        f1_score(y_test, model_pred_lr, average='binary')\n",
    "    ],\n",
    "    'AUC': [\n",
    "        roc_auc_score(y_test, prob_knn),  \n",
    "        roc_auc_score(y_test, prob_lr)  \n",
    "    ]\n",
    "}\n",
    "\n",
    "tabla = pd.DataFrame(tabla2)\n",
    "tabla"
   ]
  },
  {
   "cell_type": "markdown",
   "metadata": {},
   "source": [
    "Evaluando las diferentes métricas presentadas en la tabla anterior, podemos ver que estas son un poco bajas en comparación a las obtenidas en los modelos de la proteína SEH. Evaluando la métrica de negocio, que en este caso es precisión, vemos que en ambos modelos es muy baja, así que estos modelos no están captando de forma correcta la clase positiva de la variable respuesta, esto se verá más claro en la matriz de confusión."
   ]
  },
  {
   "cell_type": "markdown",
   "metadata": {},
   "source": [
    "#### **Curvas ROC y matrices de confusión.**"
   ]
  },
  {
   "cell_type": "markdown",
   "metadata": {},
   "source": [
    "**Curvas ROC**"
   ]
  },
  {
   "cell_type": "code",
   "execution_count": 126,
   "metadata": {},
   "outputs": [
    {
     "data": {
      "image/png": "[encoded data removed]",
      "text/plain": [
       "<Figure size 640x480 with 1 Axes>"
      ]
     },
     "metadata": {},
     "output_type": "display_data"
    }
   ],
   "source": [
    "probs_knn = grid_search_k.predict_proba(X_test)[:, 1] \n",
    "probs_lr = grid_search_lr.predict_proba(X_test)[:, 1]\n",
    "\n",
    "fpr_knn, tpr_knn, _ = roc_curve(y_test, probs_knn)\n",
    "fpr_lr, tpr_lr, _ = roc_curve(y_test, probs_lr)\n",
    "\n",
    "roc_auc_knn = auc(fpr_knn, tpr_knn)\n",
    "roc_auc_lr = auc(fpr_lr, tpr_lr)\n",
    "\n",
    "plt.figure()\n",
    "plt.plot(fpr_knn, tpr_knn, color='blue', lw=2, label=f'K-NN (AUC = {roc_auc_knn:.2f})')\n",
    "plt.plot(fpr_lr, tpr_lr, color='red', lw=2, label=f'Regresión Logística (AUC = {roc_auc_lr:.2f})')\n",
    "plt.plot([0, 1], [0, 1], color='gray', linestyle='--')\n",
    "plt.xlabel('Tasa de Falsos Positivos (FPR)')\n",
    "plt.ylabel('Tasa de Verdaderos Positivos (TPR)')\n",
    "plt.title('Curvas ROC')\n",
    "plt.legend(loc='lower right')\n",
    "plt.grid(True)\n",
    "plt.show()"
   ]
  },
  {
   "cell_type": "markdown",
   "metadata": {},
   "source": [
    "En los gráficos de las curvas ROC de ambos modelos, vemos como efectivamente el modelo de regresión logística capta de mejor manera las diferentes clases, a diferencia del modelo K-NN que tiene un score más regular."
   ]
  },
  {
   "cell_type": "markdown",
   "metadata": {},
   "source": [
    "**Matrices de confisión.**"
   ]
  },
  {
   "cell_type": "code",
   "execution_count": 127,
   "metadata": {},
   "outputs": [
    {
     "data": {
      "image/png": "[encoded data removed]",
      "text/plain": [
       "<Figure size 1200x500 with 4 Axes>"
      ]
     },
     "metadata": {},
     "output_type": "display_data"
    }
   ],
   "source": [
    "conf_matrix_knn = confusion_matrix(y_test, model_pred_knn)\n",
    "conf_matrix_lr = confusion_matrix(y_test, model_pred_lr)\n",
    "\n",
    "fig, ax = plt.subplots(1, 2, figsize=(12, 5))\n",
    "\n",
    "ConfusionMatrixDisplay(conf_matrix_knn, display_labels=['Clase Negativa', 'Clase Positiva']).plot(ax=ax[0], cmap='Blues')\n",
    "ax[0].set_title('Matriz de Confusión - K-NN')\n",
    "\n",
    "ConfusionMatrixDisplay(conf_matrix_lr, display_labels=['Clase Negativa', 'Clase Positiva']).plot(ax=ax[1], cmap='Blues')\n",
    "ax[1].set_title('Matriz de Confusión - Regresión Logística')\n",
    "\n",
    "plt.tight_layout()\n",
    "plt.show()"
   ]
  },
  {
   "cell_type": "markdown",
   "metadata": {},
   "source": [
    "Como lo mencionábamos anteriormente, en ambas matrices se puede observar como el modelo es capaz de predecir muy bien la clase negativa, pero la clase positiva es muy pequeña en comparación, esto por supuesto debido al gran desbalance que se encuentra en el conjunto de entrenamiento, además hablábamos un poco de como la métrica de Precisión es muy baja en ambos modelos y pues se ve claramente porque, ya que los modelos no logran captar bien la clase positiva."
   ]
  },
  {
   "cell_type": "markdown",
   "metadata": {},
   "source": [
    "### **BRD4**"
   ]
  },
  {
   "cell_type": "code",
   "execution_count": 47,
   "metadata": {},
   "outputs": [],
   "source": [
    "X=brd4_train.drop(columns=['binds'])\n",
    "y=y_train_brd4"
   ]
  },
  {
   "cell_type": "code",
   "execution_count": 48,
   "metadata": {},
   "outputs": [],
   "source": [
    "X_trainval, X_test, y_trainval, y_test = train_test_split(X, y,stratify=y, random_state=8)"
   ]
  },
  {
   "cell_type": "markdown",
   "metadata": {},
   "source": [
    "#### **K-NN**"
   ]
  },
  {
   "cell_type": "code",
   "execution_count": 49,
   "metadata": {},
   "outputs": [
    {
     "name": "stdout",
     "output_type": "stream",
     "text": [
      "Mejores parámetros:  {'knn__n_neighbors': 60, 'knn__weights': 'distance'}\n",
      "Mejor score de entrenamiento:  0.8257008635190584\n",
      "Score en el conjunto de test:  0.8658949941521765\n"
     ]
    }
   ],
   "source": [
    "pipeline = Pipeline([('scaler',StandardScaler()),('knn', KNeighborsClassifier())])\n",
    "\n",
    "param_grid = [{\n",
    "    'knn__n_neighbors':[30,35,40,45,50,60],\n",
    "    'knn__weights': ['uniform', 'distance']  \n",
    "}]\n",
    "\n",
    "k_fold = StratifiedKFold(n_splits=5, shuffle=True, random_state=8)\n",
    "\n",
    "grid_search_k = GridSearchCV(pipeline, param_grid, cv=k_fold, scoring='roc_auc', n_jobs=-1)\n",
    "\n",
    "grid_search_k.fit(X_trainval, y_trainval)\n",
    "\n",
    "best_parameters = grid_search_k.best_params_\n",
    "best_score = grid_search_k.best_score_\n",
    "\n",
    "model_pred_knn = grid_search_k.predict(X_test)\n",
    "prob_knn = grid_search_k.predict_proba(X_test)[:, 1]\n",
    "roc_auc_score(y_test, prob_knn)\n",
    "\n",
    "print(\"Mejores parámetros: \", best_parameters)\n",
    "print(\"Mejor score de entrenamiento: \", best_score)\n",
    "print('Score en el conjunto de test: ',roc_auc_score(y_test, prob_knn))"
   ]
  },
  {
   "cell_type": "markdown",
   "metadata": {},
   "source": [
    "Para la tercera proteína de interés, el BRD4, se obtuvo como mejor modelo, aquel con parámetro k=60, con un score en la métrica AUC de 0.82. Siendo este un score bastante adecuado, vemos que no se generó sobre ajuste, puesto que el score en el conjunto de test es de 0.86"
   ]
  },
  {
   "cell_type": "markdown",
   "metadata": {},
   "source": [
    "#### **Regresión logística.**"
   ]
  },
  {
   "cell_type": "code",
   "execution_count": 50,
   "metadata": {},
   "outputs": [
    {
     "name": "stdout",
     "output_type": "stream",
     "text": [
      "Mejores parámetros:  {'logreg__C': 0.01}\n",
      "Mejor score de entrenamientp:  0.9250193381948184\n",
      "Score en el conjunto de test:  0.9633045607480779\n"
     ]
    }
   ],
   "source": [
    "pipeline = Pipeline([('scaler', StandardScaler()), ('logreg', LogisticRegression(max_iter=1000))])\n",
    "\n",
    "param_grid = [{\n",
    "    'logreg__C': [0.01, 0.1, 1, 10, 100]  \n",
    "}]\n",
    "\n",
    "k_fold = StratifiedKFold(n_splits=5, shuffle=True, random_state=11)\n",
    "\n",
    "grid_search_lr = GridSearchCV(pipeline, param_grid, cv=k_fold, scoring='roc_auc', n_jobs=-1)\n",
    "\n",
    "grid_search_lr.fit(X_trainval, y_trainval)\n",
    "\n",
    "best_parameters = grid_search_lr.best_params_\n",
    "best_score = grid_search_lr.best_score_\n",
    "\n",
    "model_pred_lr = grid_search_lr.predict(X_test)\n",
    "prob_lr = grid_search_lr.predict_proba(X_test)[:, 1]\n",
    "\n",
    "print(\"Mejores parámetros: \", best_parameters)\n",
    "print(\"Mejor score de entrenamientp: \", best_score)\n",
    "print('Score en el conjunto de test: ',roc_auc_score(y_test, prob_lr))\n"
   ]
  },
  {
   "cell_type": "markdown",
   "metadata": {},
   "source": [
    "Por el lado del modelo de regresión logística vemos que el mejor parámetro no varió entre los otros 2 modelos logísticos con una c=0.01, este caso, para la proteína BRD4 se obtuvo un score en el conjunto de entrenamiento de 0.92 y en el conjunto de test de 0.96, ambos scores bastante buenos y si generar sobre ajuste."
   ]
  },
  {
   "cell_type": "markdown",
   "metadata": {},
   "source": [
    "#### **Métricas**"
   ]
  },
  {
   "cell_type": "code",
   "execution_count": 132,
   "metadata": {},
   "outputs": [
    {
     "data": {
      "text/html": [
       "<div>\n",
       "<style scoped>\n",
       "    .dataframe tbody tr th:only-of-type {\n",
       "        vertical-align: middle;\n",
       "    }\n",
       "\n",
       "    .dataframe tbody tr th {\n",
       "        vertical-align: top;\n",
       "    }\n",
       "\n",
       "    .dataframe thead th {\n",
       "        text-align: right;\n",
       "    }\n",
       "</style>\n",
       "<table border=\"1\" class=\"dataframe\">\n",
       "  <thead>\n",
       "    <tr style=\"text-align: right;\">\n",
       "      <th></th>\n",
       "      <th></th>\n",
       "      <th>Precisión</th>\n",
       "      <th>Recall</th>\n",
       "      <th>F1 Score</th>\n",
       "      <th>AUC</th>\n",
       "    </tr>\n",
       "  </thead>\n",
       "  <tbody>\n",
       "    <tr>\n",
       "      <th>0</th>\n",
       "      <td>K-NN</td>\n",
       "      <td>0.148148</td>\n",
       "      <td>0.034483</td>\n",
       "      <td>0.055944</td>\n",
       "      <td>0.865895</td>\n",
       "    </tr>\n",
       "    <tr>\n",
       "      <th>1</th>\n",
       "      <td>Regresión Logística</td>\n",
       "      <td>0.580645</td>\n",
       "      <td>0.155172</td>\n",
       "      <td>0.244898</td>\n",
       "      <td>0.963305</td>\n",
       "    </tr>\n",
       "  </tbody>\n",
       "</table>\n",
       "</div>"
      ],
      "text/plain": [
       "                        Precisión    Recall  F1 Score       AUC\n",
       "0                 K-NN   0.148148  0.034483  0.055944  0.865895\n",
       "1  Regresión Logística   0.580645  0.155172  0.244898  0.963305"
      ]
     },
     "execution_count": 132,
     "metadata": {},
     "output_type": "execute_result"
    }
   ],
   "source": [
    "model_pred_knn = grid_search_k.predict(X_test)\n",
    "model_pred_lr = grid_search_lr.predict(X_test)\n",
    "\n",
    "prob_knn = grid_search_k.predict_proba(X_test)[:, 1]\n",
    "prob_lr = grid_search_lr.predict_proba(X_test)[:, 1]\n",
    "\n",
    "tabla2 = {\n",
    "    '': ['K-NN', 'Regresión Logística'],\n",
    "    'Precisión': [\n",
    "        precision_score(y_test, model_pred_knn, average='binary'),\n",
    "        precision_score(y_test, model_pred_lr, average='binary')\n",
    "    ],\n",
    "    'Recall': [\n",
    "        recall_score(y_test, model_pred_knn, average='binary'),\n",
    "        recall_score(y_test, model_pred_lr, average='binary')\n",
    "    ],\n",
    "    'F1 Score': [\n",
    "        f1_score(y_test, model_pred_knn, average='binary'),\n",
    "        f1_score(y_test, model_pred_lr, average='binary')\n",
    "    ],\n",
    "    'AUC': [\n",
    "        roc_auc_score(y_test, prob_knn),  \n",
    "        roc_auc_score(y_test, prob_lr)  \n",
    "    ]\n",
    "}\n",
    "\n",
    "tabla = pd.DataFrame(tabla2)\n",
    "tabla"
   ]
  },
  {
   "cell_type": "markdown",
   "metadata": {},
   "source": [
    "Si comparamos nuestra métrica de negocio en estos últimos dos modelos, vemos que por parte del K-NN la precisión es bastante baja, lo que nos da a entender que su predicción en la clase positiva no es buena a comparación del modelo logístico que obtuvo un score más moderado de 0.58"
   ]
  },
  {
   "cell_type": "markdown",
   "metadata": {},
   "source": [
    "#### **Curvas ROC y matrices de confusión**"
   ]
  },
  {
   "cell_type": "markdown",
   "metadata": {},
   "source": [
    "**Curvas ROC**"
   ]
  },
  {
   "cell_type": "code",
   "execution_count": 133,
   "metadata": {},
   "outputs": [
    {
     "data": {
      "image/png": "[encoded data removed]",
      "text/plain": [
       "<Figure size 640x480 with 1 Axes>"
      ]
     },
     "metadata": {},
     "output_type": "display_data"
    }
   ],
   "source": [
    "probs_knn = grid_search_k.predict_proba(X_test)[:, 1] \n",
    "probs_lr = grid_search_lr.predict_proba(X_test)[:, 1]\n",
    "\n",
    "fpr_knn, tpr_knn, _ = roc_curve(y_test, probs_knn)\n",
    "fpr_lr, tpr_lr, _ = roc_curve(y_test, probs_lr)\n",
    "\n",
    "roc_auc_knn = auc(fpr_knn, tpr_knn)\n",
    "roc_auc_lr = auc(fpr_lr, tpr_lr)\n",
    "\n",
    "plt.figure()\n",
    "plt.plot(fpr_knn, tpr_knn, color='blue', lw=2, label=f'K-NN (AUC = {roc_auc_knn:.2f})')\n",
    "plt.plot(fpr_lr, tpr_lr, color='red', lw=2, label=f'Regresión Logística (AUC = {roc_auc_lr:.2f})')\n",
    "plt.plot([0, 1], [0, 1], color='gray', linestyle='--')\n",
    "plt.xlabel('Tasa de Falsos Positivos (FPR)')\n",
    "plt.ylabel('Tasa de Verdaderos Positivos (TPR)')\n",
    "plt.title('Curvas ROC')\n",
    "plt.legend(loc='lower right')\n",
    "plt.grid(True)\n",
    "plt.show()"
   ]
  },
  {
   "cell_type": "markdown",
   "metadata": {},
   "source": [
    "**Matrices de confusión**"
   ]
  },
  {
   "cell_type": "code",
   "execution_count": 134,
   "metadata": {},
   "outputs": [
    {
     "data": {
      "image/png": "[encoded data removed]",
      "text/plain": [
       "<Figure size 1200x500 with 4 Axes>"
      ]
     },
     "metadata": {},
     "output_type": "display_data"
    }
   ],
   "source": [
    "conf_matrix_knn = confusion_matrix(y_test, model_pred_knn)\n",
    "conf_matrix_lr = confusion_matrix(y_test, model_pred_lr)\n",
    "\n",
    "# Crear las visualizaciones de las matrices de confusión\n",
    "fig, ax = plt.subplots(1, 2, figsize=(12, 5))\n",
    "\n",
    "# Matriz de confusión para K-NN\n",
    "ConfusionMatrixDisplay(conf_matrix_knn, display_labels=['Clase Negativa', 'Clase Positiva']).plot(ax=ax[0], cmap='Blues')\n",
    "ax[0].set_title('Matriz de Confusión - K-NN')\n",
    "\n",
    "# Matriz de confusión para Regresión Logística\n",
    "ConfusionMatrixDisplay(conf_matrix_lr, display_labels=['Clase Negativa', 'Clase Positiva']).plot(ax=ax[1], cmap='Blues')\n",
    "ax[1].set_title('Matriz de Confusión - Regresión Logística')\n",
    "\n",
    "plt.tight_layout()\n",
    "plt.show()"
   ]
  },
  {
   "cell_type": "markdown",
   "metadata": {},
   "source": [
    "Como se mencionó al momento de evaluar las métricas obtenidas, el modelo K-NN en su matriz de confusión muestra gráficamente por qué es que su Recoll es tan bajo, pues su proporción de predicciones correctas que si eran correctas es muy pequeña en comparación a las predicciones de la clase negativa, y como hemos venido diciendo, esto es por consecuencia de trabajar con un conjunto de datos de entrenamiento muy desbalanceado y si recordamos el EDA de este trabajo, el conjunto de datos de la proteína BRD4 era el más desbalanceado de los 3. Del lado derecho, en la matriz del modelo logístico, vemos que este sí logra captar un poco más la categoría positiva a diferencia del otro modelo."
   ]
  }
 ],
 "metadata": {
  "kernelspec": {
   "display_name": "ml_venv",
   "language": "python",
   "name": "python3"
  },
  "language_info": {
   "codemirror_mode": {
    "name": "ipython",
    "version": 3
   },
   "file_extension": ".py",
   "mimetype": "text/x-python",
   "name": "python",
   "nbconvert_exporter": "python",
   "pygments_lexer": "ipython3",
   "version": "3.9.19"
  }
 },
 "nbformat": 4,
 "nbformat_minor": 2
}
